{
 "cells": [
  {
   "cell_type": "code",
   "execution_count": 1,
   "metadata": {
    "id": "f18GPGksizSq"
   },
   "outputs": [],
   "source": [
    "import numpy as np\n",
    "import matplotlib.pyplot as plt\n",
    "import pandas as pd\n",
    "\n",
    "import yfinance as yf\n"
   ]
  },
  {
   "cell_type": "code",
   "execution_count": null,
   "metadata": {},
   "outputs": [],
   "source": [
    "\n"
   ]
  },
  {
   "cell_type": "code",
   "execution_count": 2,
   "metadata": {
    "colab": {
     "base_uri": "https://localhost:8080/"
    },
    "id": "-1pPD3UFlMpr",
    "outputId": "6d3f4d19-cd00-41c7-f7cf-8e38eb13044e"
   },
   "outputs": [
    {
     "name": "stderr",
     "output_type": "stream",
     "text": [
      "[*********************100%%**********************]  1 of 1 completed\n"
     ]
    }
   ],
   "source": [
    "start='2010-01-01'\n",
    "end='2024-06-30'\n",
    "df=yf.download('TSLA',start,end)\n"
   ]
  },
  {
   "cell_type": "code",
   "execution_count": 3,
   "metadata": {
    "colab": {
     "base_uri": "https://localhost:8080/",
     "height": 237
    },
    "id": "oGX5x6_VlWai",
    "outputId": "f484b97f-f697-4fe7-999d-6df2bbb6310e"
   },
   "outputs": [
    {
     "data": {
      "text/html": [
       "<div>\n",
       "<style scoped>\n",
       "    .dataframe tbody tr th:only-of-type {\n",
       "        vertical-align: middle;\n",
       "    }\n",
       "\n",
       "    .dataframe tbody tr th {\n",
       "        vertical-align: top;\n",
       "    }\n",
       "\n",
       "    .dataframe thead th {\n",
       "        text-align: right;\n",
       "    }\n",
       "</style>\n",
       "<table border=\"1\" class=\"dataframe\">\n",
       "  <thead>\n",
       "    <tr style=\"text-align: right;\">\n",
       "      <th></th>\n",
       "      <th>Open</th>\n",
       "      <th>High</th>\n",
       "      <th>Low</th>\n",
       "      <th>Close</th>\n",
       "      <th>Adj Close</th>\n",
       "      <th>Volume</th>\n",
       "    </tr>\n",
       "    <tr>\n",
       "      <th>Date</th>\n",
       "      <th></th>\n",
       "      <th></th>\n",
       "      <th></th>\n",
       "      <th></th>\n",
       "      <th></th>\n",
       "      <th></th>\n",
       "    </tr>\n",
       "  </thead>\n",
       "  <tbody>\n",
       "    <tr>\n",
       "      <th>2010-06-29</th>\n",
       "      <td>1.266667</td>\n",
       "      <td>1.666667</td>\n",
       "      <td>1.169333</td>\n",
       "      <td>1.592667</td>\n",
       "      <td>1.592667</td>\n",
       "      <td>281494500</td>\n",
       "    </tr>\n",
       "    <tr>\n",
       "      <th>2010-06-30</th>\n",
       "      <td>1.719333</td>\n",
       "      <td>2.028000</td>\n",
       "      <td>1.553333</td>\n",
       "      <td>1.588667</td>\n",
       "      <td>1.588667</td>\n",
       "      <td>257806500</td>\n",
       "    </tr>\n",
       "    <tr>\n",
       "      <th>2010-07-01</th>\n",
       "      <td>1.666667</td>\n",
       "      <td>1.728000</td>\n",
       "      <td>1.351333</td>\n",
       "      <td>1.464000</td>\n",
       "      <td>1.464000</td>\n",
       "      <td>123282000</td>\n",
       "    </tr>\n",
       "    <tr>\n",
       "      <th>2010-07-02</th>\n",
       "      <td>1.533333</td>\n",
       "      <td>1.540000</td>\n",
       "      <td>1.247333</td>\n",
       "      <td>1.280000</td>\n",
       "      <td>1.280000</td>\n",
       "      <td>77097000</td>\n",
       "    </tr>\n",
       "    <tr>\n",
       "      <th>2010-07-06</th>\n",
       "      <td>1.333333</td>\n",
       "      <td>1.333333</td>\n",
       "      <td>1.055333</td>\n",
       "      <td>1.074000</td>\n",
       "      <td>1.074000</td>\n",
       "      <td>103003500</td>\n",
       "    </tr>\n",
       "  </tbody>\n",
       "</table>\n",
       "</div>"
      ],
      "text/plain": [
       "                Open      High       Low     Close  Adj Close     Volume\n",
       "Date                                                                    \n",
       "2010-06-29  1.266667  1.666667  1.169333  1.592667   1.592667  281494500\n",
       "2010-06-30  1.719333  2.028000  1.553333  1.588667   1.588667  257806500\n",
       "2010-07-01  1.666667  1.728000  1.351333  1.464000   1.464000  123282000\n",
       "2010-07-02  1.533333  1.540000  1.247333  1.280000   1.280000   77097000\n",
       "2010-07-06  1.333333  1.333333  1.055333  1.074000   1.074000  103003500"
      ]
     },
     "execution_count": 3,
     "metadata": {},
     "output_type": "execute_result"
    }
   ],
   "source": [
    "df.head()"
   ]
  },
  {
   "cell_type": "code",
   "execution_count": 4,
   "metadata": {
    "colab": {
     "base_uri": "https://localhost:8080/",
     "height": 237
    },
    "id": "hd9p5DfllXer",
    "outputId": "a2deb31c-f869-4f4f-fbb4-82854d55acfc"
   },
   "outputs": [
    {
     "data": {
      "text/html": [
       "<div>\n",
       "<style scoped>\n",
       "    .dataframe tbody tr th:only-of-type {\n",
       "        vertical-align: middle;\n",
       "    }\n",
       "\n",
       "    .dataframe tbody tr th {\n",
       "        vertical-align: top;\n",
       "    }\n",
       "\n",
       "    .dataframe thead th {\n",
       "        text-align: right;\n",
       "    }\n",
       "</style>\n",
       "<table border=\"1\" class=\"dataframe\">\n",
       "  <thead>\n",
       "    <tr style=\"text-align: right;\">\n",
       "      <th></th>\n",
       "      <th>Open</th>\n",
       "      <th>High</th>\n",
       "      <th>Low</th>\n",
       "      <th>Close</th>\n",
       "      <th>Adj Close</th>\n",
       "      <th>Volume</th>\n",
       "    </tr>\n",
       "    <tr>\n",
       "      <th>Date</th>\n",
       "      <th></th>\n",
       "      <th></th>\n",
       "      <th></th>\n",
       "      <th></th>\n",
       "      <th></th>\n",
       "      <th></th>\n",
       "    </tr>\n",
       "  </thead>\n",
       "  <tbody>\n",
       "    <tr>\n",
       "      <th>2024-06-24</th>\n",
       "      <td>184.970001</td>\n",
       "      <td>188.800003</td>\n",
       "      <td>182.550003</td>\n",
       "      <td>182.580002</td>\n",
       "      <td>182.580002</td>\n",
       "      <td>61992100</td>\n",
       "    </tr>\n",
       "    <tr>\n",
       "      <th>2024-06-25</th>\n",
       "      <td>184.399994</td>\n",
       "      <td>187.970001</td>\n",
       "      <td>182.009995</td>\n",
       "      <td>187.350006</td>\n",
       "      <td>187.350006</td>\n",
       "      <td>63678300</td>\n",
       "    </tr>\n",
       "    <tr>\n",
       "      <th>2024-06-26</th>\n",
       "      <td>186.539993</td>\n",
       "      <td>197.759995</td>\n",
       "      <td>186.360001</td>\n",
       "      <td>196.369995</td>\n",
       "      <td>196.369995</td>\n",
       "      <td>95737100</td>\n",
       "    </tr>\n",
       "    <tr>\n",
       "      <th>2024-06-27</th>\n",
       "      <td>195.169998</td>\n",
       "      <td>198.720001</td>\n",
       "      <td>194.050003</td>\n",
       "      <td>197.419998</td>\n",
       "      <td>197.419998</td>\n",
       "      <td>72746500</td>\n",
       "    </tr>\n",
       "    <tr>\n",
       "      <th>2024-06-28</th>\n",
       "      <td>199.550003</td>\n",
       "      <td>203.199997</td>\n",
       "      <td>195.259995</td>\n",
       "      <td>197.880005</td>\n",
       "      <td>197.880005</td>\n",
       "      <td>95438100</td>\n",
       "    </tr>\n",
       "  </tbody>\n",
       "</table>\n",
       "</div>"
      ],
      "text/plain": [
       "                  Open        High         Low       Close   Adj Close  \\\n",
       "Date                                                                     \n",
       "2024-06-24  184.970001  188.800003  182.550003  182.580002  182.580002   \n",
       "2024-06-25  184.399994  187.970001  182.009995  187.350006  187.350006   \n",
       "2024-06-26  186.539993  197.759995  186.360001  196.369995  196.369995   \n",
       "2024-06-27  195.169998  198.720001  194.050003  197.419998  197.419998   \n",
       "2024-06-28  199.550003  203.199997  195.259995  197.880005  197.880005   \n",
       "\n",
       "              Volume  \n",
       "Date                  \n",
       "2024-06-24  61992100  \n",
       "2024-06-25  63678300  \n",
       "2024-06-26  95737100  \n",
       "2024-06-27  72746500  \n",
       "2024-06-28  95438100  "
      ]
     },
     "execution_count": 4,
     "metadata": {},
     "output_type": "execute_result"
    }
   ],
   "source": [
    "df.tail()"
   ]
  },
  {
   "cell_type": "code",
   "execution_count": 5,
   "metadata": {
    "colab": {
     "base_uri": "https://localhost:8080/",
     "height": 206
    },
    "id": "8PI3gJvTlanM",
    "outputId": "75848fe8-657f-4107-a371-5ed5e36f9ab7"
   },
   "outputs": [
    {
     "data": {
      "text/html": [
       "<div>\n",
       "<style scoped>\n",
       "    .dataframe tbody tr th:only-of-type {\n",
       "        vertical-align: middle;\n",
       "    }\n",
       "\n",
       "    .dataframe tbody tr th {\n",
       "        vertical-align: top;\n",
       "    }\n",
       "\n",
       "    .dataframe thead th {\n",
       "        text-align: right;\n",
       "    }\n",
       "</style>\n",
       "<table border=\"1\" class=\"dataframe\">\n",
       "  <thead>\n",
       "    <tr style=\"text-align: right;\">\n",
       "      <th></th>\n",
       "      <th>Date</th>\n",
       "      <th>Open</th>\n",
       "      <th>High</th>\n",
       "      <th>Low</th>\n",
       "      <th>Close</th>\n",
       "      <th>Adj Close</th>\n",
       "      <th>Volume</th>\n",
       "    </tr>\n",
       "  </thead>\n",
       "  <tbody>\n",
       "    <tr>\n",
       "      <th>0</th>\n",
       "      <td>2010-06-29</td>\n",
       "      <td>1.266667</td>\n",
       "      <td>1.666667</td>\n",
       "      <td>1.169333</td>\n",
       "      <td>1.592667</td>\n",
       "      <td>1.592667</td>\n",
       "      <td>281494500</td>\n",
       "    </tr>\n",
       "    <tr>\n",
       "      <th>1</th>\n",
       "      <td>2010-06-30</td>\n",
       "      <td>1.719333</td>\n",
       "      <td>2.028000</td>\n",
       "      <td>1.553333</td>\n",
       "      <td>1.588667</td>\n",
       "      <td>1.588667</td>\n",
       "      <td>257806500</td>\n",
       "    </tr>\n",
       "    <tr>\n",
       "      <th>2</th>\n",
       "      <td>2010-07-01</td>\n",
       "      <td>1.666667</td>\n",
       "      <td>1.728000</td>\n",
       "      <td>1.351333</td>\n",
       "      <td>1.464000</td>\n",
       "      <td>1.464000</td>\n",
       "      <td>123282000</td>\n",
       "    </tr>\n",
       "    <tr>\n",
       "      <th>3</th>\n",
       "      <td>2010-07-02</td>\n",
       "      <td>1.533333</td>\n",
       "      <td>1.540000</td>\n",
       "      <td>1.247333</td>\n",
       "      <td>1.280000</td>\n",
       "      <td>1.280000</td>\n",
       "      <td>77097000</td>\n",
       "    </tr>\n",
       "    <tr>\n",
       "      <th>4</th>\n",
       "      <td>2010-07-06</td>\n",
       "      <td>1.333333</td>\n",
       "      <td>1.333333</td>\n",
       "      <td>1.055333</td>\n",
       "      <td>1.074000</td>\n",
       "      <td>1.074000</td>\n",
       "      <td>103003500</td>\n",
       "    </tr>\n",
       "  </tbody>\n",
       "</table>\n",
       "</div>"
      ],
      "text/plain": [
       "        Date      Open      High       Low     Close  Adj Close     Volume\n",
       "0 2010-06-29  1.266667  1.666667  1.169333  1.592667   1.592667  281494500\n",
       "1 2010-06-30  1.719333  2.028000  1.553333  1.588667   1.588667  257806500\n",
       "2 2010-07-01  1.666667  1.728000  1.351333  1.464000   1.464000  123282000\n",
       "3 2010-07-02  1.533333  1.540000  1.247333  1.280000   1.280000   77097000\n",
       "4 2010-07-06  1.333333  1.333333  1.055333  1.074000   1.074000  103003500"
      ]
     },
     "execution_count": 5,
     "metadata": {},
     "output_type": "execute_result"
    }
   ],
   "source": [
    "df=df.reset_index()\n",
    "df.head()\n"
   ]
  },
  {
   "cell_type": "code",
   "execution_count": 6,
   "metadata": {
    "colab": {
     "base_uri": "https://localhost:8080/",
     "height": 206
    },
    "id": "XBEnPe02ls3e",
    "outputId": "c579cceb-37fd-498d-c002-e066b758bff4"
   },
   "outputs": [
    {
     "data": {
      "text/html": [
       "<div>\n",
       "<style scoped>\n",
       "    .dataframe tbody tr th:only-of-type {\n",
       "        vertical-align: middle;\n",
       "    }\n",
       "\n",
       "    .dataframe tbody tr th {\n",
       "        vertical-align: top;\n",
       "    }\n",
       "\n",
       "    .dataframe thead th {\n",
       "        text-align: right;\n",
       "    }\n",
       "</style>\n",
       "<table border=\"1\" class=\"dataframe\">\n",
       "  <thead>\n",
       "    <tr style=\"text-align: right;\">\n",
       "      <th></th>\n",
       "      <th>Open</th>\n",
       "      <th>High</th>\n",
       "      <th>Low</th>\n",
       "      <th>Close</th>\n",
       "      <th>Volume</th>\n",
       "    </tr>\n",
       "  </thead>\n",
       "  <tbody>\n",
       "    <tr>\n",
       "      <th>0</th>\n",
       "      <td>1.266667</td>\n",
       "      <td>1.666667</td>\n",
       "      <td>1.169333</td>\n",
       "      <td>1.592667</td>\n",
       "      <td>281494500</td>\n",
       "    </tr>\n",
       "    <tr>\n",
       "      <th>1</th>\n",
       "      <td>1.719333</td>\n",
       "      <td>2.028000</td>\n",
       "      <td>1.553333</td>\n",
       "      <td>1.588667</td>\n",
       "      <td>257806500</td>\n",
       "    </tr>\n",
       "    <tr>\n",
       "      <th>2</th>\n",
       "      <td>1.666667</td>\n",
       "      <td>1.728000</td>\n",
       "      <td>1.351333</td>\n",
       "      <td>1.464000</td>\n",
       "      <td>123282000</td>\n",
       "    </tr>\n",
       "    <tr>\n",
       "      <th>3</th>\n",
       "      <td>1.533333</td>\n",
       "      <td>1.540000</td>\n",
       "      <td>1.247333</td>\n",
       "      <td>1.280000</td>\n",
       "      <td>77097000</td>\n",
       "    </tr>\n",
       "    <tr>\n",
       "      <th>4</th>\n",
       "      <td>1.333333</td>\n",
       "      <td>1.333333</td>\n",
       "      <td>1.055333</td>\n",
       "      <td>1.074000</td>\n",
       "      <td>103003500</td>\n",
       "    </tr>\n",
       "  </tbody>\n",
       "</table>\n",
       "</div>"
      ],
      "text/plain": [
       "       Open      High       Low     Close     Volume\n",
       "0  1.266667  1.666667  1.169333  1.592667  281494500\n",
       "1  1.719333  2.028000  1.553333  1.588667  257806500\n",
       "2  1.666667  1.728000  1.351333  1.464000  123282000\n",
       "3  1.533333  1.540000  1.247333  1.280000   77097000\n",
       "4  1.333333  1.333333  1.055333  1.074000  103003500"
      ]
     },
     "execution_count": 6,
     "metadata": {},
     "output_type": "execute_result"
    }
   ],
   "source": [
    "df=df.drop(['Date','Adj Close'],axis=1)\n",
    "df.head()"
   ]
  },
  {
   "cell_type": "code",
   "execution_count": 7,
   "metadata": {
    "colab": {
     "base_uri": "https://localhost:8080/",
     "height": 447
    },
    "id": "CY33JZX1lyBE",
    "outputId": "580ccd6b-26ff-451c-cf35-de0ced17a742"
   },
   "outputs": [
    {
     "data": {
      "text/plain": [
       "[<matplotlib.lines.Line2D at 0x21ff12aeed0>]"
      ]
     },
     "execution_count": 7,
     "metadata": {},
     "output_type": "execute_result"
    },
    {
     "data": {
      "image/png": "[encoded data removed]",
      "text/plain": [
       "<Figure size 640x480 with 1 Axes>"
      ]
     },
     "metadata": {},
     "output_type": "display_data"
    }
   ],
   "source": [
    "plt.plot(df.Close)"
   ]
  },
  {
   "cell_type": "code",
   "execution_count": 8,
   "metadata": {
    "colab": {
     "base_uri": "https://localhost:8080/",
     "height": 423
    },
    "id": "Idp_2JwXmbSy",
    "outputId": "23431456-92d8-4b13-f8e1-d9d32e1e9c21"
   },
   "outputs": [
    {
     "data": {
      "text/html": [
       "<div>\n",
       "<style scoped>\n",
       "    .dataframe tbody tr th:only-of-type {\n",
       "        vertical-align: middle;\n",
       "    }\n",
       "\n",
       "    .dataframe tbody tr th {\n",
       "        vertical-align: top;\n",
       "    }\n",
       "\n",
       "    .dataframe thead th {\n",
       "        text-align: right;\n",
       "    }\n",
       "</style>\n",
       "<table border=\"1\" class=\"dataframe\">\n",
       "  <thead>\n",
       "    <tr style=\"text-align: right;\">\n",
       "      <th></th>\n",
       "      <th>Open</th>\n",
       "      <th>High</th>\n",
       "      <th>Low</th>\n",
       "      <th>Close</th>\n",
       "      <th>Volume</th>\n",
       "    </tr>\n",
       "  </thead>\n",
       "  <tbody>\n",
       "    <tr>\n",
       "      <th>0</th>\n",
       "      <td>1.266667</td>\n",
       "      <td>1.666667</td>\n",
       "      <td>1.169333</td>\n",
       "      <td>1.592667</td>\n",
       "      <td>281494500</td>\n",
       "    </tr>\n",
       "    <tr>\n",
       "      <th>1</th>\n",
       "      <td>1.719333</td>\n",
       "      <td>2.028000</td>\n",
       "      <td>1.553333</td>\n",
       "      <td>1.588667</td>\n",
       "      <td>257806500</td>\n",
       "    </tr>\n",
       "    <tr>\n",
       "      <th>2</th>\n",
       "      <td>1.666667</td>\n",
       "      <td>1.728000</td>\n",
       "      <td>1.351333</td>\n",
       "      <td>1.464000</td>\n",
       "      <td>123282000</td>\n",
       "    </tr>\n",
       "    <tr>\n",
       "      <th>3</th>\n",
       "      <td>1.533333</td>\n",
       "      <td>1.540000</td>\n",
       "      <td>1.247333</td>\n",
       "      <td>1.280000</td>\n",
       "      <td>77097000</td>\n",
       "    </tr>\n",
       "    <tr>\n",
       "      <th>4</th>\n",
       "      <td>1.333333</td>\n",
       "      <td>1.333333</td>\n",
       "      <td>1.055333</td>\n",
       "      <td>1.074000</td>\n",
       "      <td>103003500</td>\n",
       "    </tr>\n",
       "    <tr>\n",
       "      <th>...</th>\n",
       "      <td>...</td>\n",
       "      <td>...</td>\n",
       "      <td>...</td>\n",
       "      <td>...</td>\n",
       "      <td>...</td>\n",
       "    </tr>\n",
       "    <tr>\n",
       "      <th>3519</th>\n",
       "      <td>184.970001</td>\n",
       "      <td>188.800003</td>\n",
       "      <td>182.550003</td>\n",
       "      <td>182.580002</td>\n",
       "      <td>61992100</td>\n",
       "    </tr>\n",
       "    <tr>\n",
       "      <th>3520</th>\n",
       "      <td>184.399994</td>\n",
       "      <td>187.970001</td>\n",
       "      <td>182.009995</td>\n",
       "      <td>187.350006</td>\n",
       "      <td>63678300</td>\n",
       "    </tr>\n",
       "    <tr>\n",
       "      <th>3521</th>\n",
       "      <td>186.539993</td>\n",
       "      <td>197.759995</td>\n",
       "      <td>186.360001</td>\n",
       "      <td>196.369995</td>\n",
       "      <td>95737100</td>\n",
       "    </tr>\n",
       "    <tr>\n",
       "      <th>3522</th>\n",
       "      <td>195.169998</td>\n",
       "      <td>198.720001</td>\n",
       "      <td>194.050003</td>\n",
       "      <td>197.419998</td>\n",
       "      <td>72746500</td>\n",
       "    </tr>\n",
       "    <tr>\n",
       "      <th>3523</th>\n",
       "      <td>199.550003</td>\n",
       "      <td>203.199997</td>\n",
       "      <td>195.259995</td>\n",
       "      <td>197.880005</td>\n",
       "      <td>95438100</td>\n",
       "    </tr>\n",
       "  </tbody>\n",
       "</table>\n",
       "<p>3524 rows × 5 columns</p>\n",
       "</div>"
      ],
      "text/plain": [
       "            Open        High         Low       Close     Volume\n",
       "0       1.266667    1.666667    1.169333    1.592667  281494500\n",
       "1       1.719333    2.028000    1.553333    1.588667  257806500\n",
       "2       1.666667    1.728000    1.351333    1.464000  123282000\n",
       "3       1.533333    1.540000    1.247333    1.280000   77097000\n",
       "4       1.333333    1.333333    1.055333    1.074000  103003500\n",
       "...          ...         ...         ...         ...        ...\n",
       "3519  184.970001  188.800003  182.550003  182.580002   61992100\n",
       "3520  184.399994  187.970001  182.009995  187.350006   63678300\n",
       "3521  186.539993  197.759995  186.360001  196.369995   95737100\n",
       "3522  195.169998  198.720001  194.050003  197.419998   72746500\n",
       "3523  199.550003  203.199997  195.259995  197.880005   95438100\n",
       "\n",
       "[3524 rows x 5 columns]"
      ]
     },
     "execution_count": 8,
     "metadata": {},
     "output_type": "execute_result"
    }
   ],
   "source": [
    "df\n"
   ]
  },
  {
   "cell_type": "code",
   "execution_count": 9,
   "metadata": {
    "colab": {
     "base_uri": "https://localhost:8080/"
    },
    "id": "c2xyjOf_mf1l",
    "outputId": "b6507b3a-041d-4f3d-e84e-51b23f6b19cb"
   },
   "outputs": [
    {
     "data": {
      "text/plain": [
       "0            NaN\n",
       "1            NaN\n",
       "2            NaN\n",
       "3            NaN\n",
       "4            NaN\n",
       "          ...   \n",
       "3519    177.9786\n",
       "3520    177.9792\n",
       "3521    178.0543\n",
       "3522    178.1494\n",
       "3523    178.3176\n",
       "Name: Close, Length: 3524, dtype: float64"
      ]
     },
     "execution_count": 9,
     "metadata": {},
     "output_type": "execute_result"
    }
   ],
   "source": [
    " ma100=df.Close.rolling(100).mean()\n",
    " ma100"
   ]
  },
  {
   "cell_type": "code",
   "execution_count": 10,
   "metadata": {
    "colab": {
     "base_uri": "https://localhost:8080/",
     "height": 474
    },
    "id": "wBukc4wcnOUL",
    "outputId": "9ba7d351-e4a3-409e-c6bf-2c953dae0565"
   },
   "outputs": [
    {
     "data": {
      "text/plain": [
       "[<matplotlib.lines.Line2D at 0x21ff14e95d0>]"
      ]
     },
     "execution_count": 10,
     "metadata": {},
     "output_type": "execute_result"
    },
    {
     "data": {
      "image/png": "[encoded data removed]",
      "text/plain": [
       "<Figure size 1200x600 with 1 Axes>"
      ]
     },
     "metadata": {},
     "output_type": "display_data"
    }
   ],
   "source": [
    "plt.figure(figsize=(12,6))\n",
    "plt.plot(df.Close)\n",
    "plt.plot(ma100,'r')"
   ]
  },
  {
   "cell_type": "code",
   "execution_count": 11,
   "metadata": {
    "colab": {
     "base_uri": "https://localhost:8080/"
    },
    "id": "v5ZCZbKqnRJH",
    "outputId": "6ffe18ec-db9d-4e73-e10b-c95b6f2cc77c"
   },
   "outputs": [
    {
     "data": {
      "text/plain": [
       "0             NaN\n",
       "1             NaN\n",
       "2             NaN\n",
       "3             NaN\n",
       "4             NaN\n",
       "          ...    \n",
       "3519    207.53815\n",
       "3520    207.21745\n",
       "3521    206.95680\n",
       "3522    206.57600\n",
       "3523    206.22800\n",
       "Name: Close, Length: 3524, dtype: float64"
      ]
     },
     "execution_count": 11,
     "metadata": {},
     "output_type": "execute_result"
    }
   ],
   "source": [
    "ma200=df.Close.rolling(200).mean()\n",
    "ma200"
   ]
  },
  {
   "cell_type": "code",
   "execution_count": 12,
   "metadata": {
    "colab": {
     "base_uri": "https://localhost:8080/"
    },
    "id": "guziIsfQnXG_",
    "outputId": "4ef58637-0439-4204-9f62-a839a8039880"
   },
   "outputs": [
    {
     "data": {
      "text/plain": [
       "1.5825400018692017"
      ]
     },
     "execution_count": 12,
     "metadata": {},
     "output_type": "execute_result"
    }
   ],
   "source": [
    "ma200[201]"
   ]
  },
  {
   "cell_type": "code",
   "execution_count": 13,
   "metadata": {
    "colab": {
     "base_uri": "https://localhost:8080/"
    },
    "id": "SsBl9yB7nbm1",
    "outputId": "7be6758f-6185-454a-fd90-c243d6b66fa3"
   },
   "outputs": [
    {
     "data": {
      "text/plain": [
       "1.5821033370494844"
      ]
     },
     "execution_count": 13,
     "metadata": {},
     "output_type": "execute_result"
    }
   ],
   "source": [
    "ma200[200]"
   ]
  },
  {
   "cell_type": "code",
   "execution_count": 14,
   "metadata": {
    "colab": {
     "base_uri": "https://localhost:8080/"
    },
    "id": "G6uS5IkanfcC",
    "outputId": "bc2391ff-ac6f-440c-eb03-bae039b90ec3"
   },
   "outputs": [
    {
     "data": {
      "text/plain": [
       "1.5817566722631455"
      ]
     },
     "execution_count": 14,
     "metadata": {},
     "output_type": "execute_result"
    }
   ],
   "source": [
    "ma200[199]"
   ]
  },
  {
   "cell_type": "code",
   "execution_count": 15,
   "metadata": {
    "colab": {
     "base_uri": "https://localhost:8080/"
    },
    "id": "draUTAQ-nkLQ",
    "outputId": "be73ddac-e62a-4ac7-9488-411e8537345e"
   },
   "outputs": [
    {
     "data": {
      "text/plain": [
       "nan"
      ]
     },
     "execution_count": 15,
     "metadata": {},
     "output_type": "execute_result"
    }
   ],
   "source": [
    "ma200[198]\n",
    "\n"
   ]
  },
  {
   "cell_type": "code",
   "execution_count": 16,
   "metadata": {
    "colab": {
     "base_uri": "https://localhost:8080/",
     "height": 474
    },
    "id": "lM4CcRwDnosn",
    "outputId": "1ad841fa-e0ac-47e1-b1ac-117658ff35f2"
   },
   "outputs": [
    {
     "data": {
      "text/plain": [
       "[<matplotlib.lines.Line2D at 0x21ff15f4590>]"
      ]
     },
     "execution_count": 16,
     "metadata": {},
     "output_type": "execute_result"
    },
    {
     "data": {
      "image/png": "[encoded data removed]",
      "text/plain": [
       "<Figure size 1200x600 with 1 Axes>"
      ]
     },
     "metadata": {},
     "output_type": "display_data"
    }
   ],
   "source": [
    "plt.figure(figsize=(12,6))\n",
    "plt.plot(df.Close)\n",
    "plt.plot(ma100,'r')\n",
    "plt.plot(ma200,'g')"
   ]
  },
  {
   "cell_type": "code",
   "execution_count": 17,
   "metadata": {
    "colab": {
     "base_uri": "https://localhost:8080/"
    },
    "id": "aiNtC89xnt_m",
    "outputId": "9741612f-c5de-4970-988e-8737370c02a2"
   },
   "outputs": [
    {
     "data": {
      "text/plain": [
       "(3524, 5)"
      ]
     },
     "execution_count": 17,
     "metadata": {},
     "output_type": "execute_result"
    }
   ],
   "source": [
    "df.shape\n"
   ]
  },
  {
   "cell_type": "code",
   "execution_count": 18,
   "metadata": {
    "colab": {
     "base_uri": "https://localhost:8080/"
    },
    "id": "7o-1n0RPnwAl",
    "outputId": "a3c65700-9592-43da-f653-10f17e807772"
   },
   "outputs": [
    {
     "name": "stdout",
     "output_type": "stream",
     "text": [
      "(2466, 1)\n",
      "(1058, 1)\n"
     ]
    }
   ],
   "source": [
    "data_training=pd.DataFrame(df['Close'][0:int(len(df)*0.70)])\n",
    "data_testing=pd.DataFrame(df['Close'][int(len(df)*0.70):int(len(df))])\n",
    "print(data_training.shape)\n",
    "print(data_testing.shape)"
   ]
  },
  {
   "cell_type": "code",
   "execution_count": 19,
   "metadata": {
    "colab": {
     "base_uri": "https://localhost:8080/",
     "height": 206
    },
    "id": "NJ1hJ9LfoDSQ",
    "outputId": "a394822f-579e-401b-ef61-f850a8b0b572"
   },
   "outputs": [
    {
     "data": {
      "text/html": [
       "<div>\n",
       "<style scoped>\n",
       "    .dataframe tbody tr th:only-of-type {\n",
       "        vertical-align: middle;\n",
       "    }\n",
       "\n",
       "    .dataframe tbody tr th {\n",
       "        vertical-align: top;\n",
       "    }\n",
       "\n",
       "    .dataframe thead th {\n",
       "        text-align: right;\n",
       "    }\n",
       "</style>\n",
       "<table border=\"1\" class=\"dataframe\">\n",
       "  <thead>\n",
       "    <tr style=\"text-align: right;\">\n",
       "      <th></th>\n",
       "      <th>Close</th>\n",
       "    </tr>\n",
       "  </thead>\n",
       "  <tbody>\n",
       "    <tr>\n",
       "      <th>0</th>\n",
       "      <td>1.592667</td>\n",
       "    </tr>\n",
       "    <tr>\n",
       "      <th>1</th>\n",
       "      <td>1.588667</td>\n",
       "    </tr>\n",
       "    <tr>\n",
       "      <th>2</th>\n",
       "      <td>1.464000</td>\n",
       "    </tr>\n",
       "    <tr>\n",
       "      <th>3</th>\n",
       "      <td>1.280000</td>\n",
       "    </tr>\n",
       "    <tr>\n",
       "      <th>4</th>\n",
       "      <td>1.074000</td>\n",
       "    </tr>\n",
       "  </tbody>\n",
       "</table>\n",
       "</div>"
      ],
      "text/plain": [
       "      Close\n",
       "0  1.592667\n",
       "1  1.588667\n",
       "2  1.464000\n",
       "3  1.280000\n",
       "4  1.074000"
      ]
     },
     "execution_count": 19,
     "metadata": {},
     "output_type": "execute_result"
    }
   ],
   "source": [
    "data_training.head()"
   ]
  },
  {
   "cell_type": "code",
   "execution_count": 20,
   "metadata": {
    "colab": {
     "base_uri": "https://localhost:8080/",
     "height": 206
    },
    "id": "LRNZ81iNoYgv",
    "outputId": "fa11d5c3-e11b-4380-9d4c-86b2bd2808f1"
   },
   "outputs": [
    {
     "data": {
      "text/html": [
       "<div>\n",
       "<style scoped>\n",
       "    .dataframe tbody tr th:only-of-type {\n",
       "        vertical-align: middle;\n",
       "    }\n",
       "\n",
       "    .dataframe tbody tr th {\n",
       "        vertical-align: top;\n",
       "    }\n",
       "\n",
       "    .dataframe thead th {\n",
       "        text-align: right;\n",
       "    }\n",
       "</style>\n",
       "<table border=\"1\" class=\"dataframe\">\n",
       "  <thead>\n",
       "    <tr style=\"text-align: right;\">\n",
       "      <th></th>\n",
       "      <th>Close</th>\n",
       "    </tr>\n",
       "  </thead>\n",
       "  <tbody>\n",
       "    <tr>\n",
       "      <th>2466</th>\n",
       "      <td>49.680668</td>\n",
       "    </tr>\n",
       "    <tr>\n",
       "      <th>2467</th>\n",
       "      <td>50.259335</td>\n",
       "    </tr>\n",
       "    <tr>\n",
       "      <th>2468</th>\n",
       "      <td>49.757332</td>\n",
       "    </tr>\n",
       "    <tr>\n",
       "      <th>2469</th>\n",
       "      <td>45.781334</td>\n",
       "    </tr>\n",
       "    <tr>\n",
       "      <th>2470</th>\n",
       "      <td>48.807335</td>\n",
       "    </tr>\n",
       "  </tbody>\n",
       "</table>\n",
       "</div>"
      ],
      "text/plain": [
       "          Close\n",
       "2466  49.680668\n",
       "2467  50.259335\n",
       "2468  49.757332\n",
       "2469  45.781334\n",
       "2470  48.807335"
      ]
     },
     "execution_count": 20,
     "metadata": {},
     "output_type": "execute_result"
    }
   ],
   "source": [
    "data_testing.head()"
   ]
  },
  {
   "cell_type": "code",
   "execution_count": 21,
   "metadata": {
    "id": "rujYIFeFoZAs"
   },
   "outputs": [],
   "source": [
    "from sklearn.preprocessing import MinMaxScaler\n",
    "scaler=MinMaxScaler(feature_range=(0,1))\n"
   ]
  },
  {
   "cell_type": "code",
   "execution_count": 22,
   "metadata": {
    "colab": {
     "base_uri": "https://localhost:8080/"
    },
    "id": "q8qYzGyuotCt",
    "outputId": "003c6470-e52d-4629-9973-d771c001e9a5"
   },
   "outputs": [
    {
     "data": {
      "text/plain": [
       "array([[0.00897275],\n",
       "       [0.0089062 ],\n",
       "       [0.00683215],\n",
       "       ...,\n",
       "       [0.70445424],\n",
       "       [0.76982546],\n",
       "       [0.79194122]])"
      ]
     },
     "execution_count": 22,
     "metadata": {},
     "output_type": "execute_result"
    }
   ],
   "source": [
    "data_training_array=scaler.fit_transform(data_training)\n",
    "data_training_array"
   ]
  },
  {
   "cell_type": "code",
   "execution_count": 23,
   "metadata": {
    "id": "rI8cKDv3oziu"
   },
   "outputs": [],
   "source": [
    "x_train=[]\n",
    "y_train=[]\n",
    "\n",
    "for i in range(100,data_training_array.shape[0]):\n",
    "    x_train.append(data_training_array[i-100:i])\n",
    "    y_train.append(data_training_array[i,0])\n",
    "x_train,y_train=np.array(x_train),np.array(y_train)"
   ]
  },
  {
   "cell_type": "code",
   "execution_count": 24,
   "metadata": {
    "colab": {
     "base_uri": "https://localhost:8080/"
    },
    "id": "GzvJNxHLtN88",
    "outputId": "d2129ec4-081b-496d-8621-edc2c21fd670"
   },
   "outputs": [
    {
     "data": {
      "text/plain": [
       "(2366, 100, 1)"
      ]
     },
     "execution_count": 24,
     "metadata": {},
     "output_type": "execute_result"
    }
   ],
   "source": [
    "x_train.shape"
   ]
  },
  {
   "cell_type": "code",
   "execution_count": 25,
   "metadata": {},
   "outputs": [
    {
     "name": "stdout",
     "output_type": "stream",
     "text": [
      "Collecting tensorflow\n",
      "  Using cached tensorflow-2.16.2-cp311-cp311-win_amd64.whl.metadata (3.3 kB)\n",
      "Collecting tensorflow-intel==2.16.2 (from tensorflow)\n",
      "  Using cached tensorflow_intel-2.16.2-cp311-cp311-win_amd64.whl.metadata (5.0 kB)\n",
      "Requirement already satisfied: absl-py>=1.0.0 in c:\\users\\arun\\anaconda3\\lib\\site-packages (from tensorflow-intel==2.16.2->tensorflow) (2.1.0)\n",
      "Collecting astunparse>=1.6.0 (from tensorflow-intel==2.16.2->tensorflow)\n",
      "  Using cached astunparse-1.6.3-py2.py3-none-any.whl.metadata (4.4 kB)\n",
      "Collecting flatbuffers>=23.5.26 (from tensorflow-intel==2.16.2->tensorflow)\n",
      "  Using cached flatbuffers-24.3.25-py2.py3-none-any.whl.metadata (850 bytes)\n",
      "Collecting gast!=0.5.0,!=0.5.1,!=0.5.2,>=0.2.1 (from tensorflow-intel==2.16.2->tensorflow)\n",
      "  Using cached gast-0.6.0.tar.gz (27 kB)\n",
      "  Preparing metadata (setup.py): started\n",
      "  Preparing metadata (setup.py): finished with status 'done'\n",
      "Collecting google-pasta>=0.1.1 (from tensorflow-intel==2.16.2->tensorflow)\n",
      "  Using cached google_pasta-0.2.0-py3-none-any.whl.metadata (814 bytes)\n",
      "Collecting h5py>=3.10.0 (from tensorflow-intel==2.16.2->tensorflow)\n",
      "  Using cached h5py-3.11.0-cp311-cp311-win_amd64.whl.metadata (2.5 kB)\n",
      "Collecting libclang>=13.0.0 (from tensorflow-intel==2.16.2->tensorflow)\n",
      "  Using cached libclang-18.1.1-py2.py3-none-win_amd64.whl.metadata (5.3 kB)\n",
      "Collecting ml-dtypes~=0.3.1 (from tensorflow-intel==2.16.2->tensorflow)\n",
      "  Using cached ml_dtypes-0.3.2-cp311-cp311-win_amd64.whl.metadata (20 kB)\n",
      "Collecting opt-einsum>=2.3.2 (from tensorflow-intel==2.16.2->tensorflow)\n",
      "  Using cached opt_einsum-3.3.0-py3-none-any.whl.metadata (6.5 kB)\n",
      "Requirement already satisfied: packaging in c:\\users\\arun\\appdata\\roaming\\python\\python311\\site-packages (from tensorflow-intel==2.16.2->tensorflow) (24.1)\n",
      "Requirement already satisfied: protobuf!=4.21.0,!=4.21.1,!=4.21.2,!=4.21.3,!=4.21.4,!=4.21.5,<5.0.0dev,>=3.20.3 in c:\\users\\arun\\anaconda3\\lib\\site-packages (from tensorflow-intel==2.16.2->tensorflow) (3.20.3)\n",
      "Requirement already satisfied: requests<3,>=2.21.0 in c:\\users\\arun\\anaconda3\\lib\\site-packages (from tensorflow-intel==2.16.2->tensorflow) (2.31.0)\n",
      "Requirement already satisfied: setuptools in c:\\users\\arun\\anaconda3\\lib\\site-packages (from tensorflow-intel==2.16.2->tensorflow) (68.2.2)\n",
      "Requirement already satisfied: six>=1.12.0 in c:\\users\\arun\\anaconda3\\lib\\site-packages (from tensorflow-intel==2.16.2->tensorflow) (1.16.0)\n",
      "Collecting termcolor>=1.1.0 (from tensorflow-intel==2.16.2->tensorflow)\n",
      "  Using cached termcolor-2.4.0-py3-none-any.whl.metadata (6.1 kB)\n",
      "Requirement already satisfied: typing-extensions>=3.6.6 in c:\\users\\arun\\appdata\\roaming\\python\\python311\\site-packages (from tensorflow-intel==2.16.2->tensorflow) (4.12.2)\n",
      "Requirement already satisfied: wrapt>=1.11.0 in c:\\users\\arun\\anaconda3\\lib\\site-packages (from tensorflow-intel==2.16.2->tensorflow) (1.14.1)\n",
      "Collecting grpcio<2.0,>=1.24.3 (from tensorflow-intel==2.16.2->tensorflow)\n",
      "  Using cached grpcio-1.64.1-cp311-cp311-win_amd64.whl.metadata (3.4 kB)\n",
      "Collecting tensorboard<2.17,>=2.16 (from tensorflow-intel==2.16.2->tensorflow)\n",
      "  Using cached tensorboard-2.16.2-py3-none-any.whl.metadata (1.6 kB)\n",
      "Requirement already satisfied: keras>=3.0.0 in c:\\users\\arun\\anaconda3\\lib\\site-packages (from tensorflow-intel==2.16.2->tensorflow) (3.4.1)\n",
      "Collecting tensorflow-io-gcs-filesystem>=0.23.1 (from tensorflow-intel==2.16.2->tensorflow)\n",
      "  Using cached tensorflow_io_gcs_filesystem-0.31.0-cp311-cp311-win_amd64.whl.metadata (14 kB)\n",
      "Requirement already satisfied: numpy<2.0.0,>=1.23.5 in c:\\users\\arun\\anaconda3\\lib\\site-packages (from tensorflow-intel==2.16.2->tensorflow) (1.26.4)\n",
      "Requirement already satisfied: wheel<1.0,>=0.23.0 in c:\\users\\arun\\anaconda3\\lib\\site-packages (from astunparse>=1.6.0->tensorflow-intel==2.16.2->tensorflow) (0.41.2)\n",
      "Requirement already satisfied: rich in c:\\users\\arun\\anaconda3\\lib\\site-packages (from keras>=3.0.0->tensorflow-intel==2.16.2->tensorflow) (13.3.5)\n",
      "Requirement already satisfied: namex in c:\\users\\arun\\anaconda3\\lib\\site-packages (from keras>=3.0.0->tensorflow-intel==2.16.2->tensorflow) (0.0.8)\n",
      "Requirement already satisfied: optree in c:\\users\\arun\\anaconda3\\lib\\site-packages (from keras>=3.0.0->tensorflow-intel==2.16.2->tensorflow) (0.12.0)\n",
      "Requirement already satisfied: charset-normalizer<4,>=2 in c:\\users\\arun\\anaconda3\\lib\\site-packages (from requests<3,>=2.21.0->tensorflow-intel==2.16.2->tensorflow) (2.0.4)\n",
      "Requirement already satisfied: idna<4,>=2.5 in c:\\users\\arun\\anaconda3\\lib\\site-packages (from requests<3,>=2.21.0->tensorflow-intel==2.16.2->tensorflow) (3.4)\n",
      "Requirement already satisfied: urllib3<3,>=1.21.1 in c:\\users\\arun\\anaconda3\\lib\\site-packages (from requests<3,>=2.21.0->tensorflow-intel==2.16.2->tensorflow) (2.0.7)\n",
      "Requirement already satisfied: certifi>=2017.4.17 in c:\\users\\arun\\anaconda3\\lib\\site-packages (from requests<3,>=2.21.0->tensorflow-intel==2.16.2->tensorflow) (2024.2.2)\n",
      "Requirement already satisfied: markdown>=2.6.8 in c:\\users\\arun\\anaconda3\\lib\\site-packages (from tensorboard<2.17,>=2.16->tensorflow-intel==2.16.2->tensorflow) (3.4.1)\n",
      "Collecting tensorboard-data-server<0.8.0,>=0.7.0 (from tensorboard<2.17,>=2.16->tensorflow-intel==2.16.2->tensorflow)\n",
      "  Using cached tensorboard_data_server-0.7.2-py3-none-any.whl.metadata (1.1 kB)\n",
      "Requirement already satisfied: werkzeug>=1.0.1 in c:\\users\\arun\\anaconda3\\lib\\site-packages (from tensorboard<2.17,>=2.16->tensorflow-intel==2.16.2->tensorflow) (2.2.3)\n",
      "Requirement already satisfied: MarkupSafe>=2.1.1 in c:\\users\\arun\\anaconda3\\lib\\site-packages (from werkzeug>=1.0.1->tensorboard<2.17,>=2.16->tensorflow-intel==2.16.2->tensorflow) (2.1.3)\n",
      "Requirement already satisfied: markdown-it-py<3.0.0,>=2.2.0 in c:\\users\\arun\\anaconda3\\lib\\site-packages (from rich->keras>=3.0.0->tensorflow-intel==2.16.2->tensorflow) (2.2.0)\n",
      "Requirement already satisfied: pygments<3.0.0,>=2.13.0 in c:\\users\\arun\\appdata\\roaming\\python\\python311\\site-packages (from rich->keras>=3.0.0->tensorflow-intel==2.16.2->tensorflow) (2.18.0)\n",
      "Requirement already satisfied: mdurl~=0.1 in c:\\users\\arun\\anaconda3\\lib\\site-packages (from markdown-it-py<3.0.0,>=2.2.0->rich->keras>=3.0.0->tensorflow-intel==2.16.2->tensorflow) (0.1.0)\n",
      "Using cached tensorflow-2.16.2-cp311-cp311-win_amd64.whl (2.1 kB)\n",
      "Downloading tensorflow_intel-2.16.2-cp311-cp311-win_amd64.whl (377.0 MB)\n",
      "   ---------------------------------------- 0.0/377.0 MB ? eta -:--:--\n",
      "   ---------------------------------------- 0.0/377.0 MB ? eta -:--:--\n",
      "   ---------------------------------------- 0.1/377.0 MB 648.1 kB/s eta 0:09:42\n",
      "   ---------------------------------------- 0.2/377.0 MB 1.2 MB/s eta 0:05:07\n",
      "   ---------------------------------------- 0.4/377.0 MB 2.0 MB/s eta 0:03:07\n",
      "   ---------------------------------------- 0.6/377.0 MB 2.9 MB/s eta 0:02:10\n",
      "   ---------------------------------------- 0.9/377.0 MB 3.4 MB/s eta 0:01:50\n",
      "   ---------------------------------------- 1.3/377.0 MB 4.2 MB/s eta 0:01:30\n",
      "   ---------------------------------------- 1.7/377.0 MB 4.8 MB/s eta 0:01:19\n",
      "   ---------------------------------------- 2.0/377.0 MB 5.2 MB/s eta 0:01:13\n",
      "   ---------------------------------------- 2.5/377.0 MB 5.4 MB/s eta 0:01:10\n",
      "   ---------------------------------------- 2.8/377.0 MB 5.5 MB/s eta 0:01:08\n",
      "   ---------------------------------------- 3.1/377.0 MB 5.8 MB/s eta 0:01:05\n",
      "   ---------------------------------------- 3.6/377.0 MB 6.1 MB/s eta 0:01:01\n",
      "   ---------------------------------------- 4.0/377.0 MB 6.4 MB/s eta 0:00:59\n",
      "   ---------------------------------------- 4.4/377.0 MB 6.6 MB/s eta 0:00:57\n",
      "    --------------------------------------- 5.0/377.0 MB 7.0 MB/s eta 0:00:54\n",
      "    --------------------------------------- 5.5/377.0 MB 7.1 MB/s eta 0:00:53\n",
      "    --------------------------------------- 6.1/377.0 MB 7.5 MB/s eta 0:00:50\n",
      "    --------------------------------------- 6.5/377.0 MB 7.6 MB/s eta 0:00:49\n",
      "    --------------------------------------- 7.0/377.0 MB 7.7 MB/s eta 0:00:48\n",
      "    --------------------------------------- 7.6/377.0 MB 8.0 MB/s eta 0:00:47\n",
      "    --------------------------------------- 7.9/377.0 MB 7.9 MB/s eta 0:00:47\n",
      "    --------------------------------------- 8.6/377.0 MB 8.2 MB/s eta 0:00:46\n",
      "    --------------------------------------- 9.1/377.0 MB 8.3 MB/s eta 0:00:45\n",
      "   - -------------------------------------- 9.8/377.0 MB 8.5 MB/s eta 0:00:43\n",
      "   - -------------------------------------- 10.3/377.0 MB 9.5 MB/s eta 0:00:39\n",
      "   - -------------------------------------- 10.7/377.0 MB 10.1 MB/s eta 0:00:37\n",
      "   - -------------------------------------- 10.9/377.0 MB 9.8 MB/s eta 0:00:38\n",
      "   - -------------------------------------- 11.2/377.0 MB 9.8 MB/s eta 0:00:38\n",
      "   - -------------------------------------- 11.4/377.0 MB 9.6 MB/s eta 0:00:38\n",
      "   - -------------------------------------- 11.8/377.0 MB 9.5 MB/s eta 0:00:39\n",
      "   - -------------------------------------- 12.0/377.0 MB 9.4 MB/s eta 0:00:40\n",
      "   - -------------------------------------- 12.3/377.0 MB 9.4 MB/s eta 0:00:39\n",
      "   - -------------------------------------- 12.6/377.0 MB 9.2 MB/s eta 0:00:40\n",
      "   - -------------------------------------- 13.0/377.0 MB 9.1 MB/s eta 0:00:41\n",
      "   - -------------------------------------- 13.2/377.0 MB 9.2 MB/s eta 0:00:40\n",
      "   - -------------------------------------- 13.5/377.0 MB 9.1 MB/s eta 0:00:40\n",
      "   - -------------------------------------- 13.8/377.0 MB 9.0 MB/s eta 0:00:41\n",
      "   - -------------------------------------- 14.0/377.0 MB 8.7 MB/s eta 0:00:42\n",
      "   - -------------------------------------- 14.3/377.0 MB 8.7 MB/s eta 0:00:42\n",
      "   - -------------------------------------- 14.7/377.0 MB 8.5 MB/s eta 0:00:43\n",
      "   - -------------------------------------- 15.3/377.0 MB 8.7 MB/s eta 0:00:42\n",
      "   - -------------------------------------- 15.8/377.0 MB 8.7 MB/s eta 0:00:42\n",
      "   - -------------------------------------- 16.2/377.0 MB 8.6 MB/s eta 0:00:42\n",
      "   - -------------------------------------- 16.8/377.0 MB 8.7 MB/s eta 0:00:42\n",
      "   - -------------------------------------- 17.4/377.0 MB 8.8 MB/s eta 0:00:41\n",
      "   - -------------------------------------- 18.1/377.0 MB 8.8 MB/s eta 0:00:41\n",
      "   - -------------------------------------- 18.8/377.0 MB 8.8 MB/s eta 0:00:41\n",
      "   - -------------------------------------- 18.8/377.0 MB 9.0 MB/s eta 0:00:40\n",
      "   -- ------------------------------------- 19.4/377.0 MB 8.6 MB/s eta 0:00:42\n",
      "   -- ------------------------------------- 20.0/377.0 MB 8.6 MB/s eta 0:00:42\n",
      "   -- ------------------------------------- 20.5/377.0 MB 8.6 MB/s eta 0:00:42\n",
      "   -- ------------------------------------- 20.7/377.0 MB 8.4 MB/s eta 0:00:43\n",
      "   -- ------------------------------------- 21.3/377.0 MB 9.0 MB/s eta 0:00:40\n",
      "   -- ------------------------------------- 22.0/377.0 MB 9.4 MB/s eta 0:00:38\n",
      "   -- ------------------------------------- 22.6/377.0 MB 9.9 MB/s eta 0:00:36\n",
      "   -- ------------------------------------- 23.3/377.0 MB 10.4 MB/s eta 0:00:35\n",
      "   -- ------------------------------------- 23.9/377.0 MB 10.9 MB/s eta 0:00:33\n",
      "   -- ------------------------------------- 24.6/377.0 MB 12.1 MB/s eta 0:00:30\n",
      "   -- ------------------------------------- 25.2/377.0 MB 12.1 MB/s eta 0:00:30\n",
      "   -- ------------------------------------- 25.9/377.0 MB 12.1 MB/s eta 0:00:29\n",
      "   -- ------------------------------------- 26.6/377.0 MB 12.6 MB/s eta 0:00:28\n",
      "   -- ------------------------------------- 27.2/377.0 MB 12.6 MB/s eta 0:00:28\n",
      "   -- ------------------------------------- 27.9/377.0 MB 12.6 MB/s eta 0:00:28\n",
      "   --- ------------------------------------ 28.5/377.0 MB 12.6 MB/s eta 0:00:28\n",
      "   --- ------------------------------------ 29.0/377.0 MB 12.6 MB/s eta 0:00:28\n",
      "   --- ------------------------------------ 29.2/377.0 MB 12.6 MB/s eta 0:00:28\n",
      "   --- ------------------------------------ 29.5/377.0 MB 12.4 MB/s eta 0:00:29\n",
      "   --- ------------------------------------ 29.6/377.0 MB 12.1 MB/s eta 0:00:29\n",
      "   --- ------------------------------------ 29.9/377.0 MB 11.5 MB/s eta 0:00:31\n",
      "   --- ------------------------------------ 30.1/377.0 MB 11.1 MB/s eta 0:00:32\n",
      "   --- ------------------------------------ 30.4/377.0 MB 10.7 MB/s eta 0:00:33\n",
      "   --- ------------------------------------ 30.6/377.0 MB 10.4 MB/s eta 0:00:34\n",
      "   --- ------------------------------------ 30.9/377.0 MB 10.6 MB/s eta 0:00:33\n",
      "   --- ------------------------------------ 31.2/377.0 MB 10.4 MB/s eta 0:00:34\n",
      "   --- ------------------------------------ 31.5/377.0 MB 10.1 MB/s eta 0:00:35\n",
      "   --- ------------------------------------ 31.8/377.0 MB 9.8 MB/s eta 0:00:36\n",
      "   --- ------------------------------------ 32.0/377.0 MB 9.6 MB/s eta 0:00:36\n",
      "   --- ------------------------------------ 32.2/377.0 MB 9.2 MB/s eta 0:00:38\n",
      "   --- ------------------------------------ 32.6/377.0 MB 9.1 MB/s eta 0:00:38\n",
      "   --- ------------------------------------ 33.3/377.0 MB 9.1 MB/s eta 0:00:38\n",
      "   --- ------------------------------------ 33.9/377.0 MB 9.1 MB/s eta 0:00:38\n",
      "   --- ------------------------------------ 34.7/377.0 MB 9.1 MB/s eta 0:00:38\n",
      "   --- ------------------------------------ 35.1/377.0 MB 9.2 MB/s eta 0:00:38\n",
      "   --- ------------------------------------ 35.5/377.0 MB 9.0 MB/s eta 0:00:39\n",
      "   --- ------------------------------------ 36.1/377.0 MB 9.0 MB/s eta 0:00:38\n",
      "   --- ------------------------------------ 36.7/377.0 MB 9.0 MB/s eta 0:00:38\n",
      "   --- ------------------------------------ 37.4/377.0 MB 9.0 MB/s eta 0:00:38\n",
      "   ---- ----------------------------------- 38.0/377.0 MB 9.0 MB/s eta 0:00:38\n",
      "   ---- ----------------------------------- 38.7/377.0 MB 9.0 MB/s eta 0:00:38\n",
      "   ---- ----------------------------------- 39.3/377.0 MB 9.1 MB/s eta 0:00:38\n",
      "   ---- ----------------------------------- 40.0/377.0 MB 9.9 MB/s eta 0:00:34\n",
      "   ---- ----------------------------------- 40.6/377.0 MB 10.6 MB/s eta 0:00:32\n",
      "   ---- ----------------------------------- 41.2/377.0 MB 11.3 MB/s eta 0:00:30\n",
      "   ---- ----------------------------------- 41.8/377.0 MB 11.9 MB/s eta 0:00:29\n",
      "   ---- ----------------------------------- 42.5/377.0 MB 13.1 MB/s eta 0:00:26\n",
      "   ---- ----------------------------------- 43.1/377.0 MB 13.4 MB/s eta 0:00:25\n",
      "   ---- ----------------------------------- 43.7/377.0 MB 13.1 MB/s eta 0:00:26\n",
      "   ---- ----------------------------------- 44.4/377.0 MB 13.4 MB/s eta 0:00:25\n",
      "   ---- ----------------------------------- 45.0/377.0 MB 13.4 MB/s eta 0:00:25\n",
      "   ---- ----------------------------------- 45.6/377.0 MB 13.9 MB/s eta 0:00:24\n",
      "   ---- ----------------------------------- 46.3/377.0 MB 13.9 MB/s eta 0:00:24\n",
      "   ---- ----------------------------------- 47.0/377.0 MB 13.9 MB/s eta 0:00:24\n",
      "   ----- ---------------------------------- 47.6/377.0 MB 13.9 MB/s eta 0:00:24\n",
      "   ----- ---------------------------------- 48.3/377.0 MB 13.9 MB/s eta 0:00:24\n",
      "   ----- ---------------------------------- 49.0/377.0 MB 13.9 MB/s eta 0:00:24\n",
      "   ----- ---------------------------------- 49.6/377.0 MB 13.9 MB/s eta 0:00:24\n",
      "   ----- ---------------------------------- 50.3/377.0 MB 13.9 MB/s eta 0:00:24\n",
      "   ----- ---------------------------------- 50.6/377.0 MB 13.6 MB/s eta 0:00:24\n",
      "   ----- ---------------------------------- 51.0/377.0 MB 13.4 MB/s eta 0:00:25\n",
      "   ----- ---------------------------------- 51.4/377.0 MB 12.8 MB/s eta 0:00:26\n",
      "   ----- ---------------------------------- 51.6/377.0 MB 12.6 MB/s eta 0:00:26\n",
      "   ----- ---------------------------------- 51.9/377.0 MB 12.1 MB/s eta 0:00:27\n",
      "   ----- ---------------------------------- 52.2/377.0 MB 11.9 MB/s eta 0:00:28\n",
      "   ----- ---------------------------------- 52.4/377.0 MB 11.3 MB/s eta 0:00:29\n",
      "   ----- ---------------------------------- 52.7/377.0 MB 11.3 MB/s eta 0:00:29\n",
      "   ----- ---------------------------------- 52.9/377.0 MB 10.9 MB/s eta 0:00:30\n",
      "   ----- ---------------------------------- 53.1/377.0 MB 10.6 MB/s eta 0:00:31\n",
      "   ----- ---------------------------------- 53.4/377.0 MB 10.2 MB/s eta 0:00:32\n",
      "   ----- ---------------------------------- 53.7/377.0 MB 9.9 MB/s eta 0:00:33\n",
      "   ----- ---------------------------------- 54.0/377.0 MB 9.8 MB/s eta 0:00:34\n",
      "   ----- ---------------------------------- 54.3/377.0 MB 9.5 MB/s eta 0:00:35\n",
      "   ----- ---------------------------------- 54.4/377.0 MB 9.2 MB/s eta 0:00:35\n",
      "   ----- ---------------------------------- 54.6/377.0 MB 8.8 MB/s eta 0:00:37\n",
      "   ----- ---------------------------------- 54.8/377.0 MB 8.6 MB/s eta 0:00:38\n",
      "   ----- ---------------------------------- 55.4/377.0 MB 8.6 MB/s eta 0:00:38\n",
      "   ----- ---------------------------------- 56.1/377.0 MB 8.6 MB/s eta 0:00:38\n",
      "   ------ --------------------------------- 56.8/377.0 MB 8.7 MB/s eta 0:00:37\n",
      "   ------ --------------------------------- 57.4/377.0 MB 8.6 MB/s eta 0:00:38\n",
      "   ------ --------------------------------- 58.1/377.0 MB 8.6 MB/s eta 0:00:38\n",
      "   ------ --------------------------------- 58.7/377.0 MB 8.7 MB/s eta 0:00:37\n",
      "   ------ --------------------------------- 59.3/377.0 MB 8.7 MB/s eta 0:00:37\n",
      "   ------ --------------------------------- 60.0/377.0 MB 8.7 MB/s eta 0:00:37\n",
      "   ------ --------------------------------- 60.7/377.0 MB 8.7 MB/s eta 0:00:37\n",
      "   ------ --------------------------------- 61.3/377.0 MB 9.0 MB/s eta 0:00:36\n",
      "   ------ --------------------------------- 62.0/377.0 MB 9.5 MB/s eta 0:00:34\n",
      "   ------ --------------------------------- 62.7/377.0 MB 10.4 MB/s eta 0:00:31\n",
      "   ------ --------------------------------- 63.3/377.0 MB 11.1 MB/s eta 0:00:29\n",
      "   ------ --------------------------------- 63.9/377.0 MB 11.9 MB/s eta 0:00:27\n",
      "   ------ --------------------------------- 64.6/377.0 MB 12.8 MB/s eta 0:00:25\n",
      "   ------ --------------------------------- 65.3/377.0 MB 14.2 MB/s eta 0:00:22\n",
      "   ------ --------------------------------- 65.9/377.0 MB 14.2 MB/s eta 0:00:22\n",
      "   ------- -------------------------------- 66.5/377.0 MB 14.2 MB/s eta 0:00:22\n",
      "   ------- -------------------------------- 67.2/377.0 MB 14.2 MB/s eta 0:00:22\n",
      "   ------- -------------------------------- 67.9/377.0 MB 14.2 MB/s eta 0:00:22\n",
      "   ------- -------------------------------- 68.6/377.0 MB 14.2 MB/s eta 0:00:22\n",
      "   ------- -------------------------------- 69.1/377.0 MB 14.6 MB/s eta 0:00:22\n",
      "   ------- -------------------------------- 69.7/377.0 MB 14.2 MB/s eta 0:00:22\n",
      "   ------- -------------------------------- 70.0/377.0 MB 13.6 MB/s eta 0:00:23\n",
      "   ------- -------------------------------- 70.2/377.0 MB 13.4 MB/s eta 0:00:23\n",
      "   ------- -------------------------------- 70.6/377.0 MB 12.8 MB/s eta 0:00:24\n",
      "   ------- -------------------------------- 70.8/377.0 MB 12.6 MB/s eta 0:00:25\n",
      "   ------- -------------------------------- 71.2/377.0 MB 12.1 MB/s eta 0:00:26\n",
      "   ------- -------------------------------- 71.4/377.0 MB 11.9 MB/s eta 0:00:26\n",
      "   ------- -------------------------------- 71.7/377.0 MB 11.3 MB/s eta 0:00:28\n",
      "   ------- -------------------------------- 72.0/377.0 MB 10.9 MB/s eta 0:00:28\n",
      "   ------- -------------------------------- 72.2/377.0 MB 10.6 MB/s eta 0:00:29\n",
      "   ------- -------------------------------- 72.6/377.0 MB 10.4 MB/s eta 0:00:30\n",
      "   ------- -------------------------------- 72.8/377.0 MB 10.1 MB/s eta 0:00:31\n",
      "   ------- -------------------------------- 73.0/377.0 MB 9.9 MB/s eta 0:00:31\n",
      "   ------- -------------------------------- 73.3/377.0 MB 9.6 MB/s eta 0:00:32\n",
      "   ------- -------------------------------- 73.5/377.0 MB 9.4 MB/s eta 0:00:33\n",
      "   ------- -------------------------------- 73.8/377.0 MB 9.2 MB/s eta 0:00:33\n",
      "   ------- -------------------------------- 74.1/377.0 MB 9.0 MB/s eta 0:00:34\n",
      "   ------- -------------------------------- 74.3/377.0 MB 8.7 MB/s eta 0:00:35\n",
      "   ------- -------------------------------- 74.7/377.0 MB 8.5 MB/s eta 0:00:36\n",
      "   ------- -------------------------------- 74.9/377.0 MB 8.4 MB/s eta 0:00:36\n",
      "   ------- -------------------------------- 75.3/377.0 MB 8.2 MB/s eta 0:00:37\n",
      "   -------- ------------------------------- 75.8/377.0 MB 8.1 MB/s eta 0:00:38\n",
      "   -------- ------------------------------- 76.4/377.0 MB 8.1 MB/s eta 0:00:38\n",
      "   -------- ------------------------------- 77.0/377.0 MB 8.1 MB/s eta 0:00:38\n",
      "   -------- ------------------------------- 77.5/377.0 MB 8.0 MB/s eta 0:00:38\n",
      "   -------- ------------------------------- 77.7/377.0 MB 7.9 MB/s eta 0:00:38\n",
      "   -------- ------------------------------- 78.2/377.0 MB 7.7 MB/s eta 0:00:39\n",
      "   -------- ------------------------------- 78.7/377.0 MB 7.7 MB/s eta 0:00:39\n",
      "   -------- ------------------------------- 78.9/377.0 MB 7.5 MB/s eta 0:00:40\n",
      "   -------- ------------------------------- 79.3/377.0 MB 7.4 MB/s eta 0:00:41\n",
      "   -------- ------------------------------- 79.9/377.0 MB 7.4 MB/s eta 0:00:40\n",
      "   -------- ------------------------------- 80.4/377.0 MB 7.6 MB/s eta 0:00:39\n",
      "   -------- ------------------------------- 80.9/377.0 MB 7.9 MB/s eta 0:00:38\n",
      "   -------- ------------------------------- 81.4/377.0 MB 8.0 MB/s eta 0:00:38\n",
      "   -------- ------------------------------- 82.0/377.0 MB 8.4 MB/s eta 0:00:36\n",
      "   -------- ------------------------------- 82.6/377.0 MB 8.7 MB/s eta 0:00:34\n",
      "   -------- ------------------------------- 83.3/377.0 MB 9.4 MB/s eta 0:00:32\n",
      "   -------- ------------------------------- 83.9/377.0 MB 10.1 MB/s eta 0:00:30\n",
      "   -------- ------------------------------- 84.6/377.0 MB 10.7 MB/s eta 0:00:28\n",
      "   --------- ------------------------------ 85.2/377.0 MB 11.5 MB/s eta 0:00:26\n",
      "   --------- ------------------------------ 85.9/377.0 MB 11.7 MB/s eta 0:00:25\n",
      "   --------- ------------------------------ 86.5/377.0 MB 11.7 MB/s eta 0:00:25\n",
      "   --------- ------------------------------ 87.1/377.0 MB 11.7 MB/s eta 0:00:25\n",
      "   --------- ------------------------------ 87.8/377.0 MB 12.1 MB/s eta 0:00:24\n",
      "   --------- ------------------------------ 88.4/377.0 MB 12.6 MB/s eta 0:00:23\n",
      "   --------- ------------------------------ 89.0/377.0 MB 12.8 MB/s eta 0:00:23\n",
      "   --------- ------------------------------ 89.5/377.0 MB 13.1 MB/s eta 0:00:22\n",
      "   --------- ------------------------------ 89.8/377.0 MB 12.6 MB/s eta 0:00:23\n",
      "   --------- ------------------------------ 90.0/377.0 MB 12.3 MB/s eta 0:00:24\n",
      "   --------- ------------------------------ 90.3/377.0 MB 12.1 MB/s eta 0:00:24\n",
      "   --------- ------------------------------ 90.5/377.0 MB 11.7 MB/s eta 0:00:25\n",
      "   --------- ------------------------------ 90.8/377.0 MB 11.3 MB/s eta 0:00:26\n",
      "   --------- ------------------------------ 91.1/377.0 MB 11.1 MB/s eta 0:00:26\n",
      "   --------- ------------------------------ 91.4/377.0 MB 11.1 MB/s eta 0:00:26\n",
      "   --------- ------------------------------ 91.6/377.0 MB 10.7 MB/s eta 0:00:27\n",
      "   --------- ------------------------------ 92.0/377.0 MB 10.6 MB/s eta 0:00:27\n",
      "   --------- ------------------------------ 92.2/377.0 MB 10.2 MB/s eta 0:00:28\n",
      "   --------- ------------------------------ 92.5/377.0 MB 9.9 MB/s eta 0:00:29\n",
      "   --------- ------------------------------ 92.8/377.0 MB 9.8 MB/s eta 0:00:30\n",
      "   --------- ------------------------------ 93.1/377.0 MB 9.5 MB/s eta 0:00:30\n",
      "   --------- ------------------------------ 93.7/377.0 MB 9.4 MB/s eta 0:00:31\n",
      "   ---------- ----------------------------- 94.4/377.0 MB 9.5 MB/s eta 0:00:30\n",
      "   ---------- ----------------------------- 95.0/377.0 MB 9.4 MB/s eta 0:00:31\n",
      "   ---------- ----------------------------- 95.7/377.0 MB 9.4 MB/s eta 0:00:31\n",
      "   ---------- ----------------------------- 96.3/377.0 MB 9.4 MB/s eta 0:00:31\n",
      "   ---------- ----------------------------- 96.9/377.0 MB 9.5 MB/s eta 0:00:30\n",
      "   ---------- ----------------------------- 97.5/377.0 MB 9.4 MB/s eta 0:00:30\n",
      "   ---------- ----------------------------- 98.2/377.0 MB 9.4 MB/s eta 0:00:30\n",
      "   ---------- ----------------------------- 98.8/377.0 MB 9.4 MB/s eta 0:00:30\n",
      "   ---------- ----------------------------- 99.5/377.0 MB 9.4 MB/s eta 0:00:30\n",
      "   ---------- ----------------------------- 100.1/377.0 MB 9.9 MB/s eta 0:00:28\n",
      "   ---------- ---------------------------- 100.4/377.0 MB 10.1 MB/s eta 0:00:28\n",
      "   ---------- ---------------------------- 101.1/377.0 MB 10.7 MB/s eta 0:00:26\n",
      "   ---------- ---------------------------- 101.7/377.0 MB 11.3 MB/s eta 0:00:25\n",
      "   ---------- ---------------------------- 102.4/377.0 MB 12.1 MB/s eta 0:00:23\n",
      "   ---------- ---------------------------- 102.9/377.0 MB 12.8 MB/s eta 0:00:22\n",
      "   ---------- ---------------------------- 103.6/377.0 MB 13.6 MB/s eta 0:00:21\n",
      "   ---------- ---------------------------- 104.2/377.0 MB 13.6 MB/s eta 0:00:20\n",
      "   ---------- ---------------------------- 104.9/377.0 MB 13.6 MB/s eta 0:00:20\n",
      "   ---------- ---------------------------- 105.6/377.0 MB 13.6 MB/s eta 0:00:20\n",
      "   ---------- ---------------------------- 106.2/377.0 MB 13.4 MB/s eta 0:00:21\n",
      "   ----------- --------------------------- 106.9/377.0 MB 13.6 MB/s eta 0:00:20\n",
      "   ----------- --------------------------- 107.6/377.0 MB 13.6 MB/s eta 0:00:20\n",
      "   ----------- --------------------------- 108.2/377.0 MB 13.6 MB/s eta 0:00:20\n",
      "   ----------- --------------------------- 108.2/377.0 MB 13.1 MB/s eta 0:00:21\n",
      "   ----------- --------------------------- 108.7/377.0 MB 12.8 MB/s eta 0:00:21\n",
      "   ----------- --------------------------- 108.9/377.0 MB 12.6 MB/s eta 0:00:22\n",
      "   ----------- --------------------------- 109.1/377.0 MB 11.9 MB/s eta 0:00:23\n",
      "   ----------- --------------------------- 109.3/377.0 MB 11.7 MB/s eta 0:00:23\n",
      "   ----------- --------------------------- 109.6/377.0 MB 11.1 MB/s eta 0:00:25\n",
      "   ----------- --------------------------- 109.9/377.0 MB 10.9 MB/s eta 0:00:25\n",
      "   ----------- --------------------------- 110.0/377.0 MB 10.4 MB/s eta 0:00:26\n",
      "   ----------- --------------------------- 110.4/377.0 MB 10.4 MB/s eta 0:00:26\n",
      "   ----------- --------------------------- 110.5/377.0 MB 10.2 MB/s eta 0:00:27\n",
      "   ----------- ---------------------------- 110.7/377.0 MB 9.8 MB/s eta 0:00:28\n",
      "   ----------- ---------------------------- 111.0/377.0 MB 9.6 MB/s eta 0:00:28\n",
      "   ----------- ---------------------------- 111.2/377.0 MB 9.4 MB/s eta 0:00:29\n",
      "   ----------- ---------------------------- 111.5/377.0 MB 9.0 MB/s eta 0:00:30\n",
      "   ----------- ---------------------------- 112.2/377.0 MB 9.1 MB/s eta 0:00:30\n",
      "   ----------- ---------------------------- 112.9/377.0 MB 9.1 MB/s eta 0:00:30\n",
      "   ------------ --------------------------- 113.4/377.0 MB 9.1 MB/s eta 0:00:29\n",
      "   ------------ --------------------------- 114.2/377.0 MB 9.1 MB/s eta 0:00:29\n",
      "   ------------ --------------------------- 114.7/377.0 MB 9.1 MB/s eta 0:00:29\n",
      "   ------------ --------------------------- 115.0/377.0 MB 8.8 MB/s eta 0:00:30\n",
      "   ------------ --------------------------- 115.6/377.0 MB 8.8 MB/s eta 0:00:30\n",
      "   ------------ --------------------------- 116.3/377.0 MB 8.8 MB/s eta 0:00:30\n",
      "   ------------ --------------------------- 116.9/377.0 MB 8.8 MB/s eta 0:00:30\n",
      "   ------------ --------------------------- 117.6/377.0 MB 8.8 MB/s eta 0:00:30\n",
      "   ------------ --------------------------- 118.3/377.0 MB 8.8 MB/s eta 0:00:30\n",
      "   ------------ --------------------------- 118.9/377.0 MB 9.2 MB/s eta 0:00:28\n",
      "   ------------ -------------------------- 119.6/377.0 MB 10.4 MB/s eta 0:00:25\n",
      "   ------------ -------------------------- 120.2/377.0 MB 10.9 MB/s eta 0:00:24\n",
      "   ------------ -------------------------- 120.9/377.0 MB 11.9 MB/s eta 0:00:22\n",
      "   ------------ -------------------------- 121.5/377.0 MB 13.4 MB/s eta 0:00:20\n",
      "   ------------ -------------------------- 122.0/377.0 MB 13.4 MB/s eta 0:00:20\n",
      "   ------------ -------------------------- 122.5/377.0 MB 13.1 MB/s eta 0:00:20\n",
      "   ------------ -------------------------- 123.2/377.0 MB 13.1 MB/s eta 0:00:20\n",
      "   ------------ -------------------------- 123.8/377.0 MB 13.4 MB/s eta 0:00:19\n",
      "   ------------ -------------------------- 124.4/377.0 MB 13.1 MB/s eta 0:00:20\n",
      "   ------------ -------------------------- 125.1/377.0 MB 13.6 MB/s eta 0:00:19\n",
      "   ------------- ------------------------- 125.8/377.0 MB 13.9 MB/s eta 0:00:19\n",
      "   ------------- ------------------------- 126.0/377.0 MB 13.9 MB/s eta 0:00:19\n",
      "   ------------- ------------------------- 126.4/377.0 MB 13.1 MB/s eta 0:00:20\n",
      "   ------------- ------------------------- 127.1/377.0 MB 13.1 MB/s eta 0:00:20\n",
      "   ------------- ------------------------- 127.7/377.0 MB 12.8 MB/s eta 0:00:20\n",
      "   ------------- ------------------------- 128.3/377.0 MB 13.1 MB/s eta 0:00:19\n",
      "   ------------- ------------------------- 128.5/377.0 MB 12.6 MB/s eta 0:00:20\n",
      "   ------------- ------------------------- 128.8/377.0 MB 11.9 MB/s eta 0:00:21\n",
      "   ------------- ------------------------- 129.1/377.0 MB 11.7 MB/s eta 0:00:22\n",
      "   ------------- ------------------------- 129.2/377.0 MB 11.3 MB/s eta 0:00:22\n",
      "   ------------- ------------------------- 129.6/377.0 MB 11.1 MB/s eta 0:00:23\n",
      "   ------------- ------------------------- 129.8/377.0 MB 10.7 MB/s eta 0:00:24\n",
      "   ------------- ------------------------- 130.1/377.0 MB 10.6 MB/s eta 0:00:24\n",
      "   ------------- ------------------------- 130.3/377.0 MB 10.1 MB/s eta 0:00:25\n",
      "   ------------- -------------------------- 130.6/377.0 MB 9.8 MB/s eta 0:00:26\n",
      "   ------------- -------------------------- 131.0/377.0 MB 9.6 MB/s eta 0:00:26\n",
      "   ------------- -------------------------- 131.2/377.0 MB 9.4 MB/s eta 0:00:27\n",
      "   ------------- -------------------------- 131.4/377.0 MB 9.1 MB/s eta 0:00:28\n",
      "   ------------- -------------------------- 131.7/377.0 MB 9.0 MB/s eta 0:00:28\n",
      "   ------------- -------------------------- 131.9/377.0 MB 8.6 MB/s eta 0:00:29\n",
      "   -------------- ------------------------- 132.4/377.0 MB 8.7 MB/s eta 0:00:29\n",
      "   -------------- ------------------------- 133.1/377.0 MB 8.7 MB/s eta 0:00:28\n",
      "   -------------- ------------------------- 133.7/377.0 MB 8.7 MB/s eta 0:00:28\n",
      "   -------------- ------------------------- 134.3/377.0 MB 8.7 MB/s eta 0:00:28\n",
      "   -------------- ------------------------- 135.0/377.0 MB 8.7 MB/s eta 0:00:28\n",
      "   -------------- ------------------------- 135.7/377.0 MB 8.7 MB/s eta 0:00:28\n",
      "   -------------- ------------------------- 136.2/377.0 MB 8.7 MB/s eta 0:00:28\n",
      "   -------------- ------------------------- 136.9/377.0 MB 9.0 MB/s eta 0:00:27\n",
      "   -------------- ------------------------- 137.6/377.0 MB 9.2 MB/s eta 0:00:26\n",
      "   -------------- ------------------------- 138.2/377.0 MB 9.1 MB/s eta 0:00:27\n",
      "   -------------- ------------------------- 138.9/377.0 MB 9.5 MB/s eta 0:00:26\n",
      "   -------------- ------------------------- 139.4/377.0 MB 9.9 MB/s eta 0:00:24\n",
      "   -------------- ------------------------ 140.1/377.0 MB 10.7 MB/s eta 0:00:23\n",
      "   -------------- ------------------------ 140.7/377.0 MB 11.5 MB/s eta 0:00:21\n",
      "   -------------- ------------------------ 141.4/377.0 MB 12.1 MB/s eta 0:00:20\n",
      "   -------------- ------------------------ 142.1/377.0 MB 13.6 MB/s eta 0:00:18\n",
      "   -------------- ------------------------ 142.7/377.0 MB 13.9 MB/s eta 0:00:17\n",
      "   -------------- ------------------------ 143.4/377.0 MB 13.9 MB/s eta 0:00:17\n",
      "   -------------- ------------------------ 144.0/377.0 MB 13.9 MB/s eta 0:00:17\n",
      "   -------------- ------------------------ 144.4/377.0 MB 13.9 MB/s eta 0:00:17\n",
      "   --------------- ----------------------- 145.0/377.0 MB 13.9 MB/s eta 0:00:17\n",
      "   --------------- ----------------------- 145.7/377.0 MB 13.9 MB/s eta 0:00:17\n",
      "   --------------- ----------------------- 146.4/377.0 MB 13.9 MB/s eta 0:00:17\n",
      "   --------------- ----------------------- 147.0/377.0 MB 13.9 MB/s eta 0:00:17\n",
      "   --------------- ----------------------- 147.3/377.0 MB 13.9 MB/s eta 0:00:17\n",
      "   --------------- ----------------------- 147.7/377.0 MB 13.1 MB/s eta 0:00:18\n",
      "   --------------- ----------------------- 148.3/377.0 MB 13.1 MB/s eta 0:00:18\n",
      "   --------------- ----------------------- 148.6/377.0 MB 12.6 MB/s eta 0:00:19\n",
      "   --------------- ----------------------- 148.8/377.0 MB 12.3 MB/s eta 0:00:19\n",
      "   --------------- ----------------------- 149.1/377.0 MB 11.7 MB/s eta 0:00:20\n",
      "   --------------- ----------------------- 149.3/377.0 MB 11.5 MB/s eta 0:00:20\n",
      "   --------------- ----------------------- 149.6/377.0 MB 11.1 MB/s eta 0:00:21\n",
      "   --------------- ----------------------- 149.7/377.0 MB 10.7 MB/s eta 0:00:22\n",
      "   --------------- ----------------------- 150.0/377.0 MB 10.6 MB/s eta 0:00:22\n",
      "   --------------- ----------------------- 150.3/377.0 MB 10.2 MB/s eta 0:00:23\n",
      "   --------------- ------------------------ 150.6/377.0 MB 9.9 MB/s eta 0:00:23\n",
      "   --------------- ------------------------ 150.8/377.0 MB 9.6 MB/s eta 0:00:24\n",
      "   ---------------- ----------------------- 151.0/377.0 MB 9.4 MB/s eta 0:00:25\n",
      "   ---------------- ----------------------- 151.3/377.0 MB 9.1 MB/s eta 0:00:25\n",
      "   ---------------- ----------------------- 152.0/377.0 MB 9.1 MB/s eta 0:00:25\n",
      "   ---------------- ----------------------- 152.6/377.0 MB 9.1 MB/s eta 0:00:25\n",
      "   ---------------- ----------------------- 153.3/377.0 MB 9.1 MB/s eta 0:00:25\n",
      "   ---------------- ----------------------- 153.9/377.0 MB 9.1 MB/s eta 0:00:25\n",
      "   ---------------- ----------------------- 154.6/377.0 MB 9.1 MB/s eta 0:00:25\n",
      "   ---------------- ----------------------- 155.2/377.0 MB 9.2 MB/s eta 0:00:25\n",
      "   ---------------- ----------------------- 155.9/377.0 MB 9.2 MB/s eta 0:00:24\n",
      "   ---------------- ----------------------- 156.5/377.0 MB 9.2 MB/s eta 0:00:24\n",
      "   ---------------- ----------------------- 157.2/377.0 MB 9.4 MB/s eta 0:00:24\n",
      "   ---------------- ----------------------- 157.8/377.0 MB 9.8 MB/s eta 0:00:23\n",
      "   ---------------- ----------------------- 158.5/377.0 MB 9.6 MB/s eta 0:00:23\n",
      "   ---------------- ---------------------- 159.1/377.0 MB 10.4 MB/s eta 0:00:21\n",
      "   ---------------- ---------------------- 159.7/377.0 MB 10.9 MB/s eta 0:00:20\n",
      "   ---------------- ---------------------- 160.4/377.0 MB 12.1 MB/s eta 0:00:18\n",
      "   ---------------- ---------------------- 161.1/377.0 MB 13.6 MB/s eta 0:00:16\n",
      "   ---------------- ---------------------- 161.7/377.0 MB 14.2 MB/s eta 0:00:16\n",
      "   ---------------- ---------------------- 162.4/377.0 MB 14.2 MB/s eta 0:00:16\n",
      "   ---------------- ---------------------- 163.0/377.0 MB 14.2 MB/s eta 0:00:16\n",
      "   ---------------- ---------------------- 163.7/377.0 MB 14.2 MB/s eta 0:00:15\n",
      "   ---------------- ---------------------- 164.3/377.0 MB 14.2 MB/s eta 0:00:15\n",
      "   ----------------- --------------------- 165.0/377.0 MB 14.2 MB/s eta 0:00:15\n",
      "   ----------------- --------------------- 165.6/377.0 MB 14.2 MB/s eta 0:00:15\n",
      "   ----------------- --------------------- 166.3/377.0 MB 14.2 MB/s eta 0:00:15\n",
      "   ----------------- --------------------- 166.9/377.0 MB 14.2 MB/s eta 0:00:15\n",
      "   ----------------- --------------------- 167.6/377.0 MB 14.2 MB/s eta 0:00:15\n",
      "   ----------------- --------------------- 168.2/377.0 MB 14.2 MB/s eta 0:00:15\n",
      "   ----------------- --------------------- 168.8/377.0 MB 14.2 MB/s eta 0:00:15\n",
      "   ----------------- --------------------- 169.5/377.0 MB 14.2 MB/s eta 0:00:15\n",
      "   ----------------- --------------------- 170.1/377.0 MB 14.2 MB/s eta 0:00:15\n",
      "   ----------------- --------------------- 170.5/377.0 MB 13.9 MB/s eta 0:00:15\n",
      "   ----------------- --------------------- 170.8/377.0 MB 13.6 MB/s eta 0:00:16\n",
      "   ----------------- --------------------- 171.0/377.0 MB 13.1 MB/s eta 0:00:16\n",
      "   ----------------- --------------------- 171.3/377.0 MB 12.6 MB/s eta 0:00:17\n",
      "   ----------------- --------------------- 171.4/377.0 MB 12.3 MB/s eta 0:00:17\n",
      "   ----------------- --------------------- 171.7/377.0 MB 11.7 MB/s eta 0:00:18\n",
      "   ----------------- --------------------- 172.0/377.0 MB 11.5 MB/s eta 0:00:18\n",
      "   ----------------- --------------------- 172.2/377.0 MB 10.9 MB/s eta 0:00:19\n",
      "   ----------------- --------------------- 172.6/377.0 MB 10.7 MB/s eta 0:00:20\n",
      "   ----------------- --------------------- 172.7/377.0 MB 10.2 MB/s eta 0:00:20\n",
      "   ----------------- --------------------- 173.0/377.0 MB 10.1 MB/s eta 0:00:21\n",
      "   ------------------ --------------------- 173.2/377.0 MB 9.8 MB/s eta 0:00:21\n",
      "   ------------------ --------------------- 173.4/377.0 MB 9.5 MB/s eta 0:00:22\n",
      "   ------------------ --------------------- 174.0/377.0 MB 9.4 MB/s eta 0:00:22\n",
      "   ------------------ --------------------- 174.7/377.0 MB 9.5 MB/s eta 0:00:22\n",
      "   ------------------ --------------------- 175.3/377.0 MB 9.4 MB/s eta 0:00:22\n",
      "   ------------------ --------------------- 176.0/377.0 MB 9.5 MB/s eta 0:00:22\n",
      "   ------------------ --------------------- 176.6/377.0 MB 9.4 MB/s eta 0:00:22\n",
      "   ------------------ --------------------- 177.3/377.0 MB 9.4 MB/s eta 0:00:22\n",
      "   ------------------ --------------------- 177.9/377.0 MB 9.5 MB/s eta 0:00:21\n",
      "   ------------------ --------------------- 178.6/377.0 MB 9.5 MB/s eta 0:00:21\n",
      "   ------------------- -------------------- 179.3/377.0 MB 9.5 MB/s eta 0:00:21\n",
      "   ------------------- -------------------- 179.9/377.0 MB 9.5 MB/s eta 0:00:21\n",
      "   ------------------- -------------------- 180.6/377.0 MB 9.6 MB/s eta 0:00:21\n",
      "   ------------------- -------------------- 181.2/377.0 MB 9.9 MB/s eta 0:00:20\n",
      "   ------------------ -------------------- 181.9/377.0 MB 10.9 MB/s eta 0:00:18\n",
      "   ------------------ -------------------- 182.5/377.0 MB 11.9 MB/s eta 0:00:17\n",
      "   ------------------ -------------------- 183.2/377.0 MB 13.1 MB/s eta 0:00:15\n",
      "   ------------------- ------------------- 183.8/377.0 MB 14.2 MB/s eta 0:00:14\n",
      "   ------------------- ------------------- 184.5/377.0 MB 14.2 MB/s eta 0:00:14\n",
      "   ------------------- ------------------- 185.2/377.0 MB 14.2 MB/s eta 0:00:14\n",
      "   ------------------- ------------------- 185.8/377.0 MB 14.2 MB/s eta 0:00:14\n",
      "   ------------------- ------------------- 186.4/377.0 MB 14.6 MB/s eta 0:00:14\n",
      "   ------------------- ------------------- 187.1/377.0 MB 14.2 MB/s eta 0:00:14\n",
      "   ------------------- ------------------- 187.8/377.0 MB 14.6 MB/s eta 0:00:14\n",
      "   ------------------- ------------------- 188.4/377.0 MB 14.2 MB/s eta 0:00:14\n",
      "   ------------------- ------------------- 189.0/377.0 MB 14.2 MB/s eta 0:00:14\n",
      "   ------------------- ------------------- 189.6/377.0 MB 14.2 MB/s eta 0:00:14\n",
      "   ------------------- ------------------- 189.9/377.0 MB 13.6 MB/s eta 0:00:14\n",
      "   ------------------- ------------------- 190.0/377.0 MB 13.1 MB/s eta 0:00:15\n",
      "   ------------------- ------------------- 190.2/377.0 MB 12.6 MB/s eta 0:00:15\n",
      "   ------------------- ------------------- 190.5/377.0 MB 12.1 MB/s eta 0:00:16\n",
      "   ------------------- ------------------- 190.8/377.0 MB 11.9 MB/s eta 0:00:16\n",
      "   ------------------- ------------------- 190.9/377.0 MB 11.5 MB/s eta 0:00:17\n",
      "   ------------------- ------------------- 191.1/377.0 MB 11.1 MB/s eta 0:00:17\n",
      "   ------------------- ------------------- 191.3/377.0 MB 10.7 MB/s eta 0:00:18\n",
      "   ------------------- ------------------- 191.4/377.0 MB 10.2 MB/s eta 0:00:19\n",
      "   -------------------- ------------------- 191.7/377.0 MB 9.9 MB/s eta 0:00:19\n",
      "   -------------------- ------------------- 192.0/377.0 MB 9.8 MB/s eta 0:00:19\n",
      "   -------------------- ------------------- 192.3/377.0 MB 9.5 MB/s eta 0:00:20\n",
      "   -------------------- ------------------- 193.0/377.0 MB 9.5 MB/s eta 0:00:20\n",
      "   -------------------- ------------------- 193.6/377.0 MB 9.5 MB/s eta 0:00:20\n",
      "   -------------------- ------------------- 194.3/377.0 MB 9.5 MB/s eta 0:00:20\n",
      "   -------------------- ------------------- 194.8/377.0 MB 9.4 MB/s eta 0:00:20\n",
      "   -------------------- ------------------- 195.5/377.0 MB 9.4 MB/s eta 0:00:20\n",
      "   -------------------- ------------------- 196.1/377.0 MB 9.4 MB/s eta 0:00:20\n",
      "   -------------------- ------------------- 196.8/377.0 MB 9.4 MB/s eta 0:00:20\n",
      "   -------------------- ------------------- 197.4/377.0 MB 9.5 MB/s eta 0:00:19\n",
      "   --------------------- ------------------ 198.1/377.0 MB 9.4 MB/s eta 0:00:20\n",
      "   --------------------- ------------------ 198.7/377.0 MB 9.5 MB/s eta 0:00:19\n",
      "   --------------------- ------------------ 199.4/377.0 MB 9.5 MB/s eta 0:00:19\n",
      "   --------------------- ------------------ 200.1/377.0 MB 9.8 MB/s eta 0:00:19\n",
      "   -------------------- ------------------ 200.7/377.0 MB 10.7 MB/s eta 0:00:17\n",
      "   -------------------- ------------------ 201.4/377.0 MB 11.9 MB/s eta 0:00:15\n",
      "   -------------------- ------------------ 202.0/377.0 MB 13.4 MB/s eta 0:00:14\n",
      "   -------------------- ------------------ 202.6/377.0 MB 14.2 MB/s eta 0:00:13\n",
      "   --------------------- ----------------- 203.2/377.0 MB 13.9 MB/s eta 0:00:13\n",
      "   --------------------- ----------------- 203.9/377.0 MB 13.9 MB/s eta 0:00:13\n",
      "   --------------------- ----------------- 204.6/377.0 MB 13.9 MB/s eta 0:00:13\n",
      "   --------------------- ----------------- 205.2/377.0 MB 13.9 MB/s eta 0:00:13\n",
      "   --------------------- ----------------- 205.8/377.0 MB 13.9 MB/s eta 0:00:13\n",
      "   --------------------- ----------------- 206.5/377.0 MB 14.2 MB/s eta 0:00:12\n",
      "   --------------------- ----------------- 207.1/377.0 MB 14.2 MB/s eta 0:00:12\n",
      "   --------------------- ----------------- 207.7/377.0 MB 14.2 MB/s eta 0:00:12\n",
      "   --------------------- ----------------- 208.3/377.0 MB 14.2 MB/s eta 0:00:12\n",
      "   --------------------- ----------------- 208.9/377.0 MB 13.9 MB/s eta 0:00:13\n",
      "   --------------------- ----------------- 209.5/377.0 MB 13.9 MB/s eta 0:00:13\n",
      "   --------------------- ----------------- 209.6/377.0 MB 13.1 MB/s eta 0:00:13\n",
      "   --------------------- ----------------- 209.9/377.0 MB 12.6 MB/s eta 0:00:14\n",
      "   --------------------- ----------------- 210.1/377.0 MB 12.1 MB/s eta 0:00:14\n",
      "   --------------------- ----------------- 210.4/377.0 MB 11.9 MB/s eta 0:00:15\n",
      "   --------------------- ----------------- 210.6/377.0 MB 11.5 MB/s eta 0:00:15\n",
      "   --------------------- ----------------- 210.9/377.0 MB 11.1 MB/s eta 0:00:15\n",
      "   --------------------- ----------------- 211.1/377.0 MB 10.9 MB/s eta 0:00:16\n",
      "   --------------------- ----------------- 211.3/377.0 MB 10.6 MB/s eta 0:00:16\n",
      "   --------------------- ----------------- 211.4/377.0 MB 10.1 MB/s eta 0:00:17\n",
      "   ---------------------- ----------------- 211.7/377.0 MB 9.8 MB/s eta 0:00:17\n",
      "   ---------------------- ----------------- 212.0/377.0 MB 9.6 MB/s eta 0:00:18\n",
      "   ---------------------- ----------------- 212.6/377.0 MB 9.6 MB/s eta 0:00:18\n",
      "   ---------------------- ----------------- 213.3/377.0 MB 9.6 MB/s eta 0:00:18\n",
      "   ---------------------- ----------------- 213.9/377.0 MB 9.6 MB/s eta 0:00:17\n",
      "   ---------------------- ----------------- 214.6/377.0 MB 9.6 MB/s eta 0:00:17\n",
      "   ---------------------- ----------------- 215.3/377.0 MB 9.6 MB/s eta 0:00:17\n",
      "   ---------------------- ----------------- 215.9/377.0 MB 9.6 MB/s eta 0:00:17\n",
      "   ---------------------- ----------------- 216.6/377.0 MB 9.6 MB/s eta 0:00:17\n",
      "   ----------------------- ---------------- 217.2/377.0 MB 9.6 MB/s eta 0:00:17\n",
      "   ----------------------- ---------------- 217.9/377.0 MB 9.6 MB/s eta 0:00:17\n",
      "   ----------------------- ---------------- 218.6/377.0 MB 9.6 MB/s eta 0:00:17\n",
      "   ----------------------- ---------------- 219.2/377.0 MB 9.8 MB/s eta 0:00:17\n",
      "   ---------------------- ---------------- 219.9/377.0 MB 10.1 MB/s eta 0:00:16\n",
      "   ---------------------- ---------------- 220.4/377.0 MB 10.6 MB/s eta 0:00:15\n",
      "   ---------------------- ---------------- 221.0/377.0 MB 11.5 MB/s eta 0:00:14\n",
      "   ---------------------- ---------------- 221.5/377.0 MB 12.1 MB/s eta 0:00:13\n",
      "   ---------------------- ---------------- 222.2/377.0 MB 13.6 MB/s eta 0:00:12\n",
      "   ----------------------- --------------- 222.8/377.0 MB 13.6 MB/s eta 0:00:12\n",
      "   ----------------------- --------------- 223.5/377.0 MB 13.9 MB/s eta 0:00:12\n",
      "   ----------------------- --------------- 224.1/377.0 MB 13.9 MB/s eta 0:00:11\n",
      "   ----------------------- --------------- 224.8/377.0 MB 13.9 MB/s eta 0:00:11\n",
      "   ----------------------- --------------- 225.4/377.0 MB 13.9 MB/s eta 0:00:11\n",
      "   ----------------------- --------------- 226.1/377.0 MB 13.9 MB/s eta 0:00:11\n",
      "   ----------------------- --------------- 226.8/377.0 MB 13.9 MB/s eta 0:00:11\n",
      "   ----------------------- --------------- 227.3/377.0 MB 13.6 MB/s eta 0:00:11\n",
      "   ----------------------- --------------- 228.1/377.0 MB 13.9 MB/s eta 0:00:11\n",
      "   ----------------------- --------------- 228.6/377.0 MB 13.6 MB/s eta 0:00:11\n",
      "   ----------------------- --------------- 229.3/377.0 MB 13.6 MB/s eta 0:00:11\n",
      "   ----------------------- --------------- 229.9/377.0 MB 13.6 MB/s eta 0:00:11\n",
      "   ----------------------- --------------- 230.5/377.0 MB 13.9 MB/s eta 0:00:11\n",
      "   ----------------------- --------------- 231.2/377.0 MB 13.9 MB/s eta 0:00:11\n",
      "   ----------------------- --------------- 231.8/377.0 MB 14.2 MB/s eta 0:00:11\n",
      "   ------------------------ -------------- 232.5/377.0 MB 14.2 MB/s eta 0:00:11\n",
      "   ------------------------ -------------- 232.9/377.0 MB 13.9 MB/s eta 0:00:11\n",
      "   ------------------------ -------------- 233.1/377.0 MB 13.6 MB/s eta 0:00:11\n",
      "   ------------------------ -------------- 233.3/377.0 MB 12.9 MB/s eta 0:00:12\n",
      "   ------------------------ -------------- 233.6/377.0 MB 12.4 MB/s eta 0:00:12\n",
      "   ------------------------ -------------- 233.9/377.0 MB 11.9 MB/s eta 0:00:13\n",
      "   ------------------------ -------------- 234.1/377.0 MB 11.5 MB/s eta 0:00:13\n",
      "   ------------------------ -------------- 234.4/377.0 MB 11.3 MB/s eta 0:00:13\n",
      "   ------------------------ -------------- 234.6/377.0 MB 10.9 MB/s eta 0:00:14\n",
      "   ------------------------ -------------- 234.8/377.0 MB 10.6 MB/s eta 0:00:14\n",
      "   ------------------------ -------------- 235.0/377.0 MB 10.2 MB/s eta 0:00:14\n",
      "   ------------------------ --------------- 235.3/377.0 MB 9.9 MB/s eta 0:00:15\n",
      "   ------------------------ --------------- 235.5/377.0 MB 9.8 MB/s eta 0:00:15\n",
      "   ------------------------- -------------- 235.8/377.0 MB 9.5 MB/s eta 0:00:15\n",
      "   ------------------------- -------------- 236.0/377.0 MB 9.2 MB/s eta 0:00:16\n",
      "   ------------------------- -------------- 236.2/377.0 MB 9.1 MB/s eta 0:00:16\n",
      "   ------------------------- -------------- 236.5/377.0 MB 8.7 MB/s eta 0:00:17\n",
      "   ------------------------- -------------- 236.9/377.0 MB 8.6 MB/s eta 0:00:17\n",
      "   ------------------------- -------------- 237.6/377.0 MB 8.6 MB/s eta 0:00:17\n",
      "   ------------------------- -------------- 238.2/377.0 MB 8.5 MB/s eta 0:00:17\n",
      "   ------------------------- -------------- 238.8/377.0 MB 8.6 MB/s eta 0:00:17\n",
      "   ------------------------- -------------- 239.4/377.0 MB 8.5 MB/s eta 0:00:17\n",
      "   ------------------------- -------------- 240.1/377.0 MB 8.6 MB/s eta 0:00:16\n",
      "   ------------------------- -------------- 240.8/377.0 MB 8.5 MB/s eta 0:00:17\n",
      "   ------------------------- -------------- 241.4/377.0 MB 8.6 MB/s eta 0:00:16\n",
      "   ------------------------- -------------- 242.1/377.0 MB 8.7 MB/s eta 0:00:16\n",
      "   ------------------------- -------------- 242.7/377.0 MB 8.7 MB/s eta 0:00:16\n",
      "   ------------------------- -------------- 243.4/377.0 MB 9.1 MB/s eta 0:00:15\n",
      "   ------------------------- -------------- 244.0/377.0 MB 9.6 MB/s eta 0:00:14\n",
      "   ------------------------- ------------- 244.7/377.0 MB 10.4 MB/s eta 0:00:13\n",
      "   ------------------------- ------------- 245.3/377.0 MB 11.3 MB/s eta 0:00:12\n",
      "   ------------------------- ------------- 246.0/377.0 MB 12.6 MB/s eta 0:00:11\n",
      "   ------------------------- ------------- 246.6/377.0 MB 13.4 MB/s eta 0:00:10\n",
      "   ------------------------- ------------- 247.1/377.0 MB 14.2 MB/s eta 0:00:10\n",
      "   ------------------------- ------------- 247.8/377.0 MB 14.2 MB/s eta 0:00:10\n",
      "   ------------------------- ------------- 248.4/377.0 MB 14.2 MB/s eta 0:00:10\n",
      "   ------------------------- ------------- 249.1/377.0 MB 14.2 MB/s eta 0:00:09\n",
      "   ------------------------- ------------- 249.6/377.0 MB 14.2 MB/s eta 0:00:09\n",
      "   ------------------------- ------------- 250.4/377.0 MB 14.2 MB/s eta 0:00:09\n",
      "   ------------------------- ------------- 251.0/377.0 MB 14.2 MB/s eta 0:00:09\n",
      "   -------------------------- ------------ 251.4/377.0 MB 14.2 MB/s eta 0:00:09\n",
      "   -------------------------- ------------ 251.6/377.0 MB 13.4 MB/s eta 0:00:10\n",
      "   -------------------------- ------------ 252.3/377.0 MB 13.1 MB/s eta 0:00:10\n",
      "   -------------------------- ------------ 252.6/377.0 MB 13.1 MB/s eta 0:00:10\n",
      "   -------------------------- ------------ 252.9/377.0 MB 12.4 MB/s eta 0:00:11\n",
      "   -------------------------- ------------ 253.2/377.0 MB 12.4 MB/s eta 0:00:11\n",
      "   -------------------------- ------------ 253.5/377.0 MB 11.9 MB/s eta 0:00:11\n",
      "   -------------------------- ------------ 253.8/377.0 MB 11.5 MB/s eta 0:00:11\n",
      "   -------------------------- ------------ 254.1/377.0 MB 11.3 MB/s eta 0:00:11\n",
      "   -------------------------- ------------ 254.4/377.0 MB 10.9 MB/s eta 0:00:12\n",
      "   -------------------------- ------------ 254.6/377.0 MB 10.7 MB/s eta 0:00:12\n",
      "   -------------------------- ------------ 254.8/377.0 MB 10.4 MB/s eta 0:00:12\n",
      "   --------------------------- ------------ 255.1/377.0 MB 9.9 MB/s eta 0:00:13\n",
      "   --------------------------- ------------ 255.3/377.0 MB 9.6 MB/s eta 0:00:13\n",
      "   --------------------------- ------------ 255.5/377.0 MB 9.5 MB/s eta 0:00:13\n",
      "   --------------------------- ------------ 255.7/377.0 MB 9.1 MB/s eta 0:00:14\n",
      "   --------------------------- ------------ 256.0/377.0 MB 9.0 MB/s eta 0:00:14\n",
      "   --------------------------- ------------ 256.1/377.0 MB 8.7 MB/s eta 0:00:14\n",
      "   --------------------------- ------------ 256.6/377.0 MB 8.5 MB/s eta 0:00:15\n",
      "   --------------------------- ------------ 257.2/377.0 MB 8.6 MB/s eta 0:00:14\n",
      "   --------------------------- ------------ 257.8/377.0 MB 8.5 MB/s eta 0:00:15\n",
      "   --------------------------- ------------ 258.4/377.0 MB 8.5 MB/s eta 0:00:14\n",
      "   --------------------------- ------------ 259.1/377.0 MB 8.5 MB/s eta 0:00:14\n",
      "   --------------------------- ------------ 259.7/377.0 MB 8.5 MB/s eta 0:00:14\n",
      "   --------------------------- ------------ 260.4/377.0 MB 8.5 MB/s eta 0:00:14\n",
      "   --------------------------- ------------ 261.1/377.0 MB 8.5 MB/s eta 0:00:14\n",
      "   --------------------------- ------------ 261.3/377.0 MB 8.4 MB/s eta 0:00:14\n",
      "   --------------------------- ------------ 261.7/377.0 MB 8.4 MB/s eta 0:00:14\n",
      "   --------------------------- ------------ 262.2/377.0 MB 8.5 MB/s eta 0:00:14\n",
      "   --------------------------- ------------ 263.0/377.0 MB 8.6 MB/s eta 0:00:14\n",
      "   --------------------------- ------------ 263.6/377.0 MB 9.1 MB/s eta 0:00:13\n",
      "   ---------------------------- ----------- 264.2/377.0 MB 9.5 MB/s eta 0:00:12\n",
      "   --------------------------- ----------- 264.9/377.0 MB 10.2 MB/s eta 0:00:11\n",
      "   --------------------------- ----------- 265.5/377.0 MB 11.1 MB/s eta 0:00:11\n",
      "   --------------------------- ----------- 266.2/377.0 MB 12.4 MB/s eta 0:00:09\n",
      "   --------------------------- ----------- 266.7/377.0 MB 13.1 MB/s eta 0:00:09\n",
      "   --------------------------- ----------- 267.3/377.0 MB 13.1 MB/s eta 0:00:09\n",
      "   --------------------------- ----------- 267.9/377.0 MB 13.1 MB/s eta 0:00:09\n",
      "   --------------------------- ----------- 268.6/377.0 MB 13.1 MB/s eta 0:00:09\n",
      "   --------------------------- ----------- 268.8/377.0 MB 12.8 MB/s eta 0:00:09\n",
      "   --------------------------- ----------- 269.2/377.0 MB 12.4 MB/s eta 0:00:09\n",
      "   --------------------------- ----------- 269.5/377.0 MB 12.1 MB/s eta 0:00:09\n",
      "   --------------------------- ----------- 269.7/377.0 MB 11.5 MB/s eta 0:00:10\n",
      "   --------------------------- ----------- 270.0/377.0 MB 11.3 MB/s eta 0:00:10\n",
      "   --------------------------- ----------- 270.1/377.0 MB 10.7 MB/s eta 0:00:10\n",
      "   --------------------------- ----------- 270.4/377.0 MB 10.6 MB/s eta 0:00:11\n",
      "   --------------------------- ----------- 270.5/377.0 MB 10.2 MB/s eta 0:00:11\n",
      "   ---------------------------- ----------- 270.8/377.0 MB 9.8 MB/s eta 0:00:11\n",
      "   ---------------------------- ----------- 271.0/377.0 MB 9.6 MB/s eta 0:00:12\n",
      "   ---------------------------- ----------- 271.3/377.0 MB 9.2 MB/s eta 0:00:12\n",
      "   ---------------------------- ----------- 271.6/377.0 MB 9.5 MB/s eta 0:00:12\n",
      "   ---------------------------- ----------- 272.0/377.0 MB 9.4 MB/s eta 0:00:12\n",
      "   ---------------------------- ----------- 272.2/377.0 MB 9.2 MB/s eta 0:00:12\n",
      "   ---------------------------- ----------- 272.4/377.0 MB 8.8 MB/s eta 0:00:12\n",
      "   ---------------------------- ----------- 272.8/377.0 MB 8.7 MB/s eta 0:00:12\n",
      "   ----------------------------- ---------- 273.4/377.0 MB 8.7 MB/s eta 0:00:12\n",
      "   ----------------------------- ---------- 274.1/377.0 MB 8.7 MB/s eta 0:00:12\n",
      "   ----------------------------- ---------- 274.7/377.0 MB 8.7 MB/s eta 0:00:12\n",
      "   ----------------------------- ---------- 275.3/377.0 MB 8.6 MB/s eta 0:00:12\n",
      "   ----------------------------- ---------- 276.0/377.0 MB 8.7 MB/s eta 0:00:12\n",
      "   ----------------------------- ---------- 276.7/377.0 MB 8.7 MB/s eta 0:00:12\n",
      "   ----------------------------- ---------- 277.1/377.0 MB 8.7 MB/s eta 0:00:12\n",
      "   ----------------------------- ---------- 277.4/377.0 MB 8.4 MB/s eta 0:00:12\n",
      "   ----------------------------- ---------- 278.1/377.0 MB 8.5 MB/s eta 0:00:12\n",
      "   ----------------------------- ---------- 278.7/377.0 MB 8.5 MB/s eta 0:00:12\n",
      "   ----------------------------- ---------- 279.3/377.0 MB 8.7 MB/s eta 0:00:12\n",
      "   ----------------------------- ---------- 279.9/377.0 MB 9.4 MB/s eta 0:00:11\n",
      "   ----------------------------- --------- 280.6/377.0 MB 10.4 MB/s eta 0:00:10\n",
      "   ----------------------------- --------- 281.0/377.0 MB 10.7 MB/s eta 0:00:09\n",
      "   ----------------------------- --------- 281.4/377.0 MB 11.1 MB/s eta 0:00:09\n",
      "   ----------------------------- --------- 282.1/377.0 MB 11.7 MB/s eta 0:00:09\n",
      "   ----------------------------- --------- 282.6/377.0 MB 11.9 MB/s eta 0:00:08\n",
      "   ----------------------------- --------- 283.3/377.0 MB 12.8 MB/s eta 0:00:08\n",
      "   ----------------------------- --------- 283.9/377.0 MB 12.8 MB/s eta 0:00:08\n",
      "   ----------------------------- --------- 284.6/377.0 MB 12.8 MB/s eta 0:00:08\n",
      "   ----------------------------- --------- 285.2/377.0 MB 12.6 MB/s eta 0:00:08\n",
      "   ----------------------------- --------- 285.9/377.0 MB 12.8 MB/s eta 0:00:08\n",
      "   ----------------------------- --------- 286.5/377.0 MB 12.8 MB/s eta 0:00:08\n",
      "   ----------------------------- --------- 287.2/377.0 MB 12.9 MB/s eta 0:00:07\n",
      "   ----------------------------- --------- 287.8/377.0 MB 13.6 MB/s eta 0:00:07\n",
      "   ----------------------------- --------- 288.3/377.0 MB 13.6 MB/s eta 0:00:07\n",
      "   ----------------------------- --------- 288.6/377.0 MB 13.1 MB/s eta 0:00:07\n",
      "   ----------------------------- --------- 288.9/377.0 MB 12.6 MB/s eta 0:00:08\n",
      "   ----------------------------- --------- 289.1/377.0 MB 12.1 MB/s eta 0:00:08\n",
      "   ----------------------------- --------- 289.5/377.0 MB 11.7 MB/s eta 0:00:08\n",
      "   ----------------------------- --------- 289.7/377.0 MB 11.5 MB/s eta 0:00:08\n",
      "   ----------------------------- --------- 289.9/377.0 MB 10.9 MB/s eta 0:00:08\n",
      "   ------------------------------ -------- 290.2/377.0 MB 10.7 MB/s eta 0:00:09\n",
      "   ------------------------------ -------- 290.3/377.0 MB 10.6 MB/s eta 0:00:09\n",
      "   ------------------------------ -------- 290.6/377.0 MB 10.2 MB/s eta 0:00:09\n",
      "   ------------------------------ --------- 290.8/377.0 MB 9.8 MB/s eta 0:00:09\n",
      "   ------------------------------ --------- 291.1/377.0 MB 9.5 MB/s eta 0:00:10\n",
      "   ------------------------------ --------- 291.3/377.0 MB 9.6 MB/s eta 0:00:09\n",
      "   ------------------------------ --------- 291.5/377.0 MB 9.4 MB/s eta 0:00:10\n",
      "   ------------------------------ --------- 291.8/377.0 MB 9.1 MB/s eta 0:00:10\n",
      "   ------------------------------ --------- 292.0/377.0 MB 9.0 MB/s eta 0:00:10\n",
      "   ------------------------------- -------- 292.2/377.0 MB 8.7 MB/s eta 0:00:10\n",
      "   ------------------------------- -------- 292.8/377.0 MB 8.5 MB/s eta 0:00:10\n",
      "   ------------------------------- -------- 293.4/377.0 MB 8.5 MB/s eta 0:00:10\n",
      "   ------------------------------- -------- 294.0/377.0 MB 8.6 MB/s eta 0:00:10\n",
      "   ------------------------------- -------- 294.6/377.0 MB 8.6 MB/s eta 0:00:10\n",
      "   ------------------------------- -------- 295.3/377.0 MB 8.6 MB/s eta 0:00:10\n",
      "   ------------------------------- -------- 295.9/377.0 MB 8.6 MB/s eta 0:00:10\n",
      "   ------------------------------- -------- 296.6/377.0 MB 8.6 MB/s eta 0:00:10\n",
      "   ------------------------------- -------- 297.3/377.0 MB 8.6 MB/s eta 0:00:10\n",
      "   ------------------------------- -------- 297.9/377.0 MB 8.5 MB/s eta 0:00:10\n",
      "   ------------------------------- -------- 298.6/377.0 MB 8.6 MB/s eta 0:00:10\n",
      "   ------------------------------- -------- 299.2/377.0 MB 9.1 MB/s eta 0:00:09\n",
      "   ------------------------------- -------- 299.9/377.0 MB 9.6 MB/s eta 0:00:09\n",
      "   ------------------------------- ------- 300.5/377.0 MB 10.4 MB/s eta 0:00:08\n",
      "   ------------------------------- ------- 301.2/377.0 MB 11.5 MB/s eta 0:00:07\n",
      "   ------------------------------- ------- 301.8/377.0 MB 12.6 MB/s eta 0:00:06\n",
      "   ------------------------------- ------- 302.5/377.0 MB 14.2 MB/s eta 0:00:06\n",
      "   ------------------------------- ------- 303.1/377.0 MB 14.2 MB/s eta 0:00:06\n",
      "   ------------------------------- ------- 303.7/377.0 MB 14.2 MB/s eta 0:00:06\n",
      "   ------------------------------- ------- 304.4/377.0 MB 14.2 MB/s eta 0:00:06\n",
      "   ------------------------------- ------- 305.0/377.0 MB 14.2 MB/s eta 0:00:06\n",
      "   ------------------------------- ------- 305.7/377.0 MB 14.2 MB/s eta 0:00:06\n",
      "   ------------------------------- ------- 306.2/377.0 MB 13.9 MB/s eta 0:00:06\n",
      "   ------------------------------- ------- 306.9/377.0 MB 13.9 MB/s eta 0:00:06\n",
      "   ------------------------------- ------- 307.5/377.0 MB 14.2 MB/s eta 0:00:05\n",
      "   ------------------------------- ------- 308.2/377.0 MB 14.2 MB/s eta 0:00:05\n",
      "   ------------------------------- ------- 308.8/377.0 MB 14.2 MB/s eta 0:00:05\n",
      "   -------------------------------- ------ 309.4/377.0 MB 14.2 MB/s eta 0:00:05\n",
      "   -------------------------------- ------ 310.1/377.0 MB 14.2 MB/s eta 0:00:05\n",
      "   -------------------------------- ------ 310.7/377.0 MB 14.2 MB/s eta 0:00:05\n",
      "   -------------------------------- ------ 311.2/377.0 MB 13.9 MB/s eta 0:00:05\n",
      "   -------------------------------- ------ 311.4/377.0 MB 13.4 MB/s eta 0:00:05\n",
      "   -------------------------------- ------ 311.8/377.0 MB 12.8 MB/s eta 0:00:06\n",
      "   -------------------------------- ------ 312.0/377.0 MB 12.6 MB/s eta 0:00:06\n",
      "   -------------------------------- ------ 312.2/377.0 MB 12.1 MB/s eta 0:00:06\n",
      "   -------------------------------- ------ 312.4/377.0 MB 11.7 MB/s eta 0:00:06\n",
      "   -------------------------------- ------ 312.6/377.0 MB 11.5 MB/s eta 0:00:06\n",
      "   -------------------------------- ------ 313.0/377.0 MB 11.1 MB/s eta 0:00:06\n",
      "   -------------------------------- ------ 313.3/377.0 MB 10.9 MB/s eta 0:00:06\n",
      "   -------------------------------- ------ 313.6/377.0 MB 10.6 MB/s eta 0:00:07\n",
      "   -------------------------------- ------ 313.9/377.0 MB 10.4 MB/s eta 0:00:07\n",
      "   -------------------------------- ------ 314.2/377.0 MB 10.1 MB/s eta 0:00:07\n",
      "   --------------------------------- ------ 314.5/377.0 MB 9.8 MB/s eta 0:00:07\n",
      "   --------------------------------- ------ 314.7/377.0 MB 9.5 MB/s eta 0:00:07\n",
      "   --------------------------------- ------ 314.9/377.0 MB 9.5 MB/s eta 0:00:07\n",
      "   --------------------------------- ------ 315.3/377.0 MB 9.1 MB/s eta 0:00:07\n",
      "   --------------------------------- ------ 315.5/377.0 MB 9.0 MB/s eta 0:00:07\n",
      "   --------------------------------- ------ 315.8/377.0 MB 8.6 MB/s eta 0:00:08\n",
      "   --------------------------------- ------ 315.9/377.0 MB 8.6 MB/s eta 0:00:08\n",
      "   --------------------------------- ------ 316.2/377.0 MB 8.3 MB/s eta 0:00:08\n",
      "   --------------------------------- ------ 316.5/377.0 MB 8.1 MB/s eta 0:00:08\n",
      "   --------------------------------- ------ 317.2/377.0 MB 8.1 MB/s eta 0:00:08\n",
      "   --------------------------------- ------ 317.8/377.0 MB 8.1 MB/s eta 0:00:08\n",
      "   --------------------------------- ------ 318.5/377.0 MB 8.1 MB/s eta 0:00:08\n",
      "   --------------------------------- ------ 319.1/377.0 MB 8.2 MB/s eta 0:00:08\n",
      "   --------------------------------- ------ 319.8/377.0 MB 8.2 MB/s eta 0:00:07\n",
      "   ---------------------------------- ----- 320.5/377.0 MB 8.2 MB/s eta 0:00:07\n",
      "   ---------------------------------- ----- 321.2/377.0 MB 8.2 MB/s eta 0:00:07\n",
      "   ---------------------------------- ----- 321.8/377.0 MB 8.4 MB/s eta 0:00:07\n",
      "   ---------------------------------- ----- 322.4/377.0 MB 9.0 MB/s eta 0:00:07\n",
      "   ---------------------------------- ----- 323.1/377.0 MB 9.5 MB/s eta 0:00:06\n",
      "   --------------------------------- ----- 323.7/377.0 MB 10.1 MB/s eta 0:00:06\n",
      "   --------------------------------- ----- 324.3/377.0 MB 10.4 MB/s eta 0:00:06\n",
      "   --------------------------------- ----- 325.0/377.0 MB 11.5 MB/s eta 0:00:05\n",
      "   --------------------------------- ----- 325.7/377.0 MB 12.1 MB/s eta 0:00:05\n",
      "   --------------------------------- ----- 326.3/377.0 MB 13.6 MB/s eta 0:00:04\n",
      "   --------------------------------- ----- 326.7/377.0 MB 13.9 MB/s eta 0:00:04\n",
      "   --------------------------------- ----- 327.0/377.0 MB 13.4 MB/s eta 0:00:04\n",
      "   --------------------------------- ----- 327.2/377.0 MB 12.8 MB/s eta 0:00:04\n",
      "   --------------------------------- ----- 327.5/377.0 MB 12.6 MB/s eta 0:00:04\n",
      "   --------------------------------- ----- 327.7/377.0 MB 12.1 MB/s eta 0:00:05\n",
      "   --------------------------------- ----- 328.1/377.0 MB 11.9 MB/s eta 0:00:05\n",
      "   --------------------------------- ----- 328.3/377.0 MB 11.5 MB/s eta 0:00:05\n",
      "   ---------------------------------- ---- 328.7/377.0 MB 11.1 MB/s eta 0:00:05\n",
      "   ---------------------------------- ---- 328.9/377.0 MB 10.9 MB/s eta 0:00:05\n",
      "   ---------------------------------- ---- 329.3/377.0 MB 10.6 MB/s eta 0:00:05\n",
      "   ---------------------------------- ---- 329.5/377.0 MB 10.4 MB/s eta 0:00:05\n",
      "   ----------------------------------- ---- 329.9/377.0 MB 9.9 MB/s eta 0:00:05\n",
      "   ----------------------------------- ---- 330.1/377.0 MB 9.9 MB/s eta 0:00:05\n",
      "   ----------------------------------- ---- 330.5/377.0 MB 9.6 MB/s eta 0:00:05\n",
      "   ----------------------------------- ---- 330.7/377.0 MB 9.5 MB/s eta 0:00:05\n",
      "   ----------------------------------- ---- 331.0/377.0 MB 9.1 MB/s eta 0:00:06\n",
      "   ----------------------------------- ---- 331.3/377.0 MB 8.8 MB/s eta 0:00:06\n",
      "   ----------------------------------- ---- 331.5/377.0 MB 8.7 MB/s eta 0:00:06\n",
      "   ----------------------------------- ---- 331.7/377.0 MB 8.5 MB/s eta 0:00:06\n",
      "   ----------------------------------- ---- 332.0/377.0 MB 8.3 MB/s eta 0:00:06\n",
      "   ----------------------------------- ---- 332.6/377.0 MB 8.3 MB/s eta 0:00:06\n",
      "   ----------------------------------- ---- 333.2/377.0 MB 8.3 MB/s eta 0:00:06\n",
      "   ----------------------------------- ---- 333.9/377.0 MB 8.3 MB/s eta 0:00:06\n",
      "   ----------------------------------- ---- 334.6/377.0 MB 8.3 MB/s eta 0:00:06\n",
      "   ----------------------------------- ---- 335.2/377.0 MB 8.3 MB/s eta 0:00:06\n",
      "   ----------------------------------- ---- 335.9/377.0 MB 8.4 MB/s eta 0:00:05\n",
      "   ----------------------------------- ---- 336.5/377.0 MB 8.4 MB/s eta 0:00:05\n",
      "   ----------------------------------- ---- 337.2/377.0 MB 8.7 MB/s eta 0:00:05\n",
      "   ----------------------------------- ---- 337.8/377.0 MB 9.2 MB/s eta 0:00:05\n",
      "   ----------------------------------- ---- 338.5/377.0 MB 9.6 MB/s eta 0:00:04\n",
      "   ----------------------------------- --- 339.1/377.0 MB 10.1 MB/s eta 0:00:04\n",
      "   ----------------------------------- --- 339.8/377.0 MB 10.9 MB/s eta 0:00:04\n",
      "   ----------------------------------- --- 340.5/377.0 MB 11.5 MB/s eta 0:00:04\n",
      "   ----------------------------------- --- 341.1/377.0 MB 12.3 MB/s eta 0:00:03\n",
      "   ----------------------------------- --- 341.8/377.0 MB 13.6 MB/s eta 0:00:03\n",
      "   ----------------------------------- --- 342.4/377.0 MB 14.2 MB/s eta 0:00:03\n",
      "   ----------------------------------- --- 343.1/377.0 MB 14.2 MB/s eta 0:00:03\n",
      "   ----------------------------------- --- 343.7/377.0 MB 14.2 MB/s eta 0:00:03\n",
      "   ----------------------------------- --- 344.4/377.0 MB 14.6 MB/s eta 0:00:03\n",
      "   ----------------------------------- --- 345.0/377.0 MB 14.6 MB/s eta 0:00:03\n",
      "   ----------------------------------- --- 345.7/377.0 MB 14.6 MB/s eta 0:00:03\n",
      "   ----------------------------------- --- 346.2/377.0 MB 14.2 MB/s eta 0:00:03\n",
      "   ----------------------------------- --- 346.5/377.0 MB 13.9 MB/s eta 0:00:03\n",
      "   ----------------------------------- --- 346.9/377.0 MB 13.4 MB/s eta 0:00:03\n",
      "   ----------------------------------- --- 347.1/377.0 MB 12.8 MB/s eta 0:00:03\n",
      "   ----------------------------------- --- 347.4/377.0 MB 12.4 MB/s eta 0:00:03\n",
      "   ----------------------------------- --- 347.7/377.0 MB 12.1 MB/s eta 0:00:03\n",
      "   ----------------------------------- --- 347.8/377.0 MB 11.5 MB/s eta 0:00:03\n",
      "   ------------------------------------ -- 348.1/377.0 MB 11.5 MB/s eta 0:00:03\n",
      "   ------------------------------------ -- 348.3/377.0 MB 11.3 MB/s eta 0:00:03\n",
      "   ------------------------------------ -- 348.6/377.0 MB 10.7 MB/s eta 0:00:03\n",
      "   ------------------------------------ -- 348.8/377.0 MB 10.2 MB/s eta 0:00:03\n",
      "   ------------------------------------ -- 349.1/377.0 MB 10.1 MB/s eta 0:00:03\n",
      "   ------------------------------------- -- 349.3/377.0 MB 9.8 MB/s eta 0:00:03\n",
      "   ------------------------------------- -- 349.5/377.0 MB 9.5 MB/s eta 0:00:03\n",
      "   ------------------------------------- -- 350.0/377.0 MB 9.4 MB/s eta 0:00:03\n",
      "   ------------------------------------- -- 350.6/377.0 MB 9.4 MB/s eta 0:00:03\n",
      "   ------------------------------------- -- 351.3/377.0 MB 9.4 MB/s eta 0:00:03\n",
      "   ------------------------------------- -- 351.9/377.0 MB 9.4 MB/s eta 0:00:03\n",
      "   ------------------------------------- -- 352.5/377.0 MB 9.2 MB/s eta 0:00:03\n",
      "   ------------------------------------- -- 353.1/377.0 MB 9.4 MB/s eta 0:00:03\n",
      "   ------------------------------------- -- 353.8/377.0 MB 9.4 MB/s eta 0:00:03\n",
      "   ------------------------------------- -- 354.4/377.0 MB 9.2 MB/s eta 0:00:03\n",
      "   ------------------------------------- -- 355.1/377.0 MB 9.2 MB/s eta 0:00:03\n",
      "   ------------------------------------- -- 355.7/377.0 MB 9.2 MB/s eta 0:00:03\n",
      "   ------------------------------------- -- 356.4/377.0 MB 9.2 MB/s eta 0:00:03\n",
      "   ------------------------------------- -- 357.0/377.0 MB 9.6 MB/s eta 0:00:03\n",
      "   ------------------------------------- - 357.7/377.0 MB 10.2 MB/s eta 0:00:02\n",
      "   ------------------------------------- - 358.3/377.0 MB 11.1 MB/s eta 0:00:02\n",
      "   ------------------------------------- - 359.0/377.0 MB 12.1 MB/s eta 0:00:02\n",
      "   ------------------------------------- - 359.7/377.0 MB 13.4 MB/s eta 0:00:02\n",
      "   ------------------------------------- - 360.3/377.0 MB 14.2 MB/s eta 0:00:02\n",
      "   ------------------------------------- - 361.0/377.0 MB 14.6 MB/s eta 0:00:02\n",
      "   ------------------------------------- - 361.5/377.0 MB 14.2 MB/s eta 0:00:02\n",
      "   ------------------------------------- - 362.2/377.0 MB 14.2 MB/s eta 0:00:02\n",
      "   ------------------------------------- - 362.9/377.0 MB 14.2 MB/s eta 0:00:01\n",
      "   ------------------------------------- - 363.6/377.0 MB 14.2 MB/s eta 0:00:01\n",
      "   ------------------------------------- - 364.1/377.0 MB 14.2 MB/s eta 0:00:01\n",
      "   ------------------------------------- - 364.7/377.0 MB 14.2 MB/s eta 0:00:01\n",
      "   ------------------------------------- - 365.4/377.0 MB 14.2 MB/s eta 0:00:01\n",
      "   ------------------------------------- - 366.0/377.0 MB 14.2 MB/s eta 0:00:01\n",
      "   ------------------------------------- - 366.7/377.0 MB 14.6 MB/s eta 0:00:01\n",
      "   --------------------------------------  367.3/377.0 MB 14.6 MB/s eta 0:00:01\n",
      "   --------------------------------------  368.0/377.0 MB 14.2 MB/s eta 0:00:01\n",
      "   --------------------------------------  368.6/377.0 MB 14.2 MB/s eta 0:00:01\n",
      "   --------------------------------------  368.9/377.0 MB 13.6 MB/s eta 0:00:01\n",
      "   --------------------------------------  369.1/377.0 MB 13.4 MB/s eta 0:00:01\n",
      "   --------------------------------------  369.4/377.0 MB 12.8 MB/s eta 0:00:01\n",
      "   --------------------------------------  369.5/377.0 MB 12.1 MB/s eta 0:00:01\n",
      "   --------------------------------------  369.8/377.0 MB 11.7 MB/s eta 0:00:01\n",
      "   --------------------------------------  370.1/377.0 MB 11.5 MB/s eta 0:00:01\n",
      "   --------------------------------------  370.3/377.0 MB 11.1 MB/s eta 0:00:01\n",
      "   --------------------------------------  370.5/377.0 MB 10.9 MB/s eta 0:00:01\n",
      "   --------------------------------------  370.7/377.0 MB 10.4 MB/s eta 0:00:01\n",
      "   --------------------------------------  371.1/377.0 MB 10.1 MB/s eta 0:00:01\n",
      "   ---------------------------------------  371.4/377.0 MB 9.9 MB/s eta 0:00:01\n",
      "   ---------------------------------------  371.7/377.0 MB 9.6 MB/s eta 0:00:01\n",
      "   ---------------------------------------  371.9/377.0 MB 9.5 MB/s eta 0:00:01\n",
      "   ---------------------------------------  372.3/377.0 MB 9.2 MB/s eta 0:00:01\n",
      "   ---------------------------------------  372.6/377.0 MB 9.1 MB/s eta 0:00:01\n",
      "   ---------------------------------------  372.7/377.0 MB 8.7 MB/s eta 0:00:01\n",
      "   ---------------------------------------  373.0/377.0 MB 8.6 MB/s eta 0:00:01\n",
      "   ---------------------------------------  373.6/377.0 MB 8.6 MB/s eta 0:00:01\n",
      "   ---------------------------------------  374.3/377.0 MB 8.5 MB/s eta 0:00:01\n",
      "   ---------------------------------------  374.9/377.0 MB 8.5 MB/s eta 0:00:01\n",
      "   ---------------------------------------  375.5/377.0 MB 8.5 MB/s eta 0:00:01\n",
      "   ---------------------------------------  376.3/377.0 MB 8.5 MB/s eta 0:00:01\n",
      "   ---------------------------------------  376.9/377.0 MB 8.5 MB/s eta 0:00:01\n",
      "   ---------------------------------------  377.0/377.0 MB 8.4 MB/s eta 0:00:01\n",
      "   ---------------------------------------  377.0/377.0 MB 8.4 MB/s eta 0:00:01\n",
      "   ---------------------------------------  377.0/377.0 MB 8.4 MB/s eta 0:00:01\n",
      "   ---------------------------------------  377.0/377.0 MB 8.4 MB/s eta 0:00:01\n",
      "   ---------------------------------------  377.0/377.0 MB 8.4 MB/s eta 0:00:01\n",
      "   ---------------------------------------  377.0/377.0 MB 8.4 MB/s eta 0:00:01\n",
      "   ---------------------------------------  377.0/377.0 MB 8.4 MB/s eta 0:00:01\n",
      "   ---------------------------------------  377.0/377.0 MB 8.4 MB/s eta 0:00:01\n",
      "   ---------------------------------------  377.0/377.0 MB 8.4 MB/s eta 0:00:01\n",
      "   ---------------------------------------  377.0/377.0 MB 8.4 MB/s eta 0:00:01\n",
      "   ---------------------------------------  377.0/377.0 MB 8.4 MB/s eta 0:00:01\n",
      "   ---------------------------------------  377.0/377.0 MB 8.4 MB/s eta 0:00:01\n",
      "   ---------------------------------------  377.0/377.0 MB 8.4 MB/s eta 0:00:01\n",
      "   ---------------------------------------  377.0/377.0 MB 8.4 MB/s eta 0:00:01\n",
      "   ---------------------------------------  377.0/377.0 MB 8.4 MB/s eta 0:00:01\n",
      "   ---------------------------------------  377.0/377.0 MB 8.4 MB/s eta 0:00:01\n",
      "   ---------------------------------------  377.0/377.0 MB 8.4 MB/s eta 0:00:01\n",
      "   ---------------------------------------  377.0/377.0 MB 8.4 MB/s eta 0:00:01\n",
      "   ---------------------------------------  377.0/377.0 MB 8.4 MB/s eta 0:00:01\n",
      "   ---------------------------------------  377.0/377.0 MB 8.4 MB/s eta 0:00:01\n",
      "   ---------------------------------------  377.0/377.0 MB 8.4 MB/s eta 0:00:01\n",
      "   ---------------------------------------  377.0/377.0 MB 8.4 MB/s eta 0:00:01\n",
      "   ---------------------------------------  377.0/377.0 MB 8.4 MB/s eta 0:00:01\n",
      "   ---------------------------------------  377.0/377.0 MB 8.4 MB/s eta 0:00:01\n",
      "   ---------------------------------------  377.0/377.0 MB 8.4 MB/s eta 0:00:01\n",
      "   ---------------------------------------  377.0/377.0 MB 8.4 MB/s eta 0:00:01\n",
      "   ---------------------------------------  377.0/377.0 MB 8.4 MB/s eta 0:00:01\n",
      "   ---------------------------------------  377.0/377.0 MB 8.4 MB/s eta 0:00:01\n",
      "   ---------------------------------------  377.0/377.0 MB 8.4 MB/s eta 0:00:01\n",
      "   ---------------------------------------  377.0/377.0 MB 8.4 MB/s eta 0:00:01\n",
      "   ---------------------------------------  377.0/377.0 MB 8.4 MB/s eta 0:00:01\n",
      "   ---------------------------------------  377.0/377.0 MB 8.4 MB/s eta 0:00:01\n",
      "   ---------------------------------------  377.0/377.0 MB 8.4 MB/s eta 0:00:01\n",
      "   ---------------------------------------  377.0/377.0 MB 8.4 MB/s eta 0:00:01\n",
      "   ---------------------------------------  377.0/377.0 MB 8.4 MB/s eta 0:00:01\n",
      "   ---------------------------------------  377.0/377.0 MB 8.4 MB/s eta 0:00:01\n",
      "   ---------------------------------------  377.0/377.0 MB 8.4 MB/s eta 0:00:01\n",
      "   ---------------------------------------  377.0/377.0 MB 8.4 MB/s eta 0:00:01\n",
      "   ---------------------------------------  377.0/377.0 MB 8.4 MB/s eta 0:00:01\n",
      "   ---------------------------------------  377.0/377.0 MB 8.4 MB/s eta 0:00:01\n",
      "   ---------------------------------------  377.0/377.0 MB 8.4 MB/s eta 0:00:01\n",
      "   ---------------------------------------  377.0/377.0 MB 8.4 MB/s eta 0:00:01\n",
      "   ---------------------------------------  377.0/377.0 MB 8.4 MB/s eta 0:00:01\n",
      "   ---------------------------------------  377.0/377.0 MB 8.4 MB/s eta 0:00:01\n",
      "   ---------------------------------------  377.0/377.0 MB 8.4 MB/s eta 0:00:01\n",
      "   ---------------------------------------  377.0/377.0 MB 8.4 MB/s eta 0:00:01\n",
      "   ---------------------------------------  377.0/377.0 MB 8.4 MB/s eta 0:00:01\n",
      "   ---------------------------------------  377.0/377.0 MB 8.4 MB/s eta 0:00:01\n",
      "   ---------------------------------------  377.0/377.0 MB 8.4 MB/s eta 0:00:01\n",
      "   ---------------------------------------  377.0/377.0 MB 8.4 MB/s eta 0:00:01\n",
      "   ---------------------------------------  377.0/377.0 MB 8.4 MB/s eta 0:00:01\n",
      "   ---------------------------------------  377.0/377.0 MB 8.4 MB/s eta 0:00:01\n",
      "   ---------------------------------------  377.0/377.0 MB 8.4 MB/s eta 0:00:01\n",
      "   ---------------------------------------  377.0/377.0 MB 8.4 MB/s eta 0:00:01\n",
      "   ---------------------------------------  377.0/377.0 MB 8.4 MB/s eta 0:00:01\n",
      "   ---------------------------------------  377.0/377.0 MB 8.4 MB/s eta 0:00:01\n",
      "   ---------------------------------------  377.0/377.0 MB 8.4 MB/s eta 0:00:01\n",
      "   ---------------------------------------  377.0/377.0 MB 8.4 MB/s eta 0:00:01\n",
      "   ---------------------------------------  377.0/377.0 MB 8.4 MB/s eta 0:00:01\n",
      "   ---------------------------------------  377.0/377.0 MB 8.4 MB/s eta 0:00:01\n",
      "   ---------------------------------------  377.0/377.0 MB 8.4 MB/s eta 0:00:01\n",
      "   ---------------------------------------  377.0/377.0 MB 8.4 MB/s eta 0:00:01\n",
      "   ---------------------------------------  377.0/377.0 MB 8.4 MB/s eta 0:00:01\n",
      "   ---------------------------------------  377.0/377.0 MB 8.4 MB/s eta 0:00:01\n",
      "   ---------------------------------------  377.0/377.0 MB 8.4 MB/s eta 0:00:01\n",
      "   ---------------------------------------  377.0/377.0 MB 8.4 MB/s eta 0:00:01\n",
      "   ---------------------------------------  377.0/377.0 MB 8.4 MB/s eta 0:00:01\n",
      "   ---------------------------------------  377.0/377.0 MB 8.4 MB/s eta 0:00:01\n",
      "   ---------------------------------------  377.0/377.0 MB 8.4 MB/s eta 0:00:01\n",
      "   ---------------------------------------  377.0/377.0 MB 8.4 MB/s eta 0:00:01\n",
      "   ---------------------------------------  377.0/377.0 MB 8.4 MB/s eta 0:00:01\n",
      "   ---------------------------------------  377.0/377.0 MB 8.4 MB/s eta 0:00:01\n",
      "   ---------------------------------------  377.0/377.0 MB 8.4 MB/s eta 0:00:01\n",
      "   ---------------------------------------  377.0/377.0 MB 8.4 MB/s eta 0:00:01\n",
      "   ---------------------------------------  377.0/377.0 MB 8.4 MB/s eta 0:00:01\n",
      "   ---------------------------------------  377.0/377.0 MB 8.4 MB/s eta 0:00:01\n",
      "   ---------------------------------------  377.0/377.0 MB 8.4 MB/s eta 0:00:01\n",
      "   ---------------------------------------  377.0/377.0 MB 8.4 MB/s eta 0:00:01\n",
      "   ---------------------------------------  377.0/377.0 MB 8.4 MB/s eta 0:00:01\n",
      "   ---------------------------------------  377.0/377.0 MB 8.4 MB/s eta 0:00:01\n",
      "   ---------------------------------------  377.0/377.0 MB 8.4 MB/s eta 0:00:01\n",
      "   ---------------------------------------  377.0/377.0 MB 8.4 MB/s eta 0:00:01\n",
      "   ---------------------------------------  377.0/377.0 MB 8.4 MB/s eta 0:00:01\n",
      "   ---------------------------------------  377.0/377.0 MB 8.4 MB/s eta 0:00:01\n",
      "   ---------------------------------------  377.0/377.0 MB 8.4 MB/s eta 0:00:01\n",
      "   ---------------------------------------  377.0/377.0 MB 8.4 MB/s eta 0:00:01\n",
      "   ---------------------------------------  377.0/377.0 MB 8.4 MB/s eta 0:00:01\n",
      "   ---------------------------------------  377.0/377.0 MB 8.4 MB/s eta 0:00:01\n",
      "   ---------------------------------------  377.0/377.0 MB 8.4 MB/s eta 0:00:01\n",
      "   ---------------------------------------  377.0/377.0 MB 8.4 MB/s eta 0:00:01\n",
      "   ---------------------------------------  377.0/377.0 MB 8.4 MB/s eta 0:00:01\n",
      "   ---------------------------------------  377.0/377.0 MB 8.4 MB/s eta 0:00:01\n",
      "   ---------------------------------------  377.0/377.0 MB 8.4 MB/s eta 0:00:01\n",
      "   ---------------------------------------  377.0/377.0 MB 8.4 MB/s eta 0:00:01\n",
      "   ---------------------------------------  377.0/377.0 MB 8.4 MB/s eta 0:00:01\n",
      "   ---------------------------------------  377.0/377.0 MB 8.4 MB/s eta 0:00:01\n",
      "   ---------------------------------------  377.0/377.0 MB 8.4 MB/s eta 0:00:01\n",
      "   ---------------------------------------  377.0/377.0 MB 8.4 MB/s eta 0:00:01\n",
      "   ---------------------------------------  377.0/377.0 MB 8.4 MB/s eta 0:00:01\n",
      "   ---------------------------------------  377.0/377.0 MB 8.4 MB/s eta 0:00:01\n",
      "   ---------------------------------------  377.0/377.0 MB 8.4 MB/s eta 0:00:01\n",
      "   ---------------------------------------  377.0/377.0 MB 8.4 MB/s eta 0:00:01\n",
      "   ---------------------------------------  377.0/377.0 MB 8.4 MB/s eta 0:00:01\n",
      "   ---------------------------------------  377.0/377.0 MB 8.4 MB/s eta 0:00:01\n",
      "   ---------------------------------------  377.0/377.0 MB 8.4 MB/s eta 0:00:01\n",
      "   ---------------------------------------  377.0/377.0 MB 8.4 MB/s eta 0:00:01\n",
      "   ---------------------------------------  377.0/377.0 MB 8.4 MB/s eta 0:00:01\n",
      "   ---------------------------------------  377.0/377.0 MB 8.4 MB/s eta 0:00:01\n",
      "   ---------------------------------------  377.0/377.0 MB 8.4 MB/s eta 0:00:01\n",
      "   ---------------------------------------  377.0/377.0 MB 8.4 MB/s eta 0:00:01\n",
      "   ---------------------------------------  377.0/377.0 MB 8.4 MB/s eta 0:00:01\n",
      "   ---------------------------------------  377.0/377.0 MB 8.4 MB/s eta 0:00:01\n",
      "   ---------------------------------------  377.0/377.0 MB 8.4 MB/s eta 0:00:01\n",
      "   ---------------------------------------  377.0/377.0 MB 8.4 MB/s eta 0:00:01\n",
      "   ---------------------------------------  377.0/377.0 MB 8.4 MB/s eta 0:00:01\n",
      "   ---------------------------------------  377.0/377.0 MB 8.4 MB/s eta 0:00:01\n",
      "   ---------------------------------------  377.0/377.0 MB 8.4 MB/s eta 0:00:01\n",
      "   ---------------------------------------  377.0/377.0 MB 8.4 MB/s eta 0:00:01\n",
      "   ---------------------------------------  377.0/377.0 MB 8.4 MB/s eta 0:00:01\n",
      "   ---------------------------------------  377.0/377.0 MB 8.4 MB/s eta 0:00:01\n",
      "   ---------------------------------------  377.0/377.0 MB 8.4 MB/s eta 0:00:01\n",
      "   ---------------------------------------  377.0/377.0 MB 8.4 MB/s eta 0:00:01\n",
      "   ---------------------------------------  377.0/377.0 MB 8.4 MB/s eta 0:00:01\n",
      "   ---------------------------------------  377.0/377.0 MB 8.4 MB/s eta 0:00:01\n",
      "   ---------------------------------------  377.0/377.0 MB 8.4 MB/s eta 0:00:01\n",
      "   ---------------------------------------  377.0/377.0 MB 8.4 MB/s eta 0:00:01\n",
      "   ---------------------------------------  377.0/377.0 MB 8.4 MB/s eta 0:00:01\n",
      "   ---------------------------------------  377.0/377.0 MB 8.4 MB/s eta 0:00:01\n",
      "   ---------------------------------------  377.0/377.0 MB 8.4 MB/s eta 0:00:01\n",
      "   ---------------------------------------  377.0/377.0 MB 8.4 MB/s eta 0:00:01\n",
      "   ---------------------------------------  377.0/377.0 MB 8.4 MB/s eta 0:00:01\n",
      "   ---------------------------------------  377.0/377.0 MB 8.4 MB/s eta 0:00:01\n",
      "   ---------------------------------------  377.0/377.0 MB 8.4 MB/s eta 0:00:01\n",
      "   ---------------------------------------  377.0/377.0 MB 8.4 MB/s eta 0:00:01\n",
      "   ---------------------------------------  377.0/377.0 MB 8.4 MB/s eta 0:00:01\n",
      "   ---------------------------------------  377.0/377.0 MB 8.4 MB/s eta 0:00:01\n",
      "   ---------------------------------------  377.0/377.0 MB 8.4 MB/s eta 0:00:01\n",
      "   ---------------------------------------  377.0/377.0 MB 8.4 MB/s eta 0:00:01\n",
      "   ---------------------------------------  377.0/377.0 MB 8.4 MB/s eta 0:00:01\n",
      "   ---------------------------------------  377.0/377.0 MB 8.4 MB/s eta 0:00:01\n",
      "   ---------------------------------------  377.0/377.0 MB 8.4 MB/s eta 0:00:01\n",
      "   ---------------------------------------  377.0/377.0 MB 8.4 MB/s eta 0:00:01\n",
      "   ---------------------------------------  377.0/377.0 MB 8.4 MB/s eta 0:00:01\n",
      "   ---------------------------------------  377.0/377.0 MB 8.4 MB/s eta 0:00:01\n",
      "   ---------------------------------------  377.0/377.0 MB 8.4 MB/s eta 0:00:01\n",
      "   ---------------------------------------  377.0/377.0 MB 8.4 MB/s eta 0:00:01\n",
      "   ---------------------------------------  377.0/377.0 MB 8.4 MB/s eta 0:00:01\n",
      "   ---------------------------------------  377.0/377.0 MB 8.4 MB/s eta 0:00:01\n",
      "   ---------------------------------------  377.0/377.0 MB 8.4 MB/s eta 0:00:01\n",
      "   ---------------------------------------  377.0/377.0 MB 8.4 MB/s eta 0:00:01\n",
      "   ---------------------------------------  377.0/377.0 MB 8.4 MB/s eta 0:00:01\n",
      "   ---------------------------------------  377.0/377.0 MB 8.4 MB/s eta 0:00:01\n",
      "   ---------------------------------------  377.0/377.0 MB 8.4 MB/s eta 0:00:01\n",
      "   ---------------------------------------  377.0/377.0 MB 8.4 MB/s eta 0:00:01\n",
      "   ---------------------------------------  377.0/377.0 MB 8.4 MB/s eta 0:00:01\n",
      "   ---------------------------------------  377.0/377.0 MB 8.4 MB/s eta 0:00:01\n",
      "   ---------------------------------------  377.0/377.0 MB 8.4 MB/s eta 0:00:01\n",
      "   ---------------------------------------  377.0/377.0 MB 8.4 MB/s eta 0:00:01\n",
      "   ---------------------------------------  377.0/377.0 MB 8.4 MB/s eta 0:00:01\n",
      "   ---------------------------------------  377.0/377.0 MB 8.4 MB/s eta 0:00:01\n",
      "   ---------------------------------------  377.0/377.0 MB 8.4 MB/s eta 0:00:01\n",
      "   ---------------------------------------  377.0/377.0 MB 8.4 MB/s eta 0:00:01\n",
      "   ---------------------------------------  377.0/377.0 MB 8.4 MB/s eta 0:00:01\n",
      "   ---------------------------------------  377.0/377.0 MB 8.4 MB/s eta 0:00:01\n",
      "   ---------------------------------------  377.0/377.0 MB 8.4 MB/s eta 0:00:01\n",
      "   ---------------------------------------  377.0/377.0 MB 8.4 MB/s eta 0:00:01\n",
      "   ---------------------------------------  377.0/377.0 MB 8.4 MB/s eta 0:00:01\n",
      "   ---------------------------------------  377.0/377.0 MB 8.4 MB/s eta 0:00:01\n",
      "   ---------------------------------------  377.0/377.0 MB 8.4 MB/s eta 0:00:01\n",
      "   ---------------------------------------  377.0/377.0 MB 8.4 MB/s eta 0:00:01\n",
      "   ---------------------------------------  377.0/377.0 MB 8.4 MB/s eta 0:00:01\n",
      "   ---------------------------------------  377.0/377.0 MB 8.4 MB/s eta 0:00:01\n",
      "   ---------------------------------------  377.0/377.0 MB 8.4 MB/s eta 0:00:01\n",
      "   ---------------------------------------  377.0/377.0 MB 8.4 MB/s eta 0:00:01\n",
      "   ---------------------------------------  377.0/377.0 MB 8.4 MB/s eta 0:00:01\n",
      "   ---------------------------------------  377.0/377.0 MB 8.4 MB/s eta 0:00:01\n",
      "   ---------------------------------------  377.0/377.0 MB 8.4 MB/s eta 0:00:01\n",
      "   ---------------------------------------  377.0/377.0 MB 8.4 MB/s eta 0:00:01\n",
      "   ---------------------------------------  377.0/377.0 MB 8.4 MB/s eta 0:00:01\n",
      "   ---------------------------------------  377.0/377.0 MB 8.4 MB/s eta 0:00:01\n",
      "   ---------------------------------------  377.0/377.0 MB 8.4 MB/s eta 0:00:01\n",
      "   ---------------------------------------  377.0/377.0 MB 8.4 MB/s eta 0:00:01\n",
      "   ---------------------------------------  377.0/377.0 MB 8.4 MB/s eta 0:00:01\n",
      "   ---------------------------------------  377.0/377.0 MB 8.4 MB/s eta 0:00:01\n",
      "   ---------------------------------------  377.0/377.0 MB 8.4 MB/s eta 0:00:01\n",
      "   ---------------------------------------  377.0/377.0 MB 8.4 MB/s eta 0:00:01\n",
      "   ---------------------------------------  377.0/377.0 MB 8.4 MB/s eta 0:00:01\n",
      "   ---------------------------------------  377.0/377.0 MB 8.4 MB/s eta 0:00:01\n",
      "   ---------------------------------------  377.0/377.0 MB 8.4 MB/s eta 0:00:01\n",
      "   ---------------------------------------  377.0/377.0 MB 8.4 MB/s eta 0:00:01\n",
      "   ---------------------------------------  377.0/377.0 MB 8.4 MB/s eta 0:00:01\n",
      "   ---------------------------------------  377.0/377.0 MB 8.4 MB/s eta 0:00:01\n",
      "   ---------------------------------------  377.0/377.0 MB 8.4 MB/s eta 0:00:01\n",
      "   ---------------------------------------  377.0/377.0 MB 8.4 MB/s eta 0:00:01\n",
      "   ---------------------------------------  377.0/377.0 MB 8.4 MB/s eta 0:00:01\n",
      "   ---------------------------------------  377.0/377.0 MB 8.4 MB/s eta 0:00:01\n",
      "   ---------------------------------------  377.0/377.0 MB 8.4 MB/s eta 0:00:01\n",
      "   ---------------------------------------  377.0/377.0 MB 8.4 MB/s eta 0:00:01\n",
      "   ---------------------------------------  377.0/377.0 MB 8.4 MB/s eta 0:00:01\n",
      "   ---------------------------------------  377.0/377.0 MB 8.4 MB/s eta 0:00:01\n",
      "   ---------------------------------------  377.0/377.0 MB 8.4 MB/s eta 0:00:01\n",
      "   ---------------------------------------  377.0/377.0 MB 8.4 MB/s eta 0:00:01\n",
      "   ---------------------------------------  377.0/377.0 MB 8.4 MB/s eta 0:00:01\n",
      "   ---------------------------------------  377.0/377.0 MB 8.4 MB/s eta 0:00:01\n",
      "   ---------------------------------------  377.0/377.0 MB 8.4 MB/s eta 0:00:01\n",
      "   ---------------------------------------  377.0/377.0 MB 8.4 MB/s eta 0:00:01\n",
      "   ---------------------------------------  377.0/377.0 MB 8.4 MB/s eta 0:00:01\n",
      "   ---------------------------------------  377.0/377.0 MB 8.4 MB/s eta 0:00:01\n",
      "   ---------------------------------------  377.0/377.0 MB 8.4 MB/s eta 0:00:01\n",
      "   ---------------------------------------  377.0/377.0 MB 8.4 MB/s eta 0:00:01\n",
      "   ---------------------------------------  377.0/377.0 MB 8.4 MB/s eta 0:00:01\n",
      "   ---------------------------------------  377.0/377.0 MB 8.4 MB/s eta 0:00:01\n",
      "   ---------------------------------------  377.0/377.0 MB 8.4 MB/s eta 0:00:01\n",
      "   ---------------------------------------  377.0/377.0 MB 8.4 MB/s eta 0:00:01\n",
      "   ---------------------------------------  377.0/377.0 MB 8.4 MB/s eta 0:00:01\n",
      "   ---------------------------------------  377.0/377.0 MB 8.4 MB/s eta 0:00:01\n",
      "   ---------------------------------------  377.0/377.0 MB 8.4 MB/s eta 0:00:01\n",
      "   ---------------------------------------  377.0/377.0 MB 8.4 MB/s eta 0:00:01\n",
      "   ---------------------------------------  377.0/377.0 MB 8.4 MB/s eta 0:00:01\n",
      "   ---------------------------------------  377.0/377.0 MB 8.4 MB/s eta 0:00:01\n",
      "   ---------------------------------------  377.0/377.0 MB 8.4 MB/s eta 0:00:01\n",
      "   ---------------------------------------  377.0/377.0 MB 8.4 MB/s eta 0:00:01\n",
      "   ---------------------------------------  377.0/377.0 MB 8.4 MB/s eta 0:00:01\n",
      "   ---------------------------------------  377.0/377.0 MB 8.4 MB/s eta 0:00:01\n",
      "   ---------------------------------------  377.0/377.0 MB 8.4 MB/s eta 0:00:01\n",
      "   ---------------------------------------  377.0/377.0 MB 8.4 MB/s eta 0:00:01\n",
      "   ---------------------------------------  377.0/377.0 MB 8.4 MB/s eta 0:00:01\n",
      "   ---------------------------------------  377.0/377.0 MB 8.4 MB/s eta 0:00:01\n",
      "   ---------------------------------------  377.0/377.0 MB 8.4 MB/s eta 0:00:01\n",
      "   ---------------------------------------  377.0/377.0 MB 8.4 MB/s eta 0:00:01\n",
      "   ---------------------------------------  377.0/377.0 MB 8.4 MB/s eta 0:00:01\n",
      "   ---------------------------------------  377.0/377.0 MB 8.4 MB/s eta 0:00:01\n",
      "   ---------------------------------------  377.0/377.0 MB 8.4 MB/s eta 0:00:01\n",
      "   ---------------------------------------  377.0/377.0 MB 8.4 MB/s eta 0:00:01\n",
      "   ---------------------------------------  377.0/377.0 MB 8.4 MB/s eta 0:00:01\n",
      "   ---------------------------------------  377.0/377.0 MB 8.4 MB/s eta 0:00:01\n",
      "   ---------------------------------------  377.0/377.0 MB 8.4 MB/s eta 0:00:01\n",
      "   ---------------------------------------  377.0/377.0 MB 8.4 MB/s eta 0:00:01\n",
      "   ---------------------------------------  377.0/377.0 MB 8.4 MB/s eta 0:00:01\n",
      "   ---------------------------------------  377.0/377.0 MB 8.4 MB/s eta 0:00:01\n",
      "   ---------------------------------------  377.0/377.0 MB 8.4 MB/s eta 0:00:01\n",
      "   ---------------------------------------  377.0/377.0 MB 8.4 MB/s eta 0:00:01\n",
      "   ---------------------------------------  377.0/377.0 MB 8.4 MB/s eta 0:00:01\n",
      "   ---------------------------------------  377.0/377.0 MB 8.4 MB/s eta 0:00:01\n",
      "   ---------------------------------------  377.0/377.0 MB 8.4 MB/s eta 0:00:01\n",
      "   ---------------------------------------  377.0/377.0 MB 8.4 MB/s eta 0:00:01\n",
      "   ---------------------------------------  377.0/377.0 MB 8.4 MB/s eta 0:00:01\n",
      "   ---------------------------------------  377.0/377.0 MB 8.4 MB/s eta 0:00:01\n",
      "   ---------------------------------------  377.0/377.0 MB 8.4 MB/s eta 0:00:01\n",
      "   ---------------------------------------  377.0/377.0 MB 8.4 MB/s eta 0:00:01\n",
      "   ---------------------------------------  377.0/377.0 MB 8.4 MB/s eta 0:00:01\n",
      "   ---------------------------------------  377.0/377.0 MB 8.4 MB/s eta 0:00:01\n",
      "   ---------------------------------------  377.0/377.0 MB 8.4 MB/s eta 0:00:01\n",
      "   ---------------------------------------  377.0/377.0 MB 8.4 MB/s eta 0:00:01\n",
      "   ---------------------------------------  377.0/377.0 MB 8.4 MB/s eta 0:00:01\n",
      "   ---------------------------------------  377.0/377.0 MB 8.4 MB/s eta 0:00:01\n",
      "   ---------------------------------------  377.0/377.0 MB 8.4 MB/s eta 0:00:01\n",
      "   ---------------------------------------  377.0/377.0 MB 8.4 MB/s eta 0:00:01\n",
      "   ---------------------------------------  377.0/377.0 MB 8.4 MB/s eta 0:00:01\n",
      "   ---------------------------------------  377.0/377.0 MB 8.4 MB/s eta 0:00:01\n",
      "   ---------------------------------------  377.0/377.0 MB 8.4 MB/s eta 0:00:01\n",
      "   ---------------------------------------  377.0/377.0 MB 8.4 MB/s eta 0:00:01\n",
      "   ---------------------------------------  377.0/377.0 MB 8.4 MB/s eta 0:00:01\n",
      "   ---------------------------------------  377.0/377.0 MB 8.4 MB/s eta 0:00:01\n",
      "   ---------------------------------------  377.0/377.0 MB 8.4 MB/s eta 0:00:01\n",
      "   ---------------------------------------  377.0/377.0 MB 8.4 MB/s eta 0:00:01\n",
      "   ---------------------------------------  377.0/377.0 MB 8.4 MB/s eta 0:00:01\n",
      "   ---------------------------------------  377.0/377.0 MB 8.4 MB/s eta 0:00:01\n",
      "   ---------------------------------------  377.0/377.0 MB 8.4 MB/s eta 0:00:01\n",
      "   ---------------------------------------  377.0/377.0 MB 8.4 MB/s eta 0:00:01\n",
      "   ---------------------------------------  377.0/377.0 MB 8.4 MB/s eta 0:00:01\n",
      "   ---------------------------------------  377.0/377.0 MB 8.4 MB/s eta 0:00:01\n",
      "   ---------------------------------------  377.0/377.0 MB 8.4 MB/s eta 0:00:01\n",
      "   ---------------------------------------  377.0/377.0 MB 8.4 MB/s eta 0:00:01\n",
      "   ---------------------------------------  377.0/377.0 MB 8.4 MB/s eta 0:00:01\n",
      "   ---------------------------------------  377.0/377.0 MB 8.4 MB/s eta 0:00:01\n",
      "   ---------------------------------------  377.0/377.0 MB 8.4 MB/s eta 0:00:01\n",
      "   ---------------------------------------  377.0/377.0 MB 8.4 MB/s eta 0:00:01\n",
      "   ---------------------------------------  377.0/377.0 MB 8.4 MB/s eta 0:00:01\n",
      "   ---------------------------------------  377.0/377.0 MB 8.4 MB/s eta 0:00:01\n",
      "   ---------------------------------------  377.0/377.0 MB 8.4 MB/s eta 0:00:01\n",
      "   ---------------------------------------  377.0/377.0 MB 8.4 MB/s eta 0:00:01\n",
      "   ---------------------------------------  377.0/377.0 MB 8.4 MB/s eta 0:00:01\n",
      "   -------------------------------------- 377.0/377.0 MB 707.5 kB/s eta 0:00:00\n",
      "Downloading astunparse-1.6.3-py2.py3-none-any.whl (12 kB)\n",
      "Downloading flatbuffers-24.3.25-py2.py3-none-any.whl (26 kB)\n",
      "Downloading google_pasta-0.2.0-py3-none-any.whl (57 kB)\n",
      "   ---------------------------------------- 0.0/57.5 kB ? eta -:--:--\n",
      "   ---------------------------------------- 57.5/57.5 kB 3.1 MB/s eta 0:00:00\n",
      "Downloading grpcio-1.64.1-cp311-cp311-win_amd64.whl (4.1 MB)\n",
      "   ---------------------------------------- 0.0/4.1 MB ? eta -:--:--\n",
      "   ------ --------------------------------- 0.6/4.1 MB 19.5 MB/s eta 0:00:01\n",
      "   ------------ --------------------------- 1.3/4.1 MB 16.4 MB/s eta 0:00:01\n",
      "   ------------------ --------------------- 1.9/4.1 MB 15.1 MB/s eta 0:00:01\n",
      "   ------------------------- -------------- 2.6/4.1 MB 14.9 MB/s eta 0:00:01\n",
      "   ------------------------------- -------- 3.2/4.1 MB 14.6 MB/s eta 0:00:01\n",
      "   ------------------------------------- -- 3.9/4.1 MB 14.5 MB/s eta 0:00:01\n",
      "   ---------------------------------------  4.1/4.1 MB 13.1 MB/s eta 0:00:01\n",
      "   ---------------------------------------- 4.1/4.1 MB 12.4 MB/s eta 0:00:00\n",
      "Downloading h5py-3.11.0-cp311-cp311-win_amd64.whl (3.0 MB)\n",
      "   ---------------------------------------- 0.0/3.0 MB ? eta -:--:--\n",
      "   -- ------------------------------------- 0.2/3.0 MB 9.0 MB/s eta 0:00:01\n",
      "   ----- ---------------------------------- 0.4/3.0 MB 6.0 MB/s eta 0:00:01\n",
      "   ---------- ----------------------------- 0.8/3.0 MB 6.9 MB/s eta 0:00:01\n",
      "   ------------- -------------------------- 1.0/3.0 MB 7.0 MB/s eta 0:00:01\n",
      "   --------------------- ------------------ 1.6/3.0 MB 7.8 MB/s eta 0:00:01\n",
      "   ------------------------------ --------- 2.2/3.0 MB 8.9 MB/s eta 0:00:01\n",
      "   -------------------------------------- - 2.8/3.0 MB 9.6 MB/s eta 0:00:01\n",
      "   ---------------------------------------- 3.0/3.0 MB 9.1 MB/s eta 0:00:00\n",
      "Downloading libclang-18.1.1-py2.py3-none-win_amd64.whl (26.4 MB)\n",
      "   ---------------------------------------- 0.0/26.4 MB ? eta -:--:--\n",
      "   - -------------------------------------- 0.7/26.4 MB 13.9 MB/s eta 0:00:02\n",
      "   - -------------------------------------- 1.2/26.4 MB 13.2 MB/s eta 0:00:02\n",
      "   -- ------------------------------------- 1.9/26.4 MB 13.5 MB/s eta 0:00:02\n",
      "   --- ------------------------------------ 2.5/26.4 MB 13.4 MB/s eta 0:00:02\n",
      "   ---- ----------------------------------- 3.2/26.4 MB 13.4 MB/s eta 0:00:02\n",
      "   ----- ---------------------------------- 3.8/26.4 MB 13.4 MB/s eta 0:00:02\n",
      "   ------ --------------------------------- 4.0/26.4 MB 12.9 MB/s eta 0:00:02\n",
      "   ------ --------------------------------- 4.3/26.4 MB 12.1 MB/s eta 0:00:02\n",
      "   ------ --------------------------------- 4.6/26.4 MB 11.3 MB/s eta 0:00:02\n",
      "   ------- -------------------------------- 5.0/26.4 MB 10.9 MB/s eta 0:00:02\n",
      "   -------- ------------------------------- 5.3/26.4 MB 10.6 MB/s eta 0:00:02\n",
      "   -------- ------------------------------- 5.6/26.4 MB 10.3 MB/s eta 0:00:03\n",
      "   --------- ------------------------------ 6.0/26.4 MB 10.1 MB/s eta 0:00:03\n",
      "   --------- ------------------------------ 6.4/26.4 MB 10.0 MB/s eta 0:00:02\n",
      "   ---------- ----------------------------- 7.1/26.4 MB 10.3 MB/s eta 0:00:02\n",
      "   ----------- ---------------------------- 7.7/26.4 MB 10.5 MB/s eta 0:00:02\n",
      "   ------------ --------------------------- 8.4/26.4 MB 10.7 MB/s eta 0:00:02\n",
      "   ------------- -------------------------- 8.9/26.4 MB 10.8 MB/s eta 0:00:02\n",
      "   -------------- ------------------------- 9.6/26.4 MB 10.9 MB/s eta 0:00:02\n",
      "   --------------- ------------------------ 10.0/26.4 MB 10.9 MB/s eta 0:00:02\n",
      "   --------------- ------------------------ 10.4/26.4 MB 10.7 MB/s eta 0:00:02\n",
      "   ---------------- ----------------------- 10.9/26.4 MB 10.6 MB/s eta 0:00:02\n",
      "   ----------------- ---------------------- 11.5/26.4 MB 10.7 MB/s eta 0:00:02\n",
      "   ------------------ --------------------- 12.1/26.4 MB 10.7 MB/s eta 0:00:02\n",
      "   ------------------- -------------------- 12.7/26.4 MB 10.6 MB/s eta 0:00:02\n",
      "   -------------------- ------------------- 13.3/26.4 MB 10.6 MB/s eta 0:00:02\n",
      "   --------------------- ------------------ 14.0/26.4 MB 10.6 MB/s eta 0:00:02\n",
      "   ---------------------- ----------------- 14.7/26.4 MB 11.3 MB/s eta 0:00:02\n",
      "   ----------------------- ---------------- 15.3/26.4 MB 11.9 MB/s eta 0:00:01\n",
      "   ------------------------ --------------- 15.9/26.4 MB 12.6 MB/s eta 0:00:01\n",
      "   ------------------------- -------------- 16.6/26.4 MB 13.1 MB/s eta 0:00:01\n",
      "   -------------------------- ------------- 17.2/26.4 MB 13.1 MB/s eta 0:00:01\n",
      "   -------------------------- ------------- 17.6/26.4 MB 12.8 MB/s eta 0:00:01\n",
      "   --------------------------- ------------ 17.9/26.4 MB 12.4 MB/s eta 0:00:01\n",
      "   --------------------------- ------------ 18.2/26.4 MB 11.9 MB/s eta 0:00:01\n",
      "   ---------------------------- ----------- 18.5/26.4 MB 11.5 MB/s eta 0:00:01\n",
      "   ---------------------------- ----------- 18.8/26.4 MB 11.3 MB/s eta 0:00:01\n",
      "   ---------------------------- ----------- 19.0/26.4 MB 11.1 MB/s eta 0:00:01\n",
      "   ----------------------------- ---------- 19.2/26.4 MB 10.7 MB/s eta 0:00:01\n",
      "   ----------------------------- ---------- 19.5/26.4 MB 10.4 MB/s eta 0:00:01\n",
      "   ----------------------------- ---------- 19.7/26.4 MB 10.2 MB/s eta 0:00:01\n",
      "   ------------------------------ --------- 20.0/26.4 MB 9.9 MB/s eta 0:00:01\n",
      "   ------------------------------ --------- 20.2/26.4 MB 9.6 MB/s eta 0:00:01\n",
      "   ------------------------------ --------- 20.4/26.4 MB 9.5 MB/s eta 0:00:01\n",
      "   ------------------------------- -------- 20.6/26.4 MB 9.2 MB/s eta 0:00:01\n",
      "   ------------------------------- -------- 20.8/26.4 MB 9.2 MB/s eta 0:00:01\n",
      "   -------------------------------- ------- 21.3/26.4 MB 9.1 MB/s eta 0:00:01\n",
      "   --------------------------------- ------ 22.0/26.4 MB 9.1 MB/s eta 0:00:01\n",
      "   ---------------------------------- ----- 22.6/26.4 MB 9.1 MB/s eta 0:00:01\n",
      "   ----------------------------------- ---- 23.3/26.4 MB 9.1 MB/s eta 0:00:01\n",
      "   ------------------------------------ --- 23.9/26.4 MB 9.1 MB/s eta 0:00:01\n",
      "   ------------------------------------- -- 24.6/26.4 MB 9.1 MB/s eta 0:00:01\n",
      "   -------------------------------------- - 25.2/26.4 MB 9.1 MB/s eta 0:00:01\n",
      "   ---------------------------------------  25.9/26.4 MB 9.2 MB/s eta 0:00:01\n",
      "   ---------------------------------------  26.4/26.4 MB 9.1 MB/s eta 0:00:01\n",
      "   ---------------------------------------  26.4/26.4 MB 9.0 MB/s eta 0:00:01\n",
      "   ---------------------------------------- 26.4/26.4 MB 8.5 MB/s eta 0:00:00\n",
      "Downloading ml_dtypes-0.3.2-cp311-cp311-win_amd64.whl (127 kB)\n",
      "   ---------------------------------------- 0.0/127.7 kB ? eta -:--:--\n",
      "   ---------------------------------------- 127.7/127.7 kB 3.8 MB/s eta 0:00:00\n",
      "Downloading opt_einsum-3.3.0-py3-none-any.whl (65 kB)\n",
      "   ---------------------------------------- 0.0/65.5 kB ? eta -:--:--\n",
      "   ---------------------------------------- 65.5/65.5 kB 1.2 MB/s eta 0:00:00\n",
      "Downloading tensorboard-2.16.2-py3-none-any.whl (5.5 MB)\n",
      "   ---------------------------------------- 0.0/5.5 MB ? eta -:--:--\n",
      "   --- ------------------------------------ 0.4/5.5 MB 13.9 MB/s eta 0:00:01\n",
      "   ------- -------------------------------- 1.0/5.5 MB 13.3 MB/s eta 0:00:01\n",
      "   ------------ --------------------------- 1.7/5.5 MB 13.7 MB/s eta 0:00:01\n",
      "   ----------------- ---------------------- 2.4/5.5 MB 13.9 MB/s eta 0:00:01\n",
      "   --------------------- ------------------ 3.0/5.5 MB 13.7 MB/s eta 0:00:01\n",
      "   ------------------------ --------------- 3.3/5.5 MB 14.3 MB/s eta 0:00:01\n",
      "   -------------------------- ------------- 3.6/5.5 MB 11.5 MB/s eta 0:00:01\n",
      "   ---------------------------- ----------- 3.9/5.5 MB 11.4 MB/s eta 0:00:01\n",
      "   ------------------------------ --------- 4.2/5.5 MB 10.4 MB/s eta 0:00:01\n",
      "   -------------------------------- ------- 4.5/5.5 MB 10.1 MB/s eta 0:00:01\n",
      "   ---------------------------------- ----- 4.7/5.5 MB 9.6 MB/s eta 0:00:01\n",
      "   ----------------------------------- ---- 4.9/5.5 MB 9.2 MB/s eta 0:00:01\n",
      "   ------------------------------------ --- 5.0/5.5 MB 8.8 MB/s eta 0:00:01\n",
      "   -------------------------------------- - 5.3/5.5 MB 8.5 MB/s eta 0:00:01\n",
      "   ---------------------------------------  5.5/5.5 MB 8.4 MB/s eta 0:00:01\n",
      "   ---------------------------------------- 5.5/5.5 MB 8.2 MB/s eta 0:00:00\n",
      "Downloading tensorflow_io_gcs_filesystem-0.31.0-cp311-cp311-win_amd64.whl (1.5 MB)\n",
      "   ---------------------------------------- 0.0/1.5 MB ? eta -:--:--\n",
      "   ----- ---------------------------------- 0.2/1.5 MB 6.3 MB/s eta 0:00:01\n",
      "   ----------- ---------------------------- 0.4/1.5 MB 6.8 MB/s eta 0:00:01\n",
      "   ------------------------ --------------- 0.9/1.5 MB 8.2 MB/s eta 0:00:01\n",
      "   ---------------------------------------  1.5/1.5 MB 9.4 MB/s eta 0:00:01\n",
      "   ---------------------------------------- 1.5/1.5 MB 7.9 MB/s eta 0:00:00\n",
      "Downloading termcolor-2.4.0-py3-none-any.whl (7.7 kB)\n",
      "Downloading tensorboard_data_server-0.7.2-py3-none-any.whl (2.4 kB)\n",
      "Building wheels for collected packages: gast\n",
      "  Building wheel for gast (setup.py): started\n",
      "  Building wheel for gast (setup.py): finished with status 'done'\n",
      "  Created wheel for gast: filename=gast-0.6.0-py3-none-any.whl size=21186 sha256=bfc69db793bf7e02fc147cf53b3a814d9cc6dde4bee681e7b7252617a7c7b9af\n",
      "  Stored in directory: c:\\users\\arun\\appdata\\local\\pip\\cache\\wheels\\c9\\4e\\2b\\7ebd05dfcb268f1763adf30441a0336a89103060ac35591f06\n",
      "Successfully built gast\n",
      "Installing collected packages: libclang, flatbuffers, termcolor, tensorflow-io-gcs-filesystem, tensorboard-data-server, opt-einsum, ml-dtypes, h5py, grpcio, google-pasta, gast, astunparse, tensorboard, tensorflow-intel, tensorflow\n",
      "  Attempting uninstall: ml-dtypes\n",
      "    Found existing installation: ml-dtypes 0.4.0\n",
      "    Uninstalling ml-dtypes-0.4.0:\n",
      "      Successfully uninstalled ml-dtypes-0.4.0\n",
      "  Attempting uninstall: h5py\n",
      "    Found existing installation: h5py 3.9.0\n",
      "    Uninstalling h5py-3.9.0:\n",
      "      Successfully uninstalled h5py-3.9.0\n",
      "Successfully installed astunparse-1.6.3 flatbuffers-24.3.25 gast-0.6.0 google-pasta-0.2.0 grpcio-1.64.1 h5py-3.11.0 libclang-18.1.1 ml-dtypes-0.3.2 opt-einsum-3.3.0 tensorboard-2.16.2 tensorboard-data-server-0.7.2 tensorflow-2.16.2 tensorflow-intel-2.16.2 tensorflow-io-gcs-filesystem-0.31.0 termcolor-2.4.0\n",
      "Note: you may need to restart the kernel to use updated packages.\n"
     ]
    }
   ],
   "source": [
    "pip install tensorflow"
   ]
  },
  {
   "cell_type": "code",
   "execution_count": 26,
   "metadata": {
    "id": "PgXISUwPo9im"
   },
   "outputs": [],
   "source": [
    "from keras.layers import Dense,Dropout,LSTM\n",
    "from keras.models import Sequential\n",
    "model=Sequential()\n"
   ]
  },
  {
   "cell_type": "code",
   "execution_count": 27,
   "metadata": {
    "id": "wNjnh9jPqNoT"
   },
   "outputs": [
    {
     "name": "stderr",
     "output_type": "stream",
     "text": [
      "C:\\Users\\Arun\\anaconda3\\Lib\\site-packages\\keras\\src\\layers\\rnn\\rnn.py:204: UserWarning: Do not pass an `input_shape`/`input_dim` argument to a layer. When using Sequential models, prefer using an `Input(shape)` object as the first layer in the model instead.\n",
      "  super().__init__(**kwargs)\n"
     ]
    }
   ],
   "source": [
    "model.add(LSTM(units=50,activation='relu',return_sequences=True,input_shape=(x_train.shape[1],1)))\n",
    "model.add(Dropout(0.2))\n",
    "model.add(LSTM(units=60,activation='relu',return_sequences=True))\n",
    "model.add(Dropout(0.3))\n",
    "model.add(LSTM(units=80,activation='relu',return_sequences=True))\n",
    "model.add(Dropout(0.4))\n",
    "model.add(LSTM(units=120,activation='relu'))\n",
    "model.add(Dropout(0.5))\n",
    "model.add(Dense(units=1))"
   ]
  },
  {
   "cell_type": "code",
   "execution_count": 28,
   "metadata": {
    "colab": {
     "base_uri": "https://localhost:8080/"
    },
    "id": "29YpZflHsoFx",
    "outputId": "40972f62-4816-45e6-9d3f-9acaa95e6118"
   },
   "outputs": [
    {
     "data": {
      "text/html": [
       "<pre style=\"white-space:pre;overflow-x:auto;line-height:normal;font-family:Menlo,'DejaVu Sans Mono',consolas,'Courier New',monospace\"><span style=\"font-weight: bold\">Model: \"sequential\"</span>\n",
       "</pre>\n"
      ],
      "text/plain": [
       "\u001b[1mModel: \"sequential\"\u001b[0m\n"
      ]
     },
     "metadata": {},
     "output_type": "display_data"
    },
    {
     "data": {
      "text/html": [
       "<pre style=\"white-space:pre;overflow-x:auto;line-height:normal;font-family:Menlo,'DejaVu Sans Mono',consolas,'Courier New',monospace\">┏━━━━━━━━━━━━━━━━━━━━━━━━━━━━━━━━━━━━━━┳━━━━━━━━━━━━━━━━━━━━━━━━━━━━━┳━━━━━━━━━━━━━━━━━┓\n",
       "┃<span style=\"font-weight: bold\"> Layer (type)                         </span>┃<span style=\"font-weight: bold\"> Output Shape                </span>┃<span style=\"font-weight: bold\">         Param # </span>┃\n",
       "┡━━━━━━━━━━━━━━━━━━━━━━━━━━━━━━━━━━━━━━╇━━━━━━━━━━━━━━━━━━━━━━━━━━━━━╇━━━━━━━━━━━━━━━━━┩\n",
       "│ lstm (<span style=\"color: #0087ff; text-decoration-color: #0087ff\">LSTM</span>)                          │ (<span style=\"color: #00d7ff; text-decoration-color: #00d7ff\">None</span>, <span style=\"color: #00af00; text-decoration-color: #00af00\">100</span>, <span style=\"color: #00af00; text-decoration-color: #00af00\">50</span>)             │          <span style=\"color: #00af00; text-decoration-color: #00af00\">10,400</span> │\n",
       "├──────────────────────────────────────┼─────────────────────────────┼─────────────────┤\n",
       "│ dropout (<span style=\"color: #0087ff; text-decoration-color: #0087ff\">Dropout</span>)                    │ (<span style=\"color: #00d7ff; text-decoration-color: #00d7ff\">None</span>, <span style=\"color: #00af00; text-decoration-color: #00af00\">100</span>, <span style=\"color: #00af00; text-decoration-color: #00af00\">50</span>)             │               <span style=\"color: #00af00; text-decoration-color: #00af00\">0</span> │\n",
       "├──────────────────────────────────────┼─────────────────────────────┼─────────────────┤\n",
       "│ lstm_1 (<span style=\"color: #0087ff; text-decoration-color: #0087ff\">LSTM</span>)                        │ (<span style=\"color: #00d7ff; text-decoration-color: #00d7ff\">None</span>, <span style=\"color: #00af00; text-decoration-color: #00af00\">100</span>, <span style=\"color: #00af00; text-decoration-color: #00af00\">60</span>)             │          <span style=\"color: #00af00; text-decoration-color: #00af00\">26,640</span> │\n",
       "├──────────────────────────────────────┼─────────────────────────────┼─────────────────┤\n",
       "│ dropout_1 (<span style=\"color: #0087ff; text-decoration-color: #0087ff\">Dropout</span>)                  │ (<span style=\"color: #00d7ff; text-decoration-color: #00d7ff\">None</span>, <span style=\"color: #00af00; text-decoration-color: #00af00\">100</span>, <span style=\"color: #00af00; text-decoration-color: #00af00\">60</span>)             │               <span style=\"color: #00af00; text-decoration-color: #00af00\">0</span> │\n",
       "├──────────────────────────────────────┼─────────────────────────────┼─────────────────┤\n",
       "│ lstm_2 (<span style=\"color: #0087ff; text-decoration-color: #0087ff\">LSTM</span>)                        │ (<span style=\"color: #00d7ff; text-decoration-color: #00d7ff\">None</span>, <span style=\"color: #00af00; text-decoration-color: #00af00\">100</span>, <span style=\"color: #00af00; text-decoration-color: #00af00\">80</span>)             │          <span style=\"color: #00af00; text-decoration-color: #00af00\">45,120</span> │\n",
       "├──────────────────────────────────────┼─────────────────────────────┼─────────────────┤\n",
       "│ dropout_2 (<span style=\"color: #0087ff; text-decoration-color: #0087ff\">Dropout</span>)                  │ (<span style=\"color: #00d7ff; text-decoration-color: #00d7ff\">None</span>, <span style=\"color: #00af00; text-decoration-color: #00af00\">100</span>, <span style=\"color: #00af00; text-decoration-color: #00af00\">80</span>)             │               <span style=\"color: #00af00; text-decoration-color: #00af00\">0</span> │\n",
       "├──────────────────────────────────────┼─────────────────────────────┼─────────────────┤\n",
       "│ lstm_3 (<span style=\"color: #0087ff; text-decoration-color: #0087ff\">LSTM</span>)                        │ (<span style=\"color: #00d7ff; text-decoration-color: #00d7ff\">None</span>, <span style=\"color: #00af00; text-decoration-color: #00af00\">120</span>)                 │          <span style=\"color: #00af00; text-decoration-color: #00af00\">96,480</span> │\n",
       "├──────────────────────────────────────┼─────────────────────────────┼─────────────────┤\n",
       "│ dropout_3 (<span style=\"color: #0087ff; text-decoration-color: #0087ff\">Dropout</span>)                  │ (<span style=\"color: #00d7ff; text-decoration-color: #00d7ff\">None</span>, <span style=\"color: #00af00; text-decoration-color: #00af00\">120</span>)                 │               <span style=\"color: #00af00; text-decoration-color: #00af00\">0</span> │\n",
       "├──────────────────────────────────────┼─────────────────────────────┼─────────────────┤\n",
       "│ dense (<span style=\"color: #0087ff; text-decoration-color: #0087ff\">Dense</span>)                        │ (<span style=\"color: #00d7ff; text-decoration-color: #00d7ff\">None</span>, <span style=\"color: #00af00; text-decoration-color: #00af00\">1</span>)                   │             <span style=\"color: #00af00; text-decoration-color: #00af00\">121</span> │\n",
       "└──────────────────────────────────────┴─────────────────────────────┴─────────────────┘\n",
       "</pre>\n"
      ],
      "text/plain": [
       "┏━━━━━━━━━━━━━━━━━━━━━━━━━━━━━━━━━━━━━━┳━━━━━━━━━━━━━━━━━━━━━━━━━━━━━┳━━━━━━━━━━━━━━━━━┓\n",
       "┃\u001b[1m \u001b[0m\u001b[1mLayer (type)                        \u001b[0m\u001b[1m \u001b[0m┃\u001b[1m \u001b[0m\u001b[1mOutput Shape               \u001b[0m\u001b[1m \u001b[0m┃\u001b[1m \u001b[0m\u001b[1m        Param #\u001b[0m\u001b[1m \u001b[0m┃\n",
       "┡━━━━━━━━━━━━━━━━━━━━━━━━━━━━━━━━━━━━━━╇━━━━━━━━━━━━━━━━━━━━━━━━━━━━━╇━━━━━━━━━━━━━━━━━┩\n",
       "│ lstm (\u001b[38;5;33mLSTM\u001b[0m)                          │ (\u001b[38;5;45mNone\u001b[0m, \u001b[38;5;34m100\u001b[0m, \u001b[38;5;34m50\u001b[0m)             │          \u001b[38;5;34m10,400\u001b[0m │\n",
       "├──────────────────────────────────────┼─────────────────────────────┼─────────────────┤\n",
       "│ dropout (\u001b[38;5;33mDropout\u001b[0m)                    │ (\u001b[38;5;45mNone\u001b[0m, \u001b[38;5;34m100\u001b[0m, \u001b[38;5;34m50\u001b[0m)             │               \u001b[38;5;34m0\u001b[0m │\n",
       "├──────────────────────────────────────┼─────────────────────────────┼─────────────────┤\n",
       "│ lstm_1 (\u001b[38;5;33mLSTM\u001b[0m)                        │ (\u001b[38;5;45mNone\u001b[0m, \u001b[38;5;34m100\u001b[0m, \u001b[38;5;34m60\u001b[0m)             │          \u001b[38;5;34m26,640\u001b[0m │\n",
       "├──────────────────────────────────────┼─────────────────────────────┼─────────────────┤\n",
       "│ dropout_1 (\u001b[38;5;33mDropout\u001b[0m)                  │ (\u001b[38;5;45mNone\u001b[0m, \u001b[38;5;34m100\u001b[0m, \u001b[38;5;34m60\u001b[0m)             │               \u001b[38;5;34m0\u001b[0m │\n",
       "├──────────────────────────────────────┼─────────────────────────────┼─────────────────┤\n",
       "│ lstm_2 (\u001b[38;5;33mLSTM\u001b[0m)                        │ (\u001b[38;5;45mNone\u001b[0m, \u001b[38;5;34m100\u001b[0m, \u001b[38;5;34m80\u001b[0m)             │          \u001b[38;5;34m45,120\u001b[0m │\n",
       "├──────────────────────────────────────┼─────────────────────────────┼─────────────────┤\n",
       "│ dropout_2 (\u001b[38;5;33mDropout\u001b[0m)                  │ (\u001b[38;5;45mNone\u001b[0m, \u001b[38;5;34m100\u001b[0m, \u001b[38;5;34m80\u001b[0m)             │               \u001b[38;5;34m0\u001b[0m │\n",
       "├──────────────────────────────────────┼─────────────────────────────┼─────────────────┤\n",
       "│ lstm_3 (\u001b[38;5;33mLSTM\u001b[0m)                        │ (\u001b[38;5;45mNone\u001b[0m, \u001b[38;5;34m120\u001b[0m)                 │          \u001b[38;5;34m96,480\u001b[0m │\n",
       "├──────────────────────────────────────┼─────────────────────────────┼─────────────────┤\n",
       "│ dropout_3 (\u001b[38;5;33mDropout\u001b[0m)                  │ (\u001b[38;5;45mNone\u001b[0m, \u001b[38;5;34m120\u001b[0m)                 │               \u001b[38;5;34m0\u001b[0m │\n",
       "├──────────────────────────────────────┼─────────────────────────────┼─────────────────┤\n",
       "│ dense (\u001b[38;5;33mDense\u001b[0m)                        │ (\u001b[38;5;45mNone\u001b[0m, \u001b[38;5;34m1\u001b[0m)                   │             \u001b[38;5;34m121\u001b[0m │\n",
       "└──────────────────────────────────────┴─────────────────────────────┴─────────────────┘\n"
      ]
     },
     "metadata": {},
     "output_type": "display_data"
    },
    {
     "data": {
      "text/html": [
       "<pre style=\"white-space:pre;overflow-x:auto;line-height:normal;font-family:Menlo,'DejaVu Sans Mono',consolas,'Courier New',monospace\"><span style=\"font-weight: bold\"> Total params: </span><span style=\"color: #00af00; text-decoration-color: #00af00\">178,761</span> (698.29 KB)\n",
       "</pre>\n"
      ],
      "text/plain": [
       "\u001b[1m Total params: \u001b[0m\u001b[38;5;34m178,761\u001b[0m (698.29 KB)\n"
      ]
     },
     "metadata": {},
     "output_type": "display_data"
    },
    {
     "data": {
      "text/html": [
       "<pre style=\"white-space:pre;overflow-x:auto;line-height:normal;font-family:Menlo,'DejaVu Sans Mono',consolas,'Courier New',monospace\"><span style=\"font-weight: bold\"> Trainable params: </span><span style=\"color: #00af00; text-decoration-color: #00af00\">178,761</span> (698.29 KB)\n",
       "</pre>\n"
      ],
      "text/plain": [
       "\u001b[1m Trainable params: \u001b[0m\u001b[38;5;34m178,761\u001b[0m (698.29 KB)\n"
      ]
     },
     "metadata": {},
     "output_type": "display_data"
    },
    {
     "data": {
      "text/html": [
       "<pre style=\"white-space:pre;overflow-x:auto;line-height:normal;font-family:Menlo,'DejaVu Sans Mono',consolas,'Courier New',monospace\"><span style=\"font-weight: bold\"> Non-trainable params: </span><span style=\"color: #00af00; text-decoration-color: #00af00\">0</span> (0.00 B)\n",
       "</pre>\n"
      ],
      "text/plain": [
       "\u001b[1m Non-trainable params: \u001b[0m\u001b[38;5;34m0\u001b[0m (0.00 B)\n"
      ]
     },
     "metadata": {},
     "output_type": "display_data"
    }
   ],
   "source": [
    "model.summary()"
   ]
  },
  {
   "cell_type": "code",
   "execution_count": 29,
   "metadata": {
    "colab": {
     "base_uri": "https://localhost:8080/"
    },
    "id": "_hFw0ZgDs220",
    "outputId": "d9dda1ae-9289-44a1-ac0f-e5caf7be2e94"
   },
   "outputs": [
    {
     "name": "stdout",
     "output_type": "stream",
     "text": [
      "Epoch 1/50\n",
      "\u001b[1m74/74\u001b[0m \u001b[32m━━━━━━━━━━━━━━━━━━━━\u001b[0m\u001b[37m\u001b[0m \u001b[1m20s\u001b[0m 155ms/step - loss: 0.0224\n",
      "Epoch 2/50\n",
      "\u001b[1m74/74\u001b[0m \u001b[32m━━━━━━━━━━━━━━━━━━━━\u001b[0m\u001b[37m\u001b[0m \u001b[1m11s\u001b[0m 152ms/step - loss: 0.0048\n",
      "Epoch 3/50\n",
      "\u001b[1m74/74\u001b[0m \u001b[32m━━━━━━━━━━━━━━━━━━━━\u001b[0m\u001b[37m\u001b[0m \u001b[1m11s\u001b[0m 154ms/step - loss: 0.0036\n",
      "Epoch 4/50\n",
      "\u001b[1m74/74\u001b[0m \u001b[32m━━━━━━━━━━━━━━━━━━━━\u001b[0m\u001b[37m\u001b[0m \u001b[1m11s\u001b[0m 148ms/step - loss: 0.0031\n",
      "Epoch 5/50\n",
      "\u001b[1m74/74\u001b[0m \u001b[32m━━━━━━━━━━━━━━━━━━━━\u001b[0m\u001b[37m\u001b[0m \u001b[1m10s\u001b[0m 140ms/step - loss: 0.0025\n",
      "Epoch 6/50\n",
      "\u001b[1m74/74\u001b[0m \u001b[32m━━━━━━━━━━━━━━━━━━━━\u001b[0m\u001b[37m\u001b[0m \u001b[1m10s\u001b[0m 135ms/step - loss: 0.0028\n",
      "Epoch 7/50\n",
      "\u001b[1m74/74\u001b[0m \u001b[32m━━━━━━━━━━━━━━━━━━━━\u001b[0m\u001b[37m\u001b[0m \u001b[1m11s\u001b[0m 144ms/step - loss: 0.0029\n",
      "Epoch 8/50\n",
      "\u001b[1m74/74\u001b[0m \u001b[32m━━━━━━━━━━━━━━━━━━━━\u001b[0m\u001b[37m\u001b[0m \u001b[1m11s\u001b[0m 142ms/step - loss: 0.0025\n",
      "Epoch 9/50\n",
      "\u001b[1m74/74\u001b[0m \u001b[32m━━━━━━━━━━━━━━━━━━━━\u001b[0m\u001b[37m\u001b[0m \u001b[1m10s\u001b[0m 140ms/step - loss: 0.0017\n",
      "Epoch 10/50\n",
      "\u001b[1m74/74\u001b[0m \u001b[32m━━━━━━━━━━━━━━━━━━━━\u001b[0m\u001b[37m\u001b[0m \u001b[1m11s\u001b[0m 143ms/step - loss: 0.0019\n",
      "Epoch 11/50\n",
      "\u001b[1m74/74\u001b[0m \u001b[32m━━━━━━━━━━━━━━━━━━━━\u001b[0m\u001b[37m\u001b[0m \u001b[1m10s\u001b[0m 141ms/step - loss: 0.0018\n",
      "Epoch 12/50\n",
      "\u001b[1m74/74\u001b[0m \u001b[32m━━━━━━━━━━━━━━━━━━━━\u001b[0m\u001b[37m\u001b[0m \u001b[1m11s\u001b[0m 148ms/step - loss: 0.0015\n",
      "Epoch 13/50\n",
      "\u001b[1m74/74\u001b[0m \u001b[32m━━━━━━━━━━━━━━━━━━━━\u001b[0m\u001b[37m\u001b[0m \u001b[1m11s\u001b[0m 146ms/step - loss: 0.0019\n",
      "Epoch 14/50\n",
      "\u001b[1m74/74\u001b[0m \u001b[32m━━━━━━━━━━━━━━━━━━━━\u001b[0m\u001b[37m\u001b[0m \u001b[1m11s\u001b[0m 143ms/step - loss: 0.0019\n",
      "Epoch 15/50\n",
      "\u001b[1m74/74\u001b[0m \u001b[32m━━━━━━━━━━━━━━━━━━━━\u001b[0m\u001b[37m\u001b[0m \u001b[1m11s\u001b[0m 145ms/step - loss: 0.0019\n",
      "Epoch 16/50\n",
      "\u001b[1m74/74\u001b[0m \u001b[32m━━━━━━━━━━━━━━━━━━━━\u001b[0m\u001b[37m\u001b[0m \u001b[1m10s\u001b[0m 141ms/step - loss: 0.0018\n",
      "Epoch 17/50\n",
      "\u001b[1m74/74\u001b[0m \u001b[32m━━━━━━━━━━━━━━━━━━━━\u001b[0m\u001b[37m\u001b[0m \u001b[1m11s\u001b[0m 149ms/step - loss: 0.0015\n",
      "Epoch 18/50\n",
      "\u001b[1m74/74\u001b[0m \u001b[32m━━━━━━━━━━━━━━━━━━━━\u001b[0m\u001b[37m\u001b[0m \u001b[1m11s\u001b[0m 142ms/step - loss: 0.0018\n",
      "Epoch 19/50\n",
      "\u001b[1m74/74\u001b[0m \u001b[32m━━━━━━━━━━━━━━━━━━━━\u001b[0m\u001b[37m\u001b[0m \u001b[1m11s\u001b[0m 141ms/step - loss: 0.0015\n",
      "Epoch 20/50\n",
      "\u001b[1m74/74\u001b[0m \u001b[32m━━━━━━━━━━━━━━━━━━━━\u001b[0m\u001b[37m\u001b[0m \u001b[1m10s\u001b[0m 140ms/step - loss: 0.0016\n",
      "Epoch 21/50\n",
      "\u001b[1m74/74\u001b[0m \u001b[32m━━━━━━━━━━━━━━━━━━━━\u001b[0m\u001b[37m\u001b[0m \u001b[1m10s\u001b[0m 139ms/step - loss: 0.0018\n",
      "Epoch 22/50\n",
      "\u001b[1m74/74\u001b[0m \u001b[32m━━━━━━━━━━━━━━━━━━━━\u001b[0m\u001b[37m\u001b[0m \u001b[1m11s\u001b[0m 142ms/step - loss: 0.0016\n",
      "Epoch 23/50\n",
      "\u001b[1m74/74\u001b[0m \u001b[32m━━━━━━━━━━━━━━━━━━━━\u001b[0m\u001b[37m\u001b[0m \u001b[1m11s\u001b[0m 142ms/step - loss: 0.0016\n",
      "Epoch 24/50\n",
      "\u001b[1m74/74\u001b[0m \u001b[32m━━━━━━━━━━━━━━━━━━━━\u001b[0m\u001b[37m\u001b[0m \u001b[1m10s\u001b[0m 140ms/step - loss: 0.0014\n",
      "Epoch 25/50\n",
      "\u001b[1m74/74\u001b[0m \u001b[32m━━━━━━━━━━━━━━━━━━━━\u001b[0m\u001b[37m\u001b[0m \u001b[1m10s\u001b[0m 139ms/step - loss: 0.0017\n",
      "Epoch 26/50\n",
      "\u001b[1m74/74\u001b[0m \u001b[32m━━━━━━━━━━━━━━━━━━━━\u001b[0m\u001b[37m\u001b[0m \u001b[1m11s\u001b[0m 147ms/step - loss: 0.0016\n",
      "Epoch 27/50\n",
      "\u001b[1m74/74\u001b[0m \u001b[32m━━━━━━━━━━━━━━━━━━━━\u001b[0m\u001b[37m\u001b[0m \u001b[1m10s\u001b[0m 139ms/step - loss: 0.0015\n",
      "Epoch 28/50\n",
      "\u001b[1m74/74\u001b[0m \u001b[32m━━━━━━━━━━━━━━━━━━━━\u001b[0m\u001b[37m\u001b[0m \u001b[1m11s\u001b[0m 142ms/step - loss: 0.0014\n",
      "Epoch 29/50\n",
      "\u001b[1m74/74\u001b[0m \u001b[32m━━━━━━━━━━━━━━━━━━━━\u001b[0m\u001b[37m\u001b[0m \u001b[1m11s\u001b[0m 147ms/step - loss: 0.0013\n",
      "Epoch 30/50\n",
      "\u001b[1m74/74\u001b[0m \u001b[32m━━━━━━━━━━━━━━━━━━━━\u001b[0m\u001b[37m\u001b[0m \u001b[1m11s\u001b[0m 149ms/step - loss: 0.0014\n",
      "Epoch 31/50\n",
      "\u001b[1m74/74\u001b[0m \u001b[32m━━━━━━━━━━━━━━━━━━━━\u001b[0m\u001b[37m\u001b[0m \u001b[1m11s\u001b[0m 144ms/step - loss: 0.0013\n",
      "Epoch 32/50\n",
      "\u001b[1m74/74\u001b[0m \u001b[32m━━━━━━━━━━━━━━━━━━━━\u001b[0m\u001b[37m\u001b[0m \u001b[1m11s\u001b[0m 144ms/step - loss: 0.0013\n",
      "Epoch 33/50\n",
      "\u001b[1m74/74\u001b[0m \u001b[32m━━━━━━━━━━━━━━━━━━━━\u001b[0m\u001b[37m\u001b[0m \u001b[1m11s\u001b[0m 146ms/step - loss: 0.0013\n",
      "Epoch 34/50\n",
      "\u001b[1m74/74\u001b[0m \u001b[32m━━━━━━━━━━━━━━━━━━━━\u001b[0m\u001b[37m\u001b[0m \u001b[1m11s\u001b[0m 148ms/step - loss: 0.0015\n",
      "Epoch 35/50\n",
      "\u001b[1m74/74\u001b[0m \u001b[32m━━━━━━━━━━━━━━━━━━━━\u001b[0m\u001b[37m\u001b[0m \u001b[1m20s\u001b[0m 143ms/step - loss: 0.0013\n",
      "Epoch 36/50\n",
      "\u001b[1m74/74\u001b[0m \u001b[32m━━━━━━━━━━━━━━━━━━━━\u001b[0m\u001b[37m\u001b[0m \u001b[1m11s\u001b[0m 148ms/step - loss: 0.0015\n",
      "Epoch 37/50\n",
      "\u001b[1m74/74\u001b[0m \u001b[32m━━━━━━━━━━━━━━━━━━━━\u001b[0m\u001b[37m\u001b[0m \u001b[1m11s\u001b[0m 142ms/step - loss: 0.0016\n",
      "Epoch 38/50\n",
      "\u001b[1m74/74\u001b[0m \u001b[32m━━━━━━━━━━━━━━━━━━━━\u001b[0m\u001b[37m\u001b[0m \u001b[1m10s\u001b[0m 141ms/step - loss: 0.0013\n",
      "Epoch 39/50\n",
      "\u001b[1m74/74\u001b[0m \u001b[32m━━━━━━━━━━━━━━━━━━━━\u001b[0m\u001b[37m\u001b[0m \u001b[1m11s\u001b[0m 146ms/step - loss: 0.0013\n",
      "Epoch 40/50\n",
      "\u001b[1m74/74\u001b[0m \u001b[32m━━━━━━━━━━━━━━━━━━━━\u001b[0m\u001b[37m\u001b[0m \u001b[1m11s\u001b[0m 142ms/step - loss: 0.0012\n",
      "Epoch 41/50\n",
      "\u001b[1m74/74\u001b[0m \u001b[32m━━━━━━━━━━━━━━━━━━━━\u001b[0m\u001b[37m\u001b[0m \u001b[1m11s\u001b[0m 145ms/step - loss: 0.0014\n",
      "Epoch 42/50\n",
      "\u001b[1m74/74\u001b[0m \u001b[32m━━━━━━━━━━━━━━━━━━━━\u001b[0m\u001b[37m\u001b[0m \u001b[1m11s\u001b[0m 146ms/step - loss: 0.0016\n",
      "Epoch 43/50\n",
      "\u001b[1m74/74\u001b[0m \u001b[32m━━━━━━━━━━━━━━━━━━━━\u001b[0m\u001b[37m\u001b[0m \u001b[1m11s\u001b[0m 148ms/step - loss: 0.0014\n",
      "Epoch 44/50\n",
      "\u001b[1m74/74\u001b[0m \u001b[32m━━━━━━━━━━━━━━━━━━━━\u001b[0m\u001b[37m\u001b[0m \u001b[1m11s\u001b[0m 144ms/step - loss: 0.0012\n",
      "Epoch 45/50\n",
      "\u001b[1m74/74\u001b[0m \u001b[32m━━━━━━━━━━━━━━━━━━━━\u001b[0m\u001b[37m\u001b[0m \u001b[1m11s\u001b[0m 144ms/step - loss: 0.0013\n",
      "Epoch 46/50\n",
      "\u001b[1m74/74\u001b[0m \u001b[32m━━━━━━━━━━━━━━━━━━━━\u001b[0m\u001b[37m\u001b[0m \u001b[1m11s\u001b[0m 148ms/step - loss: 0.0013\n",
      "Epoch 47/50\n",
      "\u001b[1m74/74\u001b[0m \u001b[32m━━━━━━━━━━━━━━━━━━━━\u001b[0m\u001b[37m\u001b[0m \u001b[1m11s\u001b[0m 147ms/step - loss: 0.0013\n",
      "Epoch 48/50\n",
      "\u001b[1m74/74\u001b[0m \u001b[32m━━━━━━━━━━━━━━━━━━━━\u001b[0m\u001b[37m\u001b[0m \u001b[1m11s\u001b[0m 142ms/step - loss: 0.0016\n",
      "Epoch 49/50\n",
      "\u001b[1m74/74\u001b[0m \u001b[32m━━━━━━━━━━━━━━━━━━━━\u001b[0m\u001b[37m\u001b[0m \u001b[1m11s\u001b[0m 149ms/step - loss: 0.0014\n",
      "Epoch 50/50\n",
      "\u001b[1m74/74\u001b[0m \u001b[32m━━━━━━━━━━━━━━━━━━━━\u001b[0m\u001b[37m\u001b[0m \u001b[1m11s\u001b[0m 146ms/step - loss: 0.0012\n"
     ]
    },
    {
     "data": {
      "text/plain": [
       "<keras.src.callbacks.history.History at 0x21ffec8d390>"
      ]
     },
     "execution_count": 29,
     "metadata": {},
     "output_type": "execute_result"
    }
   ],
   "source": [
    "model.compile(optimizer='adam',loss='mean_squared_error')\n",
    "model.fit(x_train,y_train,epochs=50)"
   ]
  },
  {
   "cell_type": "code",
   "execution_count": 30,
   "metadata": {
    "colab": {
     "base_uri": "https://localhost:8080/"
    },
    "id": "2vKrceCks4ay",
    "outputId": "42d755d7-914c-4466-a74f-38b6a31a7be4"
   },
   "outputs": [
    {
     "name": "stderr",
     "output_type": "stream",
     "text": [
      "WARNING:absl:You are saving your model as an HDF5 file via `model.save()` or `keras.saving.save_model(model)`. This file format is considered legacy. We recommend using instead the native Keras format, e.g. `model.save('my_model.keras')` or `keras.saving.save_model(model, 'my_model.keras')`. \n"
     ]
    }
   ],
   "source": [
    "model.save('keras_model.h5')"
   ]
  },
  {
   "cell_type": "code",
   "execution_count": 31,
   "metadata": {
    "colab": {
     "base_uri": "https://localhost:8080/",
     "height": 206
    },
    "id": "1sLpdU_CxxJM",
    "outputId": "18fdc2f7-ebbc-4ac2-95d3-d503f4608b66"
   },
   "outputs": [
    {
     "data": {
      "text/html": [
       "<div>\n",
       "<style scoped>\n",
       "    .dataframe tbody tr th:only-of-type {\n",
       "        vertical-align: middle;\n",
       "    }\n",
       "\n",
       "    .dataframe tbody tr th {\n",
       "        vertical-align: top;\n",
       "    }\n",
       "\n",
       "    .dataframe thead th {\n",
       "        text-align: right;\n",
       "    }\n",
       "</style>\n",
       "<table border=\"1\" class=\"dataframe\">\n",
       "  <thead>\n",
       "    <tr style=\"text-align: right;\">\n",
       "      <th></th>\n",
       "      <th>Close</th>\n",
       "    </tr>\n",
       "  </thead>\n",
       "  <tbody>\n",
       "    <tr>\n",
       "      <th>2466</th>\n",
       "      <td>49.680668</td>\n",
       "    </tr>\n",
       "    <tr>\n",
       "      <th>2467</th>\n",
       "      <td>50.259335</td>\n",
       "    </tr>\n",
       "    <tr>\n",
       "      <th>2468</th>\n",
       "      <td>49.757332</td>\n",
       "    </tr>\n",
       "    <tr>\n",
       "      <th>2469</th>\n",
       "      <td>45.781334</td>\n",
       "    </tr>\n",
       "    <tr>\n",
       "      <th>2470</th>\n",
       "      <td>48.807335</td>\n",
       "    </tr>\n",
       "  </tbody>\n",
       "</table>\n",
       "</div>"
      ],
      "text/plain": [
       "          Close\n",
       "2466  49.680668\n",
       "2467  50.259335\n",
       "2468  49.757332\n",
       "2469  45.781334\n",
       "2470  48.807335"
      ]
     },
     "execution_count": 31,
     "metadata": {},
     "output_type": "execute_result"
    }
   ],
   "source": [
    "data_testing.head()"
   ]
  },
  {
   "cell_type": "code",
   "execution_count": 32,
   "metadata": {
    "id": "Ex_hHraGx6EQ"
   },
   "outputs": [],
   "source": [
    "past_100_days=data_training.tail(100)"
   ]
  },
  {
   "cell_type": "code",
   "execution_count": 35,
   "metadata": {
    "id": "qFahddNMyD5V"
   },
   "outputs": [],
   "source": [
    "final_df = pd.concat([past_100_days, data_testing], ignore_index=True)"
   ]
  },
  {
   "cell_type": "code",
   "execution_count": 36,
   "metadata": {
    "colab": {
     "base_uri": "https://localhost:8080/",
     "height": 206
    },
    "id": "expXpXhaylHN",
    "outputId": "b15b5460-39e7-4256-95ea-0449a3e9cd74"
   },
   "outputs": [
    {
     "data": {
      "text/html": [
       "<div>\n",
       "<style scoped>\n",
       "    .dataframe tbody tr th:only-of-type {\n",
       "        vertical-align: middle;\n",
       "    }\n",
       "\n",
       "    .dataframe tbody tr th {\n",
       "        vertical-align: top;\n",
       "    }\n",
       "\n",
       "    .dataframe thead th {\n",
       "        text-align: right;\n",
       "    }\n",
       "</style>\n",
       "<table border=\"1\" class=\"dataframe\">\n",
       "  <thead>\n",
       "    <tr style=\"text-align: right;\">\n",
       "      <th></th>\n",
       "      <th>Close</th>\n",
       "    </tr>\n",
       "  </thead>\n",
       "  <tbody>\n",
       "    <tr>\n",
       "      <th>0</th>\n",
       "      <td>23.481333</td>\n",
       "    </tr>\n",
       "    <tr>\n",
       "      <th>1</th>\n",
       "      <td>23.655333</td>\n",
       "    </tr>\n",
       "    <tr>\n",
       "      <th>2</th>\n",
       "      <td>22.202667</td>\n",
       "    </tr>\n",
       "    <tr>\n",
       "      <th>3</th>\n",
       "      <td>22.422667</td>\n",
       "    </tr>\n",
       "    <tr>\n",
       "      <th>4</th>\n",
       "      <td>21.927999</td>\n",
       "    </tr>\n",
       "  </tbody>\n",
       "</table>\n",
       "</div>"
      ],
      "text/plain": [
       "       Close\n",
       "0  23.481333\n",
       "1  23.655333\n",
       "2  22.202667\n",
       "3  22.422667\n",
       "4  21.927999"
      ]
     },
     "execution_count": 36,
     "metadata": {},
     "output_type": "execute_result"
    }
   ],
   "source": [
    "final_df.head()"
   ]
  },
  {
   "cell_type": "code",
   "execution_count": 37,
   "metadata": {
    "colab": {
     "base_uri": "https://localhost:8080/"
    },
    "id": "OmQHwj4nymz4",
    "outputId": "763449a8-12f7-4099-905e-c64f0f1ccc07"
   },
   "outputs": [
    {
     "data": {
      "text/plain": [
       "array([[0.004003  ],\n",
       "       [0.00445141],\n",
       "       [0.00070783],\n",
       "       ...,\n",
       "       [0.44954411],\n",
       "       [0.45225001],\n",
       "       [0.45343546]])"
      ]
     },
     "execution_count": 37,
     "metadata": {},
     "output_type": "execute_result"
    }
   ],
   "source": [
    "input_data=scaler.fit_transform(final_df)\n",
    "input_data"
   ]
  },
  {
   "cell_type": "code",
   "execution_count": 38,
   "metadata": {
    "colab": {
     "base_uri": "https://localhost:8080/"
    },
    "id": "RuWHCNRxyrGM",
    "outputId": "7bd40fe5-e2d6-401c-f2af-cd0118ff471d"
   },
   "outputs": [
    {
     "data": {
      "text/plain": [
       "(1158, 1)"
      ]
     },
     "execution_count": 38,
     "metadata": {},
     "output_type": "execute_result"
    }
   ],
   "source": [
    "input_data.shape"
   ]
  },
  {
   "cell_type": "code",
   "execution_count": 39,
   "metadata": {
    "id": "zGYZ0lTtytsp"
   },
   "outputs": [],
   "source": [
    "x_test=[]\n",
    "y_test=[]\n",
    "\n",
    "for i in range(100,input_data.shape[0]):\n",
    "    x_test.append(input_data[i-100:i])\n",
    "    y_test.append(input_data[i,0])"
   ]
  },
  {
   "cell_type": "code",
   "execution_count": 40,
   "metadata": {
    "colab": {
     "base_uri": "https://localhost:8080/"
    },
    "id": "bmXW3whBy15y",
    "outputId": "256aaeb9-1550-427b-aafb-624d9eda253d"
   },
   "outputs": [
    {
     "name": "stdout",
     "output_type": "stream",
     "text": [
      "(1058, 100, 1)\n",
      "(1058,)\n"
     ]
    }
   ],
   "source": [
    "x_test,y_test=np.array(x_test),np.array(y_test)\n",
    "print(x_test.shape)\n",
    "print(y_test.shape)"
   ]
  },
  {
   "cell_type": "code",
   "execution_count": 41,
   "metadata": {
    "colab": {
     "base_uri": "https://localhost:8080/"
    },
    "id": "HxuTtfsYy7DB",
    "outputId": "a79e3530-d42e-49ec-be9e-65c3dd16e093"
   },
   "outputs": [
    {
     "name": "stdout",
     "output_type": "stream",
     "text": [
      "\u001b[1m34/34\u001b[0m \u001b[32m━━━━━━━━━━━━━━━━━━━━\u001b[0m\u001b[37m\u001b[0m \u001b[1m2s\u001b[0m 48ms/step\n"
     ]
    }
   ],
   "source": [
    "y_predicted=model.predict(x_test)"
   ]
  },
  {
   "cell_type": "code",
   "execution_count": 42,
   "metadata": {
    "colab": {
     "base_uri": "https://localhost:8080/"
    },
    "id": "lSBfQEm8y9qI",
    "outputId": "0c5f2800-6bde-4c6f-e9f5-04a127835fc5"
   },
   "outputs": [
    {
     "data": {
      "text/plain": [
       "(1058, 1)"
      ]
     },
     "execution_count": 42,
     "metadata": {},
     "output_type": "execute_result"
    }
   ],
   "source": [
    "y_predicted.shape"
   ]
  },
  {
   "cell_type": "code",
   "execution_count": 43,
   "metadata": {
    "colab": {
     "base_uri": "https://localhost:8080/"
    },
    "id": "bqJdbSrFzA3F",
    "outputId": "08d2cc23-a508-4e4f-d4d3-19667163b24b"
   },
   "outputs": [
    {
     "data": {
      "text/plain": [
       "array([0.07151975, 0.073011  , 0.07171732, ..., 0.44954411, 0.45225001,\n",
       "       0.45343546])"
      ]
     },
     "execution_count": 43,
     "metadata": {},
     "output_type": "execute_result"
    }
   ],
   "source": [
    "y_test"
   ]
  },
  {
   "cell_type": "code",
   "execution_count": 44,
   "metadata": {
    "colab": {
     "base_uri": "https://localhost:8080/"
    },
    "id": "fbh6vLpyzCx6",
    "outputId": "35690608-9234-4218-f269-7e9dae7d216b"
   },
   "outputs": [
    {
     "data": {
      "text/plain": [
       "array([[0.05815917],\n",
       "       [0.05673712],\n",
       "       [0.05584977],\n",
       "       ...,\n",
       "       [0.43533725],\n",
       "       [0.4401455 ],\n",
       "       [0.44633758]], dtype=float32)"
      ]
     },
     "execution_count": 44,
     "metadata": {},
     "output_type": "execute_result"
    }
   ],
   "source": [
    "y_predicted"
   ]
  },
  {
   "cell_type": "code",
   "execution_count": 45,
   "metadata": {
    "colab": {
     "base_uri": "https://localhost:8080/"
    },
    "id": "NrXKNqaPzEuB",
    "outputId": "6cfa9593-5402-4e98-a4b7-0b0938a8d32e"
   },
   "outputs": [
    {
     "data": {
      "text/plain": [
       "array([0.00257704])"
      ]
     },
     "execution_count": 45,
     "metadata": {},
     "output_type": "execute_result"
    }
   ],
   "source": [
    "scaler.scale_"
   ]
  },
  {
   "cell_type": "code",
   "execution_count": 46,
   "metadata": {
    "id": "oUXUjwSlzH6P"
   },
   "outputs": [],
   "source": [
    "scale_factor=1/0.00257704"
   ]
  },
  {
   "cell_type": "code",
   "execution_count": 47,
   "metadata": {
    "id": "aiYPzRg3zOUN"
   },
   "outputs": [],
   "source": [
    "y_predicted=y_predicted*scale_factor\n",
    "y_test=y_test*scale_factor\n"
   ]
  },
  {
   "cell_type": "code",
   "execution_count": 48,
   "metadata": {
    "colab": {
     "base_uri": "https://localhost:8080/",
     "height": 483
    },
    "id": "OeXmPWZMzQ7c",
    "outputId": "9e86688e-25cb-4a57-9d0c-e74085293106"
   },
   "outputs": [
    {
     "data": {
      "text/plain": [
       "<matplotlib.legend.Legend at 0x21ffec5b790>"
      ]
     },
     "execution_count": 48,
     "metadata": {},
     "output_type": "execute_result"
    },
    {
     "data": {
      "image/png": "[encoded data removed]",
      "text/plain": [
       "<Figure size 1200x600 with 1 Axes>"
      ]
     },
     "metadata": {},
     "output_type": "display_data"
    }
   ],
   "source": [
    "plt.figure(figsize=(12,6))\n",
    "plt.plot(y_test,'b',label='Original Price')\n",
    "plt.plot(y_predicted,'r',label='Predicted Price')\n",
    "plt.xlabel('Time')\n",
    "plt.ylabel('Price')\n",
    "plt.legend()"
   ]
  },
  {
   "cell_type": "code",
   "execution_count": null,
   "metadata": {
    "id": "DOnpnSwLzRVM"
   },
   "outputs": [],
   "source": []
  }
 ],
 "metadata": {
  "colab": {
   "provenance": []
  },
  "kernelspec": {
   "display_name": "Python 3 (ipykernel)",
   "language": "python",
   "name": "python3"
  },
  "language_info": {
   "codemirror_mode": {
    "name": "ipython",
    "version": 3
   },
   "file_extension": ".py",
   "mimetype": "text/x-python",
   "name": "python",
   "nbconvert_exporter": "python",
   "pygments_lexer": "ipython3",
   "version": "3.11.7"
  }
 },
 "nbformat": 4,
 "nbformat_minor": 4
}
